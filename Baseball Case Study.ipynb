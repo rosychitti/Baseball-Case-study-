{
 "cells": [
  {
   "cell_type": "markdown",
   "id": "ae812d98",
   "metadata": {},
   "source": [
    "#     Baseball Case Study"
   ]
  },
  {
   "cell_type": "markdown",
   "id": "6b5cbd79",
   "metadata": {},
   "source": [
    "This dataset utilizes data from 2014 Major League Baseball seasons in order to develop an algorithm that predicts the number of wins for a given team in the 2015 season based on several different indicators of success. There are 16 different features that will be used as the inputs to the machine learning and the output will be a value that represents the number of wins. "
   ]
  },
  {
   "cell_type": "markdown",
   "id": "5cb2e2a9",
   "metadata": {},
   "source": [
    " Input features: Runs, At Bats, Hits, Doubles, Triples, Homeruns, Walks, Strikeouts, Stolen Bases, Runs Allowed, Earned Runs, Earned Run Average (ERA), Shutouts, Saves, Complete Games and Errors"
   ]
  },
  {
   "cell_type": "markdown",
   "id": "2d0e1897",
   "metadata": {},
   "source": [
    "Output: Number of predicted wins (W)"
   ]
  },
  {
   "cell_type": "markdown",
   "id": "fe04a233",
   "metadata": {},
   "source": [
    "1.a player who leads the league in all of these three statistics earns the \"Triple Crown\".\n",
    "\n",
    "2.For pitchers, wins, ERA, and strikeouts are the most often-cited statistics, and a pitcher leading his league in these statistics may also be referred to as a \"triple crown\" winner.\n",
    "\n",
    "3.General managers and baseball scouts have long used the major statistics, among other factors and opinions, to understand player value. Managers, catchers and pitchers use the statistics of batters of opposing teams to develop pitching strategies and set defensive positioning on the field. Managers and batters study opposing pitcher performance and motions in attempting to improve hitting.\n"
   ]
  },
  {
   "cell_type": "markdown",
   "id": "7bc8c486",
   "metadata": {},
   "source": [
    "# Commonly Used Statistics:"
   ]
  },
  {
   "cell_type": "markdown",
   "id": "fdc3d1e3",
   "metadata": {},
   "source": [
    "Most of these terms also apply to softball. Commonly used statistics with their abbreviations are explained here. The explanations below are for quick reference and do not fully or completely define the statistic\n",
    "\n",
    " 1.Batting Statistics.\n",
    " \n",
    " 2.BaseRunning Statistics.\n",
    " \n",
    " 3.Pitching Statistics.\n",
    " \n",
    " 4.Fielding Statistics.\n",
    " \n",
    " 5.Overall Player Value.\n",
    " \n",
    " 6.General Statistics."
   ]
  },
  {
   "cell_type": "markdown",
   "id": "a3b5cea5",
   "metadata": {},
   "source": [
    "MLB Statistical Standards:\n",
    "    \n",
    "    It is difficult to determine quantitatively what is considered to be a \"good\" value in a certain statistical category, and qualitative assessments may lead to arguments. Using full-season statistics available at the Official Site of Major League Baseball.\n",
    " \n",
    " \n",
    " For each statistic, two values are given:\n",
    "\n",
    "Top5: the top five players bettered this value in all of the reported seasons\n",
    "Best: this is the best of all of the players for all of the reported seasons\n",
    "Batting Statistics\n",
    "Statistic\tTop5\tBest\n",
    "BA\t.322\t.372\n",
    "HR\t41\t58\n",
    "RBI\t116\t156\n",
    "SLG\t.568\t.812\n",
    "SB\t42\t78\n",
    "OPS\t.974\t1.422\n",
    "Pitching Statistics\n",
    "Statistic\tTop5\tBest\n",
    "CG\t4\t11\n",
    "ERA\t2.38\t1.66\n",
    "G\t89\t94\n",
    "GS\t34\t35\n",
    "IP\t227.2\t255\n",
    "K\t245\t301\n",
    "SHO\t2\t6\n",
    "SV\t44\t62\n",
    "W\t19\t24\n",
    "WHIP\t0.98\t0.84\n"
   ]
  },
  {
   "cell_type": "markdown",
   "id": "7a637f5d",
   "metadata": {},
   "source": [
    "Baseball statistics play an important role in evaluating the progress of a player or team"
   ]
  },
  {
   "cell_type": "code",
   "execution_count": 2,
   "id": "498a6a76",
   "metadata": {},
   "outputs": [],
   "source": [
    "import pandas as pd\n",
    "import numpy as np\n"
   ]
  },
  {
   "cell_type": "code",
   "execution_count": 3,
   "id": "d61b23c1",
   "metadata": {},
   "outputs": [],
   "source": [
    "df=pd.read_csv(\"https://raw.githubusercontent.com/dsrscientist/Data-Science-ML-Capstone-Projects/master/baseball.csv\")"
   ]
  },
  {
   "cell_type": "code",
   "execution_count": 4,
   "id": "55d38789",
   "metadata": {},
   "outputs": [
    {
     "data": {
      "text/plain": [
       "pandas.core.frame.DataFrame"
      ]
     },
     "execution_count": 4,
     "metadata": {},
     "output_type": "execute_result"
    }
   ],
   "source": [
    "type(df)"
   ]
  },
  {
   "cell_type": "code",
   "execution_count": 5,
   "id": "04c2b5c5",
   "metadata": {},
   "outputs": [
    {
     "data": {
      "text/html": [
       "<div>\n",
       "<style scoped>\n",
       "    .dataframe tbody tr th:only-of-type {\n",
       "        vertical-align: middle;\n",
       "    }\n",
       "\n",
       "    .dataframe tbody tr th {\n",
       "        vertical-align: top;\n",
       "    }\n",
       "\n",
       "    .dataframe thead th {\n",
       "        text-align: right;\n",
       "    }\n",
       "</style>\n",
       "<table border=\"1\" class=\"dataframe\">\n",
       "  <thead>\n",
       "    <tr style=\"text-align: right;\">\n",
       "      <th></th>\n",
       "      <th>W</th>\n",
       "      <th>R</th>\n",
       "      <th>AB</th>\n",
       "      <th>H</th>\n",
       "      <th>2B</th>\n",
       "      <th>3B</th>\n",
       "      <th>HR</th>\n",
       "      <th>BB</th>\n",
       "      <th>SO</th>\n",
       "      <th>SB</th>\n",
       "      <th>RA</th>\n",
       "      <th>ER</th>\n",
       "      <th>ERA</th>\n",
       "      <th>CG</th>\n",
       "      <th>SHO</th>\n",
       "      <th>SV</th>\n",
       "      <th>E</th>\n",
       "    </tr>\n",
       "  </thead>\n",
       "  <tbody>\n",
       "    <tr>\n",
       "      <th>0</th>\n",
       "      <td>95</td>\n",
       "      <td>724</td>\n",
       "      <td>5575</td>\n",
       "      <td>1497</td>\n",
       "      <td>300</td>\n",
       "      <td>42</td>\n",
       "      <td>139</td>\n",
       "      <td>383</td>\n",
       "      <td>973</td>\n",
       "      <td>104</td>\n",
       "      <td>641</td>\n",
       "      <td>601</td>\n",
       "      <td>3.73</td>\n",
       "      <td>2</td>\n",
       "      <td>8</td>\n",
       "      <td>56</td>\n",
       "      <td>88</td>\n",
       "    </tr>\n",
       "    <tr>\n",
       "      <th>1</th>\n",
       "      <td>83</td>\n",
       "      <td>696</td>\n",
       "      <td>5467</td>\n",
       "      <td>1349</td>\n",
       "      <td>277</td>\n",
       "      <td>44</td>\n",
       "      <td>156</td>\n",
       "      <td>439</td>\n",
       "      <td>1264</td>\n",
       "      <td>70</td>\n",
       "      <td>700</td>\n",
       "      <td>653</td>\n",
       "      <td>4.07</td>\n",
       "      <td>2</td>\n",
       "      <td>12</td>\n",
       "      <td>45</td>\n",
       "      <td>86</td>\n",
       "    </tr>\n",
       "    <tr>\n",
       "      <th>2</th>\n",
       "      <td>81</td>\n",
       "      <td>669</td>\n",
       "      <td>5439</td>\n",
       "      <td>1395</td>\n",
       "      <td>303</td>\n",
       "      <td>29</td>\n",
       "      <td>141</td>\n",
       "      <td>533</td>\n",
       "      <td>1157</td>\n",
       "      <td>86</td>\n",
       "      <td>640</td>\n",
       "      <td>584</td>\n",
       "      <td>3.67</td>\n",
       "      <td>11</td>\n",
       "      <td>10</td>\n",
       "      <td>38</td>\n",
       "      <td>79</td>\n",
       "    </tr>\n",
       "    <tr>\n",
       "      <th>3</th>\n",
       "      <td>76</td>\n",
       "      <td>622</td>\n",
       "      <td>5533</td>\n",
       "      <td>1381</td>\n",
       "      <td>260</td>\n",
       "      <td>27</td>\n",
       "      <td>136</td>\n",
       "      <td>404</td>\n",
       "      <td>1231</td>\n",
       "      <td>68</td>\n",
       "      <td>701</td>\n",
       "      <td>643</td>\n",
       "      <td>3.98</td>\n",
       "      <td>7</td>\n",
       "      <td>9</td>\n",
       "      <td>37</td>\n",
       "      <td>101</td>\n",
       "    </tr>\n",
       "    <tr>\n",
       "      <th>4</th>\n",
       "      <td>74</td>\n",
       "      <td>689</td>\n",
       "      <td>5605</td>\n",
       "      <td>1515</td>\n",
       "      <td>289</td>\n",
       "      <td>49</td>\n",
       "      <td>151</td>\n",
       "      <td>455</td>\n",
       "      <td>1259</td>\n",
       "      <td>83</td>\n",
       "      <td>803</td>\n",
       "      <td>746</td>\n",
       "      <td>4.64</td>\n",
       "      <td>7</td>\n",
       "      <td>12</td>\n",
       "      <td>35</td>\n",
       "      <td>86</td>\n",
       "    </tr>\n",
       "    <tr>\n",
       "      <th>5</th>\n",
       "      <td>93</td>\n",
       "      <td>891</td>\n",
       "      <td>5509</td>\n",
       "      <td>1480</td>\n",
       "      <td>308</td>\n",
       "      <td>17</td>\n",
       "      <td>232</td>\n",
       "      <td>570</td>\n",
       "      <td>1151</td>\n",
       "      <td>88</td>\n",
       "      <td>670</td>\n",
       "      <td>609</td>\n",
       "      <td>3.80</td>\n",
       "      <td>7</td>\n",
       "      <td>10</td>\n",
       "      <td>34</td>\n",
       "      <td>88</td>\n",
       "    </tr>\n",
       "    <tr>\n",
       "      <th>6</th>\n",
       "      <td>87</td>\n",
       "      <td>764</td>\n",
       "      <td>5567</td>\n",
       "      <td>1397</td>\n",
       "      <td>272</td>\n",
       "      <td>19</td>\n",
       "      <td>212</td>\n",
       "      <td>554</td>\n",
       "      <td>1227</td>\n",
       "      <td>63</td>\n",
       "      <td>698</td>\n",
       "      <td>652</td>\n",
       "      <td>4.03</td>\n",
       "      <td>3</td>\n",
       "      <td>4</td>\n",
       "      <td>48</td>\n",
       "      <td>93</td>\n",
       "    </tr>\n",
       "    <tr>\n",
       "      <th>7</th>\n",
       "      <td>81</td>\n",
       "      <td>713</td>\n",
       "      <td>5485</td>\n",
       "      <td>1370</td>\n",
       "      <td>246</td>\n",
       "      <td>20</td>\n",
       "      <td>217</td>\n",
       "      <td>418</td>\n",
       "      <td>1331</td>\n",
       "      <td>44</td>\n",
       "      <td>693</td>\n",
       "      <td>646</td>\n",
       "      <td>4.05</td>\n",
       "      <td>0</td>\n",
       "      <td>10</td>\n",
       "      <td>43</td>\n",
       "      <td>77</td>\n",
       "    </tr>\n",
       "    <tr>\n",
       "      <th>8</th>\n",
       "      <td>80</td>\n",
       "      <td>644</td>\n",
       "      <td>5485</td>\n",
       "      <td>1383</td>\n",
       "      <td>278</td>\n",
       "      <td>32</td>\n",
       "      <td>167</td>\n",
       "      <td>436</td>\n",
       "      <td>1310</td>\n",
       "      <td>87</td>\n",
       "      <td>642</td>\n",
       "      <td>604</td>\n",
       "      <td>3.74</td>\n",
       "      <td>1</td>\n",
       "      <td>12</td>\n",
       "      <td>60</td>\n",
       "      <td>95</td>\n",
       "    </tr>\n",
       "    <tr>\n",
       "      <th>9</th>\n",
       "      <td>78</td>\n",
       "      <td>748</td>\n",
       "      <td>5640</td>\n",
       "      <td>1495</td>\n",
       "      <td>294</td>\n",
       "      <td>33</td>\n",
       "      <td>161</td>\n",
       "      <td>478</td>\n",
       "      <td>1148</td>\n",
       "      <td>71</td>\n",
       "      <td>753</td>\n",
       "      <td>694</td>\n",
       "      <td>4.31</td>\n",
       "      <td>3</td>\n",
       "      <td>10</td>\n",
       "      <td>40</td>\n",
       "      <td>97</td>\n",
       "    </tr>\n",
       "    <tr>\n",
       "      <th>10</th>\n",
       "      <td>88</td>\n",
       "      <td>751</td>\n",
       "      <td>5511</td>\n",
       "      <td>1419</td>\n",
       "      <td>279</td>\n",
       "      <td>32</td>\n",
       "      <td>172</td>\n",
       "      <td>503</td>\n",
       "      <td>1233</td>\n",
       "      <td>101</td>\n",
       "      <td>733</td>\n",
       "      <td>680</td>\n",
       "      <td>4.24</td>\n",
       "      <td>5</td>\n",
       "      <td>9</td>\n",
       "      <td>45</td>\n",
       "      <td>119</td>\n",
       "    </tr>\n",
       "    <tr>\n",
       "      <th>11</th>\n",
       "      <td>86</td>\n",
       "      <td>729</td>\n",
       "      <td>5459</td>\n",
       "      <td>1363</td>\n",
       "      <td>278</td>\n",
       "      <td>26</td>\n",
       "      <td>230</td>\n",
       "      <td>486</td>\n",
       "      <td>1392</td>\n",
       "      <td>121</td>\n",
       "      <td>618</td>\n",
       "      <td>572</td>\n",
       "      <td>3.57</td>\n",
       "      <td>5</td>\n",
       "      <td>13</td>\n",
       "      <td>39</td>\n",
       "      <td>85</td>\n",
       "    </tr>\n",
       "    <tr>\n",
       "      <th>12</th>\n",
       "      <td>85</td>\n",
       "      <td>661</td>\n",
       "      <td>5417</td>\n",
       "      <td>1331</td>\n",
       "      <td>243</td>\n",
       "      <td>21</td>\n",
       "      <td>176</td>\n",
       "      <td>435</td>\n",
       "      <td>1150</td>\n",
       "      <td>52</td>\n",
       "      <td>675</td>\n",
       "      <td>630</td>\n",
       "      <td>3.94</td>\n",
       "      <td>2</td>\n",
       "      <td>12</td>\n",
       "      <td>46</td>\n",
       "      <td>93</td>\n",
       "    </tr>\n",
       "    <tr>\n",
       "      <th>13</th>\n",
       "      <td>76</td>\n",
       "      <td>656</td>\n",
       "      <td>5544</td>\n",
       "      <td>1379</td>\n",
       "      <td>262</td>\n",
       "      <td>22</td>\n",
       "      <td>198</td>\n",
       "      <td>478</td>\n",
       "      <td>1336</td>\n",
       "      <td>69</td>\n",
       "      <td>726</td>\n",
       "      <td>677</td>\n",
       "      <td>4.16</td>\n",
       "      <td>6</td>\n",
       "      <td>12</td>\n",
       "      <td>45</td>\n",
       "      <td>94</td>\n",
       "    </tr>\n",
       "    <tr>\n",
       "      <th>14</th>\n",
       "      <td>68</td>\n",
       "      <td>694</td>\n",
       "      <td>5600</td>\n",
       "      <td>1405</td>\n",
       "      <td>277</td>\n",
       "      <td>46</td>\n",
       "      <td>146</td>\n",
       "      <td>475</td>\n",
       "      <td>1119</td>\n",
       "      <td>78</td>\n",
       "      <td>729</td>\n",
       "      <td>664</td>\n",
       "      <td>4.14</td>\n",
       "      <td>5</td>\n",
       "      <td>15</td>\n",
       "      <td>28</td>\n",
       "      <td>126</td>\n",
       "    </tr>\n",
       "    <tr>\n",
       "      <th>15</th>\n",
       "      <td>100</td>\n",
       "      <td>647</td>\n",
       "      <td>5484</td>\n",
       "      <td>1386</td>\n",
       "      <td>288</td>\n",
       "      <td>39</td>\n",
       "      <td>137</td>\n",
       "      <td>506</td>\n",
       "      <td>1267</td>\n",
       "      <td>69</td>\n",
       "      <td>525</td>\n",
       "      <td>478</td>\n",
       "      <td>2.94</td>\n",
       "      <td>1</td>\n",
       "      <td>15</td>\n",
       "      <td>62</td>\n",
       "      <td>96</td>\n",
       "    </tr>\n",
       "    <tr>\n",
       "      <th>16</th>\n",
       "      <td>98</td>\n",
       "      <td>697</td>\n",
       "      <td>5631</td>\n",
       "      <td>1462</td>\n",
       "      <td>292</td>\n",
       "      <td>27</td>\n",
       "      <td>140</td>\n",
       "      <td>461</td>\n",
       "      <td>1322</td>\n",
       "      <td>98</td>\n",
       "      <td>596</td>\n",
       "      <td>532</td>\n",
       "      <td>3.21</td>\n",
       "      <td>0</td>\n",
       "      <td>13</td>\n",
       "      <td>54</td>\n",
       "      <td>122</td>\n",
       "    </tr>\n",
       "    <tr>\n",
       "      <th>17</th>\n",
       "      <td>97</td>\n",
       "      <td>689</td>\n",
       "      <td>5491</td>\n",
       "      <td>1341</td>\n",
       "      <td>272</td>\n",
       "      <td>30</td>\n",
       "      <td>171</td>\n",
       "      <td>567</td>\n",
       "      <td>1518</td>\n",
       "      <td>95</td>\n",
       "      <td>608</td>\n",
       "      <td>546</td>\n",
       "      <td>3.36</td>\n",
       "      <td>6</td>\n",
       "      <td>21</td>\n",
       "      <td>48</td>\n",
       "      <td>111</td>\n",
       "    </tr>\n",
       "    <tr>\n",
       "      <th>18</th>\n",
       "      <td>68</td>\n",
       "      <td>655</td>\n",
       "      <td>5480</td>\n",
       "      <td>1378</td>\n",
       "      <td>274</td>\n",
       "      <td>34</td>\n",
       "      <td>145</td>\n",
       "      <td>412</td>\n",
       "      <td>1299</td>\n",
       "      <td>84</td>\n",
       "      <td>737</td>\n",
       "      <td>682</td>\n",
       "      <td>4.28</td>\n",
       "      <td>1</td>\n",
       "      <td>7</td>\n",
       "      <td>40</td>\n",
       "      <td>116</td>\n",
       "    </tr>\n",
       "    <tr>\n",
       "      <th>19</th>\n",
       "      <td>64</td>\n",
       "      <td>640</td>\n",
       "      <td>5571</td>\n",
       "      <td>1382</td>\n",
       "      <td>257</td>\n",
       "      <td>27</td>\n",
       "      <td>167</td>\n",
       "      <td>496</td>\n",
       "      <td>1255</td>\n",
       "      <td>134</td>\n",
       "      <td>754</td>\n",
       "      <td>700</td>\n",
       "      <td>4.33</td>\n",
       "      <td>2</td>\n",
       "      <td>8</td>\n",
       "      <td>35</td>\n",
       "      <td>90</td>\n",
       "    </tr>\n",
       "    <tr>\n",
       "      <th>20</th>\n",
       "      <td>90</td>\n",
       "      <td>683</td>\n",
       "      <td>5527</td>\n",
       "      <td>1351</td>\n",
       "      <td>295</td>\n",
       "      <td>17</td>\n",
       "      <td>177</td>\n",
       "      <td>488</td>\n",
       "      <td>1290</td>\n",
       "      <td>51</td>\n",
       "      <td>613</td>\n",
       "      <td>557</td>\n",
       "      <td>3.43</td>\n",
       "      <td>1</td>\n",
       "      <td>14</td>\n",
       "      <td>50</td>\n",
       "      <td>88</td>\n",
       "    </tr>\n",
       "    <tr>\n",
       "      <th>21</th>\n",
       "      <td>83</td>\n",
       "      <td>703</td>\n",
       "      <td>5428</td>\n",
       "      <td>1363</td>\n",
       "      <td>265</td>\n",
       "      <td>13</td>\n",
       "      <td>177</td>\n",
       "      <td>539</td>\n",
       "      <td>1344</td>\n",
       "      <td>57</td>\n",
       "      <td>635</td>\n",
       "      <td>577</td>\n",
       "      <td>3.62</td>\n",
       "      <td>4</td>\n",
       "      <td>13</td>\n",
       "      <td>41</td>\n",
       "      <td>90</td>\n",
       "    </tr>\n",
       "    <tr>\n",
       "      <th>22</th>\n",
       "      <td>71</td>\n",
       "      <td>613</td>\n",
       "      <td>5463</td>\n",
       "      <td>1420</td>\n",
       "      <td>236</td>\n",
       "      <td>40</td>\n",
       "      <td>120</td>\n",
       "      <td>375</td>\n",
       "      <td>1150</td>\n",
       "      <td>112</td>\n",
       "      <td>678</td>\n",
       "      <td>638</td>\n",
       "      <td>4.02</td>\n",
       "      <td>0</td>\n",
       "      <td>12</td>\n",
       "      <td>35</td>\n",
       "      <td>77</td>\n",
       "    </tr>\n",
       "    <tr>\n",
       "      <th>23</th>\n",
       "      <td>67</td>\n",
       "      <td>573</td>\n",
       "      <td>5420</td>\n",
       "      <td>1361</td>\n",
       "      <td>251</td>\n",
       "      <td>18</td>\n",
       "      <td>100</td>\n",
       "      <td>471</td>\n",
       "      <td>1107</td>\n",
       "      <td>69</td>\n",
       "      <td>760</td>\n",
       "      <td>698</td>\n",
       "      <td>4.41</td>\n",
       "      <td>3</td>\n",
       "      <td>10</td>\n",
       "      <td>44</td>\n",
       "      <td>90</td>\n",
       "    </tr>\n",
       "    <tr>\n",
       "      <th>24</th>\n",
       "      <td>63</td>\n",
       "      <td>626</td>\n",
       "      <td>5529</td>\n",
       "      <td>1374</td>\n",
       "      <td>272</td>\n",
       "      <td>37</td>\n",
       "      <td>130</td>\n",
       "      <td>387</td>\n",
       "      <td>1274</td>\n",
       "      <td>88</td>\n",
       "      <td>809</td>\n",
       "      <td>749</td>\n",
       "      <td>4.69</td>\n",
       "      <td>1</td>\n",
       "      <td>7</td>\n",
       "      <td>35</td>\n",
       "      <td>117</td>\n",
       "    </tr>\n",
       "    <tr>\n",
       "      <th>25</th>\n",
       "      <td>92</td>\n",
       "      <td>667</td>\n",
       "      <td>5385</td>\n",
       "      <td>1346</td>\n",
       "      <td>263</td>\n",
       "      <td>26</td>\n",
       "      <td>187</td>\n",
       "      <td>563</td>\n",
       "      <td>1258</td>\n",
       "      <td>59</td>\n",
       "      <td>595</td>\n",
       "      <td>553</td>\n",
       "      <td>3.44</td>\n",
       "      <td>6</td>\n",
       "      <td>21</td>\n",
       "      <td>47</td>\n",
       "      <td>75</td>\n",
       "    </tr>\n",
       "    <tr>\n",
       "      <th>26</th>\n",
       "      <td>84</td>\n",
       "      <td>696</td>\n",
       "      <td>5565</td>\n",
       "      <td>1486</td>\n",
       "      <td>288</td>\n",
       "      <td>39</td>\n",
       "      <td>136</td>\n",
       "      <td>457</td>\n",
       "      <td>1159</td>\n",
       "      <td>93</td>\n",
       "      <td>627</td>\n",
       "      <td>597</td>\n",
       "      <td>3.72</td>\n",
       "      <td>7</td>\n",
       "      <td>18</td>\n",
       "      <td>41</td>\n",
       "      <td>78</td>\n",
       "    </tr>\n",
       "    <tr>\n",
       "      <th>27</th>\n",
       "      <td>79</td>\n",
       "      <td>720</td>\n",
       "      <td>5649</td>\n",
       "      <td>1494</td>\n",
       "      <td>289</td>\n",
       "      <td>48</td>\n",
       "      <td>154</td>\n",
       "      <td>490</td>\n",
       "      <td>1312</td>\n",
       "      <td>132</td>\n",
       "      <td>713</td>\n",
       "      <td>659</td>\n",
       "      <td>4.04</td>\n",
       "      <td>1</td>\n",
       "      <td>12</td>\n",
       "      <td>44</td>\n",
       "      <td>86</td>\n",
       "    </tr>\n",
       "    <tr>\n",
       "      <th>28</th>\n",
       "      <td>74</td>\n",
       "      <td>650</td>\n",
       "      <td>5457</td>\n",
       "      <td>1324</td>\n",
       "      <td>260</td>\n",
       "      <td>36</td>\n",
       "      <td>148</td>\n",
       "      <td>426</td>\n",
       "      <td>1327</td>\n",
       "      <td>82</td>\n",
       "      <td>731</td>\n",
       "      <td>655</td>\n",
       "      <td>4.09</td>\n",
       "      <td>1</td>\n",
       "      <td>6</td>\n",
       "      <td>41</td>\n",
       "      <td>92</td>\n",
       "    </tr>\n",
       "    <tr>\n",
       "      <th>29</th>\n",
       "      <td>68</td>\n",
       "      <td>737</td>\n",
       "      <td>5572</td>\n",
       "      <td>1479</td>\n",
       "      <td>274</td>\n",
       "      <td>49</td>\n",
       "      <td>186</td>\n",
       "      <td>388</td>\n",
       "      <td>1283</td>\n",
       "      <td>97</td>\n",
       "      <td>844</td>\n",
       "      <td>799</td>\n",
       "      <td>5.04</td>\n",
       "      <td>4</td>\n",
       "      <td>4</td>\n",
       "      <td>36</td>\n",
       "      <td>95</td>\n",
       "    </tr>\n",
       "  </tbody>\n",
       "</table>\n",
       "</div>"
      ],
      "text/plain": [
       "      W    R    AB     H   2B  3B   HR   BB    SO   SB   RA   ER   ERA  CG  \\\n",
       "0    95  724  5575  1497  300  42  139  383   973  104  641  601  3.73   2   \n",
       "1    83  696  5467  1349  277  44  156  439  1264   70  700  653  4.07   2   \n",
       "2    81  669  5439  1395  303  29  141  533  1157   86  640  584  3.67  11   \n",
       "3    76  622  5533  1381  260  27  136  404  1231   68  701  643  3.98   7   \n",
       "4    74  689  5605  1515  289  49  151  455  1259   83  803  746  4.64   7   \n",
       "5    93  891  5509  1480  308  17  232  570  1151   88  670  609  3.80   7   \n",
       "6    87  764  5567  1397  272  19  212  554  1227   63  698  652  4.03   3   \n",
       "7    81  713  5485  1370  246  20  217  418  1331   44  693  646  4.05   0   \n",
       "8    80  644  5485  1383  278  32  167  436  1310   87  642  604  3.74   1   \n",
       "9    78  748  5640  1495  294  33  161  478  1148   71  753  694  4.31   3   \n",
       "10   88  751  5511  1419  279  32  172  503  1233  101  733  680  4.24   5   \n",
       "11   86  729  5459  1363  278  26  230  486  1392  121  618  572  3.57   5   \n",
       "12   85  661  5417  1331  243  21  176  435  1150   52  675  630  3.94   2   \n",
       "13   76  656  5544  1379  262  22  198  478  1336   69  726  677  4.16   6   \n",
       "14   68  694  5600  1405  277  46  146  475  1119   78  729  664  4.14   5   \n",
       "15  100  647  5484  1386  288  39  137  506  1267   69  525  478  2.94   1   \n",
       "16   98  697  5631  1462  292  27  140  461  1322   98  596  532  3.21   0   \n",
       "17   97  689  5491  1341  272  30  171  567  1518   95  608  546  3.36   6   \n",
       "18   68  655  5480  1378  274  34  145  412  1299   84  737  682  4.28   1   \n",
       "19   64  640  5571  1382  257  27  167  496  1255  134  754  700  4.33   2   \n",
       "20   90  683  5527  1351  295  17  177  488  1290   51  613  557  3.43   1   \n",
       "21   83  703  5428  1363  265  13  177  539  1344   57  635  577  3.62   4   \n",
       "22   71  613  5463  1420  236  40  120  375  1150  112  678  638  4.02   0   \n",
       "23   67  573  5420  1361  251  18  100  471  1107   69  760  698  4.41   3   \n",
       "24   63  626  5529  1374  272  37  130  387  1274   88  809  749  4.69   1   \n",
       "25   92  667  5385  1346  263  26  187  563  1258   59  595  553  3.44   6   \n",
       "26   84  696  5565  1486  288  39  136  457  1159   93  627  597  3.72   7   \n",
       "27   79  720  5649  1494  289  48  154  490  1312  132  713  659  4.04   1   \n",
       "28   74  650  5457  1324  260  36  148  426  1327   82  731  655  4.09   1   \n",
       "29   68  737  5572  1479  274  49  186  388  1283   97  844  799  5.04   4   \n",
       "\n",
       "    SHO  SV    E  \n",
       "0     8  56   88  \n",
       "1    12  45   86  \n",
       "2    10  38   79  \n",
       "3     9  37  101  \n",
       "4    12  35   86  \n",
       "5    10  34   88  \n",
       "6     4  48   93  \n",
       "7    10  43   77  \n",
       "8    12  60   95  \n",
       "9    10  40   97  \n",
       "10    9  45  119  \n",
       "11   13  39   85  \n",
       "12   12  46   93  \n",
       "13   12  45   94  \n",
       "14   15  28  126  \n",
       "15   15  62   96  \n",
       "16   13  54  122  \n",
       "17   21  48  111  \n",
       "18    7  40  116  \n",
       "19    8  35   90  \n",
       "20   14  50   88  \n",
       "21   13  41   90  \n",
       "22   12  35   77  \n",
       "23   10  44   90  \n",
       "24    7  35  117  \n",
       "25   21  47   75  \n",
       "26   18  41   78  \n",
       "27   12  44   86  \n",
       "28    6  41   92  \n",
       "29    4  36   95  "
      ]
     },
     "execution_count": 5,
     "metadata": {},
     "output_type": "execute_result"
    }
   ],
   "source": [
    "df"
   ]
  },
  {
   "cell_type": "code",
   "execution_count": 6,
   "id": "5a7af1be",
   "metadata": {},
   "outputs": [
    {
     "data": {
      "text/plain": [
       "Index(['W', 'R', 'AB', 'H', '2B', '3B', 'HR', 'BB', 'SO', 'SB', 'RA', 'ER',\n",
       "       'ERA', 'CG', 'SHO', 'SV', 'E'],\n",
       "      dtype='object')"
      ]
     },
     "execution_count": 6,
     "metadata": {},
     "output_type": "execute_result"
    }
   ],
   "source": [
    "df.columns"
   ]
  },
  {
   "cell_type": "markdown",
   "id": "4ad305a5",
   "metadata": {},
   "source": [
    "# About the Columns:"
   ]
  },
  {
   "cell_type": "markdown",
   "id": "a125efec",
   "metadata": {},
   "source": [
    "W Win: number of games where pitcher was pitching while their team took the lead and went on to win, also the starter needs to pitch at least 5 innings of work (also related: winning percentage)\n",
    "    \n",
    "Runs scored: number of times a player crosses home plate\n",
    "    \n",
    "AB – At bat: plate appearances, not including bases on balls, being hit by pitch, sacrifices, interference, or obstruction\n",
    "\n",
    "H – Hit: reaching base because of a batted, fair ball without error by the defense\n",
    "\n",
    "2B – Double: hits on which the batter reaches second base safely without the contribution of a fielding error\n",
    "    \n",
    "3B – Triple: hits on which the batter reaches third base safely without the contribution of a fielding error\n",
    "\n",
    "HR – Home runs: hits on which the batter successfully touched all four bases, without the contribution of a fielding error\n",
    "    \n",
    "BB – Base on balls (also called a \"walk\"): hitter not swinging at four pitches called out of the strike zone and awarded first base.\n",
    "\n",
    "SO – Save opportunity: When a pitcher 1) enters the game with a lead of three or fewer runs and pitches at least one inning, 2) enters the game with the potential tying run on base, at bat, or on deck, or 3) pitches three or more innings with a lead and is credited with a save by the official scorer\n",
    "    \n",
    "SB – Stolen base: number of bases advanced by the runner while the ball is in the possession of the defence\n",
    "    \n",
    "RA – Run average: number of runs allowed times nine divided by innings pitched\n",
    "\n",
    "ER – Earned run: number of runs that did not occur as a result of errors or passed balls\n",
    "    \n",
    "ERA – Earned run average: total number of earned runs (see \"ER\" above), multiplied by 9, divided by innings pitched\n",
    "\n",
    "CG – Complete game: number of games where player was the only pitcher for their team\n",
    "\n",
    "SHO – Shutout: number of complete games pitched with no runs allowed\n",
    "\n",
    "SV – Save: number of games where the pitcher enters a game led by the pitcher's team, finishes the game without surrendering the lead, is not the winning pitcher, and either (a) the lead was three runs or fewer when the pitcher entered the game; (b) the potential tying run was on base, at bat, or on deck; or (c) the pitcher pitched three or more innings\n",
    "    \n",
    "E – Errors: number of times a fielder fails to make a play he should have made with common effort, and the offense benefits as a result\n",
    "    "
   ]
  },
  {
   "cell_type": "code",
   "execution_count": 7,
   "id": "15a30d3a",
   "metadata": {},
   "outputs": [
    {
     "data": {
      "text/plain": [
       "W      0\n",
       "R      0\n",
       "AB     0\n",
       "H      0\n",
       "2B     0\n",
       "3B     0\n",
       "HR     0\n",
       "BB     0\n",
       "SO     0\n",
       "SB     0\n",
       "RA     0\n",
       "ER     0\n",
       "ERA    0\n",
       "CG     0\n",
       "SHO    0\n",
       "SV     0\n",
       "E      0\n",
       "dtype: int64"
      ]
     },
     "execution_count": 7,
     "metadata": {},
     "output_type": "execute_result"
    }
   ],
   "source": [
    "df.isnull().sum()"
   ]
  },
  {
   "cell_type": "markdown",
   "id": "004b9e38",
   "metadata": {},
   "source": [
    "# EDA"
   ]
  },
  {
   "cell_type": "markdown",
   "id": "df050501",
   "metadata": {},
   "source": [
    "Scatterplot:"
   ]
  },
  {
   "cell_type": "code",
   "execution_count": 8,
   "id": "b44dd000",
   "metadata": {},
   "outputs": [
    {
     "data": {
      "text/plain": [
       "<AxesSubplot:xlabel='W', ylabel='E'>"
      ]
     },
     "execution_count": 8,
     "metadata": {},
     "output_type": "execute_result"
    },
    {
     "data": {
      "image/png": "[encoded data removed]",
      "text/plain": [
       "<Figure size 432x288 with 1 Axes>"
      ]
     },
     "metadata": {
      "needs_background": "light"
     },
     "output_type": "display_data"
    }
   ],
   "source": [
    "import seaborn as sns\n",
    "sns.scatterplot(x=\"W\",y=\"E\",data=df)"
   ]
  },
  {
   "cell_type": "markdown",
   "id": "3650388f",
   "metadata": {},
   "source": [
    "We can see the number of W distributedin the range of  between 65 to 100"
   ]
  },
  {
   "cell_type": "code",
   "execution_count": 25,
   "id": "f1f1c47c",
   "metadata": {},
   "outputs": [
    {
     "data": {
      "text/plain": [
       "<AxesSubplot:xlabel='R', ylabel='E'>"
      ]
     },
     "execution_count": 25,
     "metadata": {},
     "output_type": "execute_result"
    },
    {
     "data": {
      "image/png": "[encoded data removed]",
      "text/plain": [
       "<Figure size 432x288 with 1 Axes>"
      ]
     },
     "metadata": {
      "needs_background": "light"
     },
     "output_type": "display_data"
    }
   ],
   "source": [
    "sns.scatterplot(x=\"R\",y=\"E\",data=df)"
   ]
  },
  {
   "cell_type": "markdown",
   "id": "218740a3",
   "metadata": {},
   "source": [
    "We can see the number of R distributed in the range of 600 to 890"
   ]
  },
  {
   "cell_type": "code",
   "execution_count": 10,
   "id": "0861e384",
   "metadata": {},
   "outputs": [
    {
     "data": {
      "text/plain": [
       "<AxesSubplot:xlabel='AB', ylabel='E'>"
      ]
     },
     "execution_count": 10,
     "metadata": {},
     "output_type": "execute_result"
    },
    {
     "data": {
      "image/png": "[encoded data removed]",
      "text/plain": [
       "<Figure size 432x288 with 1 Axes>"
      ]
     },
     "metadata": {
      "needs_background": "light"
     },
     "output_type": "display_data"
    }
   ],
   "source": [
    "sns.scatterplot(x=\"AB\",y=\"E\",data=df)"
   ]
  },
  {
   "cell_type": "markdown",
   "id": "fdb8f456",
   "metadata": {},
   "source": [
    "We can see the number of AB distributed in the range of 5000 to 5650"
   ]
  },
  {
   "cell_type": "code",
   "execution_count": 11,
   "id": "31df4ccb",
   "metadata": {},
   "outputs": [
    {
     "data": {
      "text/plain": [
       "<AxesSubplot:xlabel='H', ylabel='E'>"
      ]
     },
     "execution_count": 11,
     "metadata": {},
     "output_type": "execute_result"
    },
    {
     "data": {
      "image/png": "[encoded data removed]",
      "text/plain": [
       "<Figure size 432x288 with 1 Axes>"
      ]
     },
     "metadata": {
      "needs_background": "light"
     },
     "output_type": "display_data"
    }
   ],
   "source": [
    "sns.scatterplot(x=\"H\",y=\"E\",data=df)"
   ]
  },
  {
   "cell_type": "markdown",
   "id": "a8dba2e6",
   "metadata": {},
   "source": [
    "We can see the number of H is distributed in the range of 1300 to 1600"
   ]
  },
  {
   "cell_type": "code",
   "execution_count": 12,
   "id": "8b082694",
   "metadata": {},
   "outputs": [
    {
     "data": {
      "text/plain": [
       "<AxesSubplot:xlabel='2B', ylabel='E'>"
      ]
     },
     "execution_count": 12,
     "metadata": {},
     "output_type": "execute_result"
    },
    {
     "data": {
      "image/png": "[encoded data removed]",
      "text/plain": [
       "<Figure size 432x288 with 1 Axes>"
      ]
     },
     "metadata": {
      "needs_background": "light"
     },
     "output_type": "display_data"
    }
   ],
   "source": [
    "sns.scatterplot(x=\"2B\",y=\"E\",data=df)"
   ]
  },
  {
   "cell_type": "markdown",
   "id": "6bbd59b0",
   "metadata": {},
   "source": [
    "We can see the number of 2B is distributed in the range of 200 to 400"
   ]
  },
  {
   "cell_type": "code",
   "execution_count": 26,
   "id": "b6e60be2",
   "metadata": {},
   "outputs": [
    {
     "data": {
      "text/plain": [
       "<AxesSubplot:xlabel='3B', ylabel='E'>"
      ]
     },
     "execution_count": 26,
     "metadata": {},
     "output_type": "execute_result"
    },
    {
     "data": {
      "image/png": "[encoded data removed]",
      "text/plain": [
       "<Figure size 432x288 with 1 Axes>"
      ]
     },
     "metadata": {
      "needs_background": "light"
     },
     "output_type": "display_data"
    }
   ],
   "source": [
    "sns.scatterplot(x=\"3B\",y=\"E\",data=df)"
   ]
  },
  {
   "cell_type": "markdown",
   "id": "630d22e4",
   "metadata": {},
   "source": [
    "We can see the number of 3B is distributed in the range of 10 to 50"
   ]
  },
  {
   "cell_type": "code",
   "execution_count": 14,
   "id": "9888a948",
   "metadata": {},
   "outputs": [
    {
     "data": {
      "text/plain": [
       "<AxesSubplot:xlabel='HR', ylabel='E'>"
      ]
     },
     "execution_count": 14,
     "metadata": {},
     "output_type": "execute_result"
    },
    {
     "data": {
      "image/png": "[encoded data removed]",
      "text/plain": [
       "<Figure size 432x288 with 1 Axes>"
      ]
     },
     "metadata": {
      "needs_background": "light"
     },
     "output_type": "display_data"
    }
   ],
   "source": [
    "sns.scatterplot(x=\"HR\",y=\"E\",data=df)"
   ]
  },
  {
   "cell_type": "markdown",
   "id": "84cface5",
   "metadata": {},
   "source": [
    "We can see the number of HR is distributed in the range of 100 to 300 "
   ]
  },
  {
   "cell_type": "code",
   "execution_count": 15,
   "id": "22476d40",
   "metadata": {},
   "outputs": [
    {
     "data": {
      "text/plain": [
       "<AxesSubplot:xlabel='BB', ylabel='E'>"
      ]
     },
     "execution_count": 15,
     "metadata": {},
     "output_type": "execute_result"
    },
    {
     "data": {
      "image/png": "[encoded data removed]",
      "text/plain": [
       "<Figure size 432x288 with 1 Axes>"
      ]
     },
     "metadata": {
      "needs_background": "light"
     },
     "output_type": "display_data"
    }
   ],
   "source": [
    "sns.scatterplot(x=\"BB\",y=\"E\",data=df)"
   ]
  },
  {
   "cell_type": "markdown",
   "id": "5a1c3a95",
   "metadata": {},
   "source": [
    "We can see the number of BB is distributed in the range of 300 to 575"
   ]
  },
  {
   "cell_type": "code",
   "execution_count": 16,
   "id": "4fce094a",
   "metadata": {},
   "outputs": [
    {
     "data": {
      "text/plain": [
       "<AxesSubplot:xlabel='SO', ylabel='E'>"
      ]
     },
     "execution_count": 16,
     "metadata": {},
     "output_type": "execute_result"
    },
    {
     "data": {
      "image/png": "[encoded data removed]",
      "text/plain": [
       "<Figure size 432x288 with 1 Axes>"
      ]
     },
     "metadata": {
      "needs_background": "light"
     },
     "output_type": "display_data"
    }
   ],
   "source": [
    "sns.scatterplot(x=\"SO\",y=\"E\",data=df)"
   ]
  },
  {
   "cell_type": "markdown",
   "id": "96b80f6b",
   "metadata": {},
   "source": [
    "We can see the number of SO is distributed in the range of 1000 to 1600"
   ]
  },
  {
   "cell_type": "code",
   "execution_count": 17,
   "id": "1318270c",
   "metadata": {},
   "outputs": [
    {
     "data": {
      "text/plain": [
       "<AxesSubplot:xlabel='SB', ylabel='E'>"
      ]
     },
     "execution_count": 17,
     "metadata": {},
     "output_type": "execute_result"
    },
    {
     "data": {
      "image/png": "[encoded data removed]",
      "text/plain": [
       "<Figure size 432x288 with 1 Axes>"
      ]
     },
     "metadata": {
      "needs_background": "light"
     },
     "output_type": "display_data"
    }
   ],
   "source": [
    "sns.scatterplot(x=\"SB\",y=\"E\",data=df)"
   ]
  },
  {
   "cell_type": "markdown",
   "id": "12a4ef76",
   "metadata": {},
   "source": [
    "We can see the number of SB is distributed in the range of 40 to 140"
   ]
  },
  {
   "cell_type": "code",
   "execution_count": 18,
   "id": "45f647b6",
   "metadata": {},
   "outputs": [
    {
     "data": {
      "text/plain": [
       "<AxesSubplot:xlabel='RA', ylabel='E'>"
      ]
     },
     "execution_count": 18,
     "metadata": {},
     "output_type": "execute_result"
    },
    {
     "data": {
      "image/png": "[encoded data removed]",
      "text/plain": [
       "<Figure size 432x288 with 1 Axes>"
      ]
     },
     "metadata": {
      "needs_background": "light"
     },
     "output_type": "display_data"
    }
   ],
   "source": [
    "sns.scatterplot(x=\"RA\",y=\"E\",data=df)"
   ]
  },
  {
   "cell_type": "markdown",
   "id": "f596f08b",
   "metadata": {},
   "source": [
    "We can see the number of RA is distributed in range of 500 to 850"
   ]
  },
  {
   "cell_type": "code",
   "execution_count": 19,
   "id": "7c51e910",
   "metadata": {},
   "outputs": [
    {
     "data": {
      "text/plain": [
       "<AxesSubplot:xlabel='ER', ylabel='E'>"
      ]
     },
     "execution_count": 19,
     "metadata": {},
     "output_type": "execute_result"
    },
    {
     "data": {
      "image/png": "[encoded data removed]",
      "text/plain": [
       "<Figure size 432x288 with 1 Axes>"
      ]
     },
     "metadata": {
      "needs_background": "light"
     },
     "output_type": "display_data"
    }
   ],
   "source": [
    "sns.scatterplot(x=\"ER\",y=\"E\",data=df)"
   ]
  },
  {
   "cell_type": "markdown",
   "id": "7a7f481f",
   "metadata": {},
   "source": [
    "We can see the number of ER is distributed in range of 400 to 800"
   ]
  },
  {
   "cell_type": "code",
   "execution_count": 20,
   "id": "eab5495e",
   "metadata": {},
   "outputs": [
    {
     "data": {
      "text/plain": [
       "<AxesSubplot:xlabel='ERA', ylabel='E'>"
      ]
     },
     "execution_count": 20,
     "metadata": {},
     "output_type": "execute_result"
    },
    {
     "data": {
      "image/png": "[encoded data removed]",
      "text/plain": [
       "<Figure size 432x288 with 1 Axes>"
      ]
     },
     "metadata": {
      "needs_background": "light"
     },
     "output_type": "display_data"
    }
   ],
   "source": [
    "sns.scatterplot(x=\"ERA\",y=\"E\",data=df)"
   ]
  },
  {
   "cell_type": "markdown",
   "id": "184ddef5",
   "metadata": {},
   "source": [
    "We can see the number of ERA is distributed in the range of 20 to 50"
   ]
  },
  {
   "cell_type": "code",
   "execution_count": 21,
   "id": "109b9109",
   "metadata": {},
   "outputs": [
    {
     "data": {
      "text/plain": [
       "<AxesSubplot:xlabel='CG', ylabel='E'>"
      ]
     },
     "execution_count": 21,
     "metadata": {},
     "output_type": "execute_result"
    },
    {
     "data": {
      "image/png": "[encoded data removed]",
      "text/plain": [
       "<Figure size 432x288 with 1 Axes>"
      ]
     },
     "metadata": {
      "needs_background": "light"
     },
     "output_type": "display_data"
    }
   ],
   "source": [
    "sns.scatterplot(x=\"CG\",y=\"E\",data=df)"
   ]
  },
  {
   "cell_type": "markdown",
   "id": "93e7f6ab",
   "metadata": {},
   "source": [
    "We can see the number of CG is distributed in the range of 0 to 12"
   ]
  },
  {
   "cell_type": "code",
   "execution_count": 22,
   "id": "09d92d2f",
   "metadata": {},
   "outputs": [
    {
     "data": {
      "text/plain": [
       "<AxesSubplot:xlabel='SHO', ylabel='E'>"
      ]
     },
     "execution_count": 22,
     "metadata": {},
     "output_type": "execute_result"
    },
    {
     "data": {
      "image/png": "[encoded data removed]",
      "text/plain": [
       "<Figure size 432x288 with 1 Axes>"
      ]
     },
     "metadata": {
      "needs_background": "light"
     },
     "output_type": "display_data"
    }
   ],
   "source": [
    "sns.scatterplot(x=\"SHO\",y=\"E\",data=df)"
   ]
  },
  {
   "cell_type": "markdown",
   "id": "f062c6f8",
   "metadata": {},
   "source": [
    "We can see the number of SHO is distribured in the range of 3.5 to 22.5"
   ]
  },
  {
   "cell_type": "code",
   "execution_count": 23,
   "id": "59c047db",
   "metadata": {},
   "outputs": [
    {
     "data": {
      "text/plain": [
       "<AxesSubplot:xlabel='SV', ylabel='E'>"
      ]
     },
     "execution_count": 23,
     "metadata": {},
     "output_type": "execute_result"
    },
    {
     "data": {
      "image/png": "[encoded data removed]",
      "text/plain": [
       "<Figure size 432x288 with 1 Axes>"
      ]
     },
     "metadata": {
      "needs_background": "light"
     },
     "output_type": "display_data"
    }
   ],
   "source": [
    "sns.scatterplot(x=\"SV\",y=\"E\",data=df)"
   ]
  },
  {
   "cell_type": "markdown",
   "id": "c04e479f",
   "metadata": {},
   "source": [
    "We can see the number of SV is distributed in the range of 30 to 65"
   ]
  },
  {
   "cell_type": "markdown",
   "id": "447e592e",
   "metadata": {},
   "source": [
    "# Correlation:"
   ]
  },
  {
   "cell_type": "code",
   "execution_count": 27,
   "id": "949e3a2d",
   "metadata": {},
   "outputs": [
    {
     "data": {
      "text/html": [
       "<div>\n",
       "<style scoped>\n",
       "    .dataframe tbody tr th:only-of-type {\n",
       "        vertical-align: middle;\n",
       "    }\n",
       "\n",
       "    .dataframe tbody tr th {\n",
       "        vertical-align: top;\n",
       "    }\n",
       "\n",
       "    .dataframe thead th {\n",
       "        text-align: right;\n",
       "    }\n",
       "</style>\n",
       "<table border=\"1\" class=\"dataframe\">\n",
       "  <thead>\n",
       "    <tr style=\"text-align: right;\">\n",
       "      <th></th>\n",
       "      <th>W</th>\n",
       "      <th>R</th>\n",
       "      <th>AB</th>\n",
       "      <th>H</th>\n",
       "      <th>2B</th>\n",
       "      <th>3B</th>\n",
       "      <th>HR</th>\n",
       "      <th>BB</th>\n",
       "      <th>SO</th>\n",
       "      <th>SB</th>\n",
       "      <th>RA</th>\n",
       "      <th>ER</th>\n",
       "      <th>ERA</th>\n",
       "      <th>CG</th>\n",
       "      <th>SHO</th>\n",
       "      <th>SV</th>\n",
       "      <th>E</th>\n",
       "    </tr>\n",
       "  </thead>\n",
       "  <tbody>\n",
       "    <tr>\n",
       "      <th>W</th>\n",
       "      <td>1.000000</td>\n",
       "      <td>0.430751</td>\n",
       "      <td>-0.087947</td>\n",
       "      <td>0.037612</td>\n",
       "      <td>0.427797</td>\n",
       "      <td>-0.251118</td>\n",
       "      <td>0.307407</td>\n",
       "      <td>0.484342</td>\n",
       "      <td>0.111850</td>\n",
       "      <td>-0.157234</td>\n",
       "      <td>-0.812952</td>\n",
       "      <td>-0.809435</td>\n",
       "      <td>-0.819600</td>\n",
       "      <td>0.080533</td>\n",
       "      <td>0.471805</td>\n",
       "      <td>0.666530</td>\n",
       "      <td>-0.089485</td>\n",
       "    </tr>\n",
       "    <tr>\n",
       "      <th>R</th>\n",
       "      <td>0.430751</td>\n",
       "      <td>1.000000</td>\n",
       "      <td>0.319464</td>\n",
       "      <td>0.482856</td>\n",
       "      <td>0.560084</td>\n",
       "      <td>-0.070072</td>\n",
       "      <td>0.671283</td>\n",
       "      <td>0.402452</td>\n",
       "      <td>-0.054726</td>\n",
       "      <td>0.081367</td>\n",
       "      <td>-0.041623</td>\n",
       "      <td>-0.041245</td>\n",
       "      <td>-0.049281</td>\n",
       "      <td>0.232042</td>\n",
       "      <td>-0.103274</td>\n",
       "      <td>-0.096380</td>\n",
       "      <td>-0.023262</td>\n",
       "    </tr>\n",
       "    <tr>\n",
       "      <th>AB</th>\n",
       "      <td>-0.087947</td>\n",
       "      <td>0.319464</td>\n",
       "      <td>1.000000</td>\n",
       "      <td>0.739122</td>\n",
       "      <td>0.453370</td>\n",
       "      <td>0.435422</td>\n",
       "      <td>-0.066983</td>\n",
       "      <td>-0.136414</td>\n",
       "      <td>-0.106022</td>\n",
       "      <td>0.372618</td>\n",
       "      <td>0.316010</td>\n",
       "      <td>0.309686</td>\n",
       "      <td>0.255551</td>\n",
       "      <td>-0.080876</td>\n",
       "      <td>-0.197321</td>\n",
       "      <td>-0.106367</td>\n",
       "      <td>0.316743</td>\n",
       "    </tr>\n",
       "    <tr>\n",
       "      <th>H</th>\n",
       "      <td>0.037612</td>\n",
       "      <td>0.482856</td>\n",
       "      <td>0.739122</td>\n",
       "      <td>1.000000</td>\n",
       "      <td>0.566847</td>\n",
       "      <td>0.478694</td>\n",
       "      <td>-0.090855</td>\n",
       "      <td>-0.118281</td>\n",
       "      <td>-0.398830</td>\n",
       "      <td>0.413444</td>\n",
       "      <td>0.224324</td>\n",
       "      <td>0.252489</td>\n",
       "      <td>0.231172</td>\n",
       "      <td>0.147955</td>\n",
       "      <td>-0.145559</td>\n",
       "      <td>-0.130371</td>\n",
       "      <td>-0.033173</td>\n",
       "    </tr>\n",
       "    <tr>\n",
       "      <th>2B</th>\n",
       "      <td>0.427797</td>\n",
       "      <td>0.560084</td>\n",
       "      <td>0.453370</td>\n",
       "      <td>0.566847</td>\n",
       "      <td>1.000000</td>\n",
       "      <td>0.220490</td>\n",
       "      <td>0.056292</td>\n",
       "      <td>0.302700</td>\n",
       "      <td>-0.150752</td>\n",
       "      <td>0.195027</td>\n",
       "      <td>-0.218160</td>\n",
       "      <td>-0.235531</td>\n",
       "      <td>-0.254854</td>\n",
       "      <td>0.306675</td>\n",
       "      <td>0.057998</td>\n",
       "      <td>0.171576</td>\n",
       "      <td>0.105754</td>\n",
       "    </tr>\n",
       "    <tr>\n",
       "      <th>3B</th>\n",
       "      <td>-0.251118</td>\n",
       "      <td>-0.070072</td>\n",
       "      <td>0.435422</td>\n",
       "      <td>0.478694</td>\n",
       "      <td>0.220490</td>\n",
       "      <td>1.000000</td>\n",
       "      <td>-0.430915</td>\n",
       "      <td>-0.454949</td>\n",
       "      <td>-0.141196</td>\n",
       "      <td>0.457437</td>\n",
       "      <td>0.314125</td>\n",
       "      <td>0.340225</td>\n",
       "      <td>0.330951</td>\n",
       "      <td>-0.065898</td>\n",
       "      <td>-0.041396</td>\n",
       "      <td>-0.142370</td>\n",
       "      <td>0.126678</td>\n",
       "    </tr>\n",
       "    <tr>\n",
       "      <th>HR</th>\n",
       "      <td>0.307407</td>\n",
       "      <td>0.671283</td>\n",
       "      <td>-0.066983</td>\n",
       "      <td>-0.090855</td>\n",
       "      <td>0.056292</td>\n",
       "      <td>-0.430915</td>\n",
       "      <td>1.000000</td>\n",
       "      <td>0.425691</td>\n",
       "      <td>0.359923</td>\n",
       "      <td>-0.136567</td>\n",
       "      <td>-0.103903</td>\n",
       "      <td>-0.085922</td>\n",
       "      <td>-0.090917</td>\n",
       "      <td>0.156502</td>\n",
       "      <td>-0.019119</td>\n",
       "      <td>-0.028540</td>\n",
       "      <td>-0.207597</td>\n",
       "    </tr>\n",
       "    <tr>\n",
       "      <th>BB</th>\n",
       "      <td>0.484342</td>\n",
       "      <td>0.402452</td>\n",
       "      <td>-0.136414</td>\n",
       "      <td>-0.118281</td>\n",
       "      <td>0.302700</td>\n",
       "      <td>-0.454949</td>\n",
       "      <td>0.425691</td>\n",
       "      <td>1.000000</td>\n",
       "      <td>0.233652</td>\n",
       "      <td>-0.098347</td>\n",
       "      <td>-0.416445</td>\n",
       "      <td>-0.452663</td>\n",
       "      <td>-0.459832</td>\n",
       "      <td>0.462478</td>\n",
       "      <td>0.426004</td>\n",
       "      <td>0.099445</td>\n",
       "      <td>-0.075685</td>\n",
       "    </tr>\n",
       "    <tr>\n",
       "      <th>SO</th>\n",
       "      <td>0.111850</td>\n",
       "      <td>-0.054726</td>\n",
       "      <td>-0.106022</td>\n",
       "      <td>-0.398830</td>\n",
       "      <td>-0.150752</td>\n",
       "      <td>-0.141196</td>\n",
       "      <td>0.359923</td>\n",
       "      <td>0.233652</td>\n",
       "      <td>1.000000</td>\n",
       "      <td>0.030968</td>\n",
       "      <td>-0.129745</td>\n",
       "      <td>-0.161612</td>\n",
       "      <td>-0.180368</td>\n",
       "      <td>-0.093418</td>\n",
       "      <td>0.237721</td>\n",
       "      <td>0.126297</td>\n",
       "      <td>0.155133</td>\n",
       "    </tr>\n",
       "    <tr>\n",
       "      <th>SB</th>\n",
       "      <td>-0.157234</td>\n",
       "      <td>0.081367</td>\n",
       "      <td>0.372618</td>\n",
       "      <td>0.413444</td>\n",
       "      <td>0.195027</td>\n",
       "      <td>0.457437</td>\n",
       "      <td>-0.136567</td>\n",
       "      <td>-0.098347</td>\n",
       "      <td>0.030968</td>\n",
       "      <td>1.000000</td>\n",
       "      <td>0.132290</td>\n",
       "      <td>0.143068</td>\n",
       "      <td>0.126063</td>\n",
       "      <td>-0.020783</td>\n",
       "      <td>-0.106563</td>\n",
       "      <td>-0.183418</td>\n",
       "      <td>0.079149</td>\n",
       "    </tr>\n",
       "    <tr>\n",
       "      <th>RA</th>\n",
       "      <td>-0.812952</td>\n",
       "      <td>-0.041623</td>\n",
       "      <td>0.316010</td>\n",
       "      <td>0.224324</td>\n",
       "      <td>-0.218160</td>\n",
       "      <td>0.314125</td>\n",
       "      <td>-0.103903</td>\n",
       "      <td>-0.416445</td>\n",
       "      <td>-0.129745</td>\n",
       "      <td>0.132290</td>\n",
       "      <td>1.000000</td>\n",
       "      <td>0.991018</td>\n",
       "      <td>0.986674</td>\n",
       "      <td>-0.016659</td>\n",
       "      <td>-0.636862</td>\n",
       "      <td>-0.616224</td>\n",
       "      <td>0.198996</td>\n",
       "    </tr>\n",
       "    <tr>\n",
       "      <th>ER</th>\n",
       "      <td>-0.809435</td>\n",
       "      <td>-0.041245</td>\n",
       "      <td>0.309686</td>\n",
       "      <td>0.252489</td>\n",
       "      <td>-0.235531</td>\n",
       "      <td>0.340225</td>\n",
       "      <td>-0.085922</td>\n",
       "      <td>-0.452663</td>\n",
       "      <td>-0.161612</td>\n",
       "      <td>0.143068</td>\n",
       "      <td>0.991018</td>\n",
       "      <td>1.000000</td>\n",
       "      <td>0.997248</td>\n",
       "      <td>-0.020221</td>\n",
       "      <td>-0.630192</td>\n",
       "      <td>-0.589663</td>\n",
       "      <td>0.136921</td>\n",
       "    </tr>\n",
       "    <tr>\n",
       "      <th>ERA</th>\n",
       "      <td>-0.819600</td>\n",
       "      <td>-0.049281</td>\n",
       "      <td>0.255551</td>\n",
       "      <td>0.231172</td>\n",
       "      <td>-0.254854</td>\n",
       "      <td>0.330951</td>\n",
       "      <td>-0.090917</td>\n",
       "      <td>-0.459832</td>\n",
       "      <td>-0.180368</td>\n",
       "      <td>0.126063</td>\n",
       "      <td>0.986674</td>\n",
       "      <td>0.997248</td>\n",
       "      <td>1.000000</td>\n",
       "      <td>-0.009856</td>\n",
       "      <td>-0.630833</td>\n",
       "      <td>-0.607005</td>\n",
       "      <td>0.113137</td>\n",
       "    </tr>\n",
       "    <tr>\n",
       "      <th>CG</th>\n",
       "      <td>0.080533</td>\n",
       "      <td>0.232042</td>\n",
       "      <td>-0.080876</td>\n",
       "      <td>0.147955</td>\n",
       "      <td>0.306675</td>\n",
       "      <td>-0.065898</td>\n",
       "      <td>0.156502</td>\n",
       "      <td>0.462478</td>\n",
       "      <td>-0.093418</td>\n",
       "      <td>-0.020783</td>\n",
       "      <td>-0.016659</td>\n",
       "      <td>-0.020221</td>\n",
       "      <td>-0.009856</td>\n",
       "      <td>1.000000</td>\n",
       "      <td>0.241676</td>\n",
       "      <td>-0.367766</td>\n",
       "      <td>-0.140047</td>\n",
       "    </tr>\n",
       "    <tr>\n",
       "      <th>SHO</th>\n",
       "      <td>0.471805</td>\n",
       "      <td>-0.103274</td>\n",
       "      <td>-0.197321</td>\n",
       "      <td>-0.145559</td>\n",
       "      <td>0.057998</td>\n",
       "      <td>-0.041396</td>\n",
       "      <td>-0.019119</td>\n",
       "      <td>0.426004</td>\n",
       "      <td>0.237721</td>\n",
       "      <td>-0.106563</td>\n",
       "      <td>-0.636862</td>\n",
       "      <td>-0.630192</td>\n",
       "      <td>-0.630833</td>\n",
       "      <td>0.241676</td>\n",
       "      <td>1.000000</td>\n",
       "      <td>0.221639</td>\n",
       "      <td>-0.115716</td>\n",
       "    </tr>\n",
       "    <tr>\n",
       "      <th>SV</th>\n",
       "      <td>0.666530</td>\n",
       "      <td>-0.096380</td>\n",
       "      <td>-0.106367</td>\n",
       "      <td>-0.130371</td>\n",
       "      <td>0.171576</td>\n",
       "      <td>-0.142370</td>\n",
       "      <td>-0.028540</td>\n",
       "      <td>0.099445</td>\n",
       "      <td>0.126297</td>\n",
       "      <td>-0.183418</td>\n",
       "      <td>-0.616224</td>\n",
       "      <td>-0.589663</td>\n",
       "      <td>-0.607005</td>\n",
       "      <td>-0.367766</td>\n",
       "      <td>0.221639</td>\n",
       "      <td>1.000000</td>\n",
       "      <td>-0.025636</td>\n",
       "    </tr>\n",
       "    <tr>\n",
       "      <th>E</th>\n",
       "      <td>-0.089485</td>\n",
       "      <td>-0.023262</td>\n",
       "      <td>0.316743</td>\n",
       "      <td>-0.033173</td>\n",
       "      <td>0.105754</td>\n",
       "      <td>0.126678</td>\n",
       "      <td>-0.207597</td>\n",
       "      <td>-0.075685</td>\n",
       "      <td>0.155133</td>\n",
       "      <td>0.079149</td>\n",
       "      <td>0.198996</td>\n",
       "      <td>0.136921</td>\n",
       "      <td>0.113137</td>\n",
       "      <td>-0.140047</td>\n",
       "      <td>-0.115716</td>\n",
       "      <td>-0.025636</td>\n",
       "      <td>1.000000</td>\n",
       "    </tr>\n",
       "  </tbody>\n",
       "</table>\n",
       "</div>"
      ],
      "text/plain": [
       "            W         R        AB         H        2B        3B        HR  \\\n",
       "W    1.000000  0.430751 -0.087947  0.037612  0.427797 -0.251118  0.307407   \n",
       "R    0.430751  1.000000  0.319464  0.482856  0.560084 -0.070072  0.671283   \n",
       "AB  -0.087947  0.319464  1.000000  0.739122  0.453370  0.435422 -0.066983   \n",
       "H    0.037612  0.482856  0.739122  1.000000  0.566847  0.478694 -0.090855   \n",
       "2B   0.427797  0.560084  0.453370  0.566847  1.000000  0.220490  0.056292   \n",
       "3B  -0.251118 -0.070072  0.435422  0.478694  0.220490  1.000000 -0.430915   \n",
       "HR   0.307407  0.671283 -0.066983 -0.090855  0.056292 -0.430915  1.000000   \n",
       "BB   0.484342  0.402452 -0.136414 -0.118281  0.302700 -0.454949  0.425691   \n",
       "SO   0.111850 -0.054726 -0.106022 -0.398830 -0.150752 -0.141196  0.359923   \n",
       "SB  -0.157234  0.081367  0.372618  0.413444  0.195027  0.457437 -0.136567   \n",
       "RA  -0.812952 -0.041623  0.316010  0.224324 -0.218160  0.314125 -0.103903   \n",
       "ER  -0.809435 -0.041245  0.309686  0.252489 -0.235531  0.340225 -0.085922   \n",
       "ERA -0.819600 -0.049281  0.255551  0.231172 -0.254854  0.330951 -0.090917   \n",
       "CG   0.080533  0.232042 -0.080876  0.147955  0.306675 -0.065898  0.156502   \n",
       "SHO  0.471805 -0.103274 -0.197321 -0.145559  0.057998 -0.041396 -0.019119   \n",
       "SV   0.666530 -0.096380 -0.106367 -0.130371  0.171576 -0.142370 -0.028540   \n",
       "E   -0.089485 -0.023262  0.316743 -0.033173  0.105754  0.126678 -0.207597   \n",
       "\n",
       "           BB        SO        SB        RA        ER       ERA        CG  \\\n",
       "W    0.484342  0.111850 -0.157234 -0.812952 -0.809435 -0.819600  0.080533   \n",
       "R    0.402452 -0.054726  0.081367 -0.041623 -0.041245 -0.049281  0.232042   \n",
       "AB  -0.136414 -0.106022  0.372618  0.316010  0.309686  0.255551 -0.080876   \n",
       "H   -0.118281 -0.398830  0.413444  0.224324  0.252489  0.231172  0.147955   \n",
       "2B   0.302700 -0.150752  0.195027 -0.218160 -0.235531 -0.254854  0.306675   \n",
       "3B  -0.454949 -0.141196  0.457437  0.314125  0.340225  0.330951 -0.065898   \n",
       "HR   0.425691  0.359923 -0.136567 -0.103903 -0.085922 -0.090917  0.156502   \n",
       "BB   1.000000  0.233652 -0.098347 -0.416445 -0.452663 -0.459832  0.462478   \n",
       "SO   0.233652  1.000000  0.030968 -0.129745 -0.161612 -0.180368 -0.093418   \n",
       "SB  -0.098347  0.030968  1.000000  0.132290  0.143068  0.126063 -0.020783   \n",
       "RA  -0.416445 -0.129745  0.132290  1.000000  0.991018  0.986674 -0.016659   \n",
       "ER  -0.452663 -0.161612  0.143068  0.991018  1.000000  0.997248 -0.020221   \n",
       "ERA -0.459832 -0.180368  0.126063  0.986674  0.997248  1.000000 -0.009856   \n",
       "CG   0.462478 -0.093418 -0.020783 -0.016659 -0.020221 -0.009856  1.000000   \n",
       "SHO  0.426004  0.237721 -0.106563 -0.636862 -0.630192 -0.630833  0.241676   \n",
       "SV   0.099445  0.126297 -0.183418 -0.616224 -0.589663 -0.607005 -0.367766   \n",
       "E   -0.075685  0.155133  0.079149  0.198996  0.136921  0.113137 -0.140047   \n",
       "\n",
       "          SHO        SV         E  \n",
       "W    0.471805  0.666530 -0.089485  \n",
       "R   -0.103274 -0.096380 -0.023262  \n",
       "AB  -0.197321 -0.106367  0.316743  \n",
       "H   -0.145559 -0.130371 -0.033173  \n",
       "2B   0.057998  0.171576  0.105754  \n",
       "3B  -0.041396 -0.142370  0.126678  \n",
       "HR  -0.019119 -0.028540 -0.207597  \n",
       "BB   0.426004  0.099445 -0.075685  \n",
       "SO   0.237721  0.126297  0.155133  \n",
       "SB  -0.106563 -0.183418  0.079149  \n",
       "RA  -0.636862 -0.616224  0.198996  \n",
       "ER  -0.630192 -0.589663  0.136921  \n",
       "ERA -0.630833 -0.607005  0.113137  \n",
       "CG   0.241676 -0.367766 -0.140047  \n",
       "SHO  1.000000  0.221639 -0.115716  \n",
       "SV   0.221639  1.000000 -0.025636  \n",
       "E   -0.115716 -0.025636  1.000000  "
      ]
     },
     "execution_count": 27,
     "metadata": {},
     "output_type": "execute_result"
    }
   ],
   "source": [
    "df.corr()"
   ]
  },
  {
   "cell_type": "code",
   "execution_count": 28,
   "id": "75390121",
   "metadata": {},
   "outputs": [
    {
     "data": {
      "text/plain": [
       "HR    -0.207597\n",
       "CG    -0.140047\n",
       "SHO   -0.115716\n",
       "W     -0.089485\n",
       "BB    -0.075685\n",
       "H     -0.033173\n",
       "SV    -0.025636\n",
       "R     -0.023262\n",
       "SB     0.079149\n",
       "2B     0.105754\n",
       "ERA    0.113137\n",
       "3B     0.126678\n",
       "ER     0.136921\n",
       "SO     0.155133\n",
       "RA     0.198996\n",
       "AB     0.316743\n",
       "E      1.000000\n",
       "Name: E, dtype: float64"
      ]
     },
     "execution_count": 28,
     "metadata": {},
     "output_type": "execute_result"
    }
   ],
   "source": [
    "df.corr()['E'].sort_values()"
   ]
  },
  {
   "cell_type": "markdown",
   "id": "16f9b678",
   "metadata": {},
   "source": [
    "# Correlation Using HeatMap:"
   ]
  },
  {
   "cell_type": "code",
   "execution_count": 30,
   "id": "4b3a40f0",
   "metadata": {},
   "outputs": [
    {
     "data": {
      "text/plain": [
       "<AxesSubplot:>"
      ]
     },
     "execution_count": 30,
     "metadata": {},
     "output_type": "execute_result"
    },
    {
     "data": {
      "image/png": "[encoded data removed]",
      "text/plain": [
       "<Figure size 1080x504 with 2 Axes>"
      ]
     },
     "metadata": {
      "needs_background": "light"
     },
     "output_type": "display_data"
    }
   ],
   "source": [
    "import matplotlib.pyplot as plt\n",
    "# size of canvas\n",
    "plt.figure(figsize=(15,7))\n",
    "sns.heatmap(df.corr(),annot=True, linewidth=0.5, linecolor='black', fmt='.2f')"
   ]
  },
  {
   "cell_type": "markdown",
   "id": "e7c6fecb",
   "metadata": {},
   "source": [
    "# Outcome Of correlation:"
   ]
  },
  {
   "cell_type": "markdown",
   "id": "17d3edd8",
   "metadata": {},
   "source": [
    "All the columns of the datasets is positively correlated with the target column\n",
    "\n",
    "1.W has 87 percent correlation with the target column which can be considered as a good bond\n",
    "\n",
    "2.R has 67 percent correlation with the target columnwhich can be cosidered as a good bond.\n",
    "\n",
    "3.AB has 74 percent correlation with the target column which can be considered as good bond.\n",
    "\n",
    "4.H has 23 percent correlation with the target column which can be considered as good bond.\n",
    "\n",
    "5.2B has 25 percent correlation with the target column which can be considered as good bond.\n",
    "\n",
    "6.3B has 33 percent correlation with the target column which can be considered as good bond.\n",
    "\n",
    "7.HR has 3 percent correlation with the taregt column which can be considered as good bond.\n",
    "\n",
    "8.BB has 46 percent correlation with the target column which can be considered as good bond.\n",
    "\n",
    "9.SO has 18 percent correlation with the target column which can be considered as good bond.\n",
    "\n",
    "10.SB has 46 percent correlation with the target column which can be considered as good bond.\n",
    "\n",
    "11.RA has 81 percent correlation with the target column which can be cosidered as good bond.\n",
    "\n",
    "12.ER has 81 percent correlation with the target column which can be considered as good bond.\n",
    "\n",
    "13.ERA has 82 percent correlation with the target column which can be cosidered as good bond.\n",
    "\n",
    "14.CG has 46 percent correlation with the target column which can be considered as good bond.\n",
    "\n",
    "15.SHO has 64 percent correlation with the target column which can be cosidered as good bond.\n",
    "\n",
    "16.SV has 67 percent correlation with the target column which can be considered as good bond.\n",
    "\n",
    "Max correlation: W\n",
    "    \n",
    "Min correlation:HR    "
   ]
  },
  {
   "cell_type": "markdown",
   "id": "b5f61a15",
   "metadata": {},
   "source": [
    "# Describing Datasets:"
   ]
  },
  {
   "cell_type": "code",
   "execution_count": 31,
   "id": "dabe07fe",
   "metadata": {},
   "outputs": [
    {
     "data": {
      "text/html": [
       "<div>\n",
       "<style scoped>\n",
       "    .dataframe tbody tr th:only-of-type {\n",
       "        vertical-align: middle;\n",
       "    }\n",
       "\n",
       "    .dataframe tbody tr th {\n",
       "        vertical-align: top;\n",
       "    }\n",
       "\n",
       "    .dataframe thead th {\n",
       "        text-align: right;\n",
       "    }\n",
       "</style>\n",
       "<table border=\"1\" class=\"dataframe\">\n",
       "  <thead>\n",
       "    <tr style=\"text-align: right;\">\n",
       "      <th></th>\n",
       "      <th>W</th>\n",
       "      <th>R</th>\n",
       "      <th>AB</th>\n",
       "      <th>H</th>\n",
       "      <th>2B</th>\n",
       "      <th>3B</th>\n",
       "      <th>HR</th>\n",
       "      <th>BB</th>\n",
       "      <th>SO</th>\n",
       "      <th>SB</th>\n",
       "      <th>RA</th>\n",
       "      <th>ER</th>\n",
       "      <th>ERA</th>\n",
       "      <th>CG</th>\n",
       "      <th>SHO</th>\n",
       "      <th>SV</th>\n",
       "      <th>E</th>\n",
       "    </tr>\n",
       "  </thead>\n",
       "  <tbody>\n",
       "    <tr>\n",
       "      <th>count</th>\n",
       "      <td>30.000000</td>\n",
       "      <td>30.000000</td>\n",
       "      <td>30.000000</td>\n",
       "      <td>30.000000</td>\n",
       "      <td>30.000000</td>\n",
       "      <td>30.000000</td>\n",
       "      <td>30.000000</td>\n",
       "      <td>30.000000</td>\n",
       "      <td>30.00000</td>\n",
       "      <td>30.000000</td>\n",
       "      <td>30.000000</td>\n",
       "      <td>30.000000</td>\n",
       "      <td>30.000000</td>\n",
       "      <td>30.000000</td>\n",
       "      <td>30.000000</td>\n",
       "      <td>30.000000</td>\n",
       "      <td>30.000000</td>\n",
       "    </tr>\n",
       "    <tr>\n",
       "      <th>mean</th>\n",
       "      <td>80.966667</td>\n",
       "      <td>688.233333</td>\n",
       "      <td>5516.266667</td>\n",
       "      <td>1403.533333</td>\n",
       "      <td>274.733333</td>\n",
       "      <td>31.300000</td>\n",
       "      <td>163.633333</td>\n",
       "      <td>469.100000</td>\n",
       "      <td>1248.20000</td>\n",
       "      <td>83.500000</td>\n",
       "      <td>688.233333</td>\n",
       "      <td>635.833333</td>\n",
       "      <td>3.956333</td>\n",
       "      <td>3.466667</td>\n",
       "      <td>11.300000</td>\n",
       "      <td>43.066667</td>\n",
       "      <td>94.333333</td>\n",
       "    </tr>\n",
       "    <tr>\n",
       "      <th>std</th>\n",
       "      <td>10.453455</td>\n",
       "      <td>58.761754</td>\n",
       "      <td>70.467372</td>\n",
       "      <td>57.140923</td>\n",
       "      <td>18.095405</td>\n",
       "      <td>10.452355</td>\n",
       "      <td>31.823309</td>\n",
       "      <td>57.053725</td>\n",
       "      <td>103.75947</td>\n",
       "      <td>22.815225</td>\n",
       "      <td>72.108005</td>\n",
       "      <td>70.140786</td>\n",
       "      <td>0.454089</td>\n",
       "      <td>2.763473</td>\n",
       "      <td>4.120177</td>\n",
       "      <td>7.869335</td>\n",
       "      <td>13.958889</td>\n",
       "    </tr>\n",
       "    <tr>\n",
       "      <th>min</th>\n",
       "      <td>63.000000</td>\n",
       "      <td>573.000000</td>\n",
       "      <td>5385.000000</td>\n",
       "      <td>1324.000000</td>\n",
       "      <td>236.000000</td>\n",
       "      <td>13.000000</td>\n",
       "      <td>100.000000</td>\n",
       "      <td>375.000000</td>\n",
       "      <td>973.00000</td>\n",
       "      <td>44.000000</td>\n",
       "      <td>525.000000</td>\n",
       "      <td>478.000000</td>\n",
       "      <td>2.940000</td>\n",
       "      <td>0.000000</td>\n",
       "      <td>4.000000</td>\n",
       "      <td>28.000000</td>\n",
       "      <td>75.000000</td>\n",
       "    </tr>\n",
       "    <tr>\n",
       "      <th>25%</th>\n",
       "      <td>74.000000</td>\n",
       "      <td>651.250000</td>\n",
       "      <td>5464.000000</td>\n",
       "      <td>1363.000000</td>\n",
       "      <td>262.250000</td>\n",
       "      <td>23.000000</td>\n",
       "      <td>140.250000</td>\n",
       "      <td>428.250000</td>\n",
       "      <td>1157.50000</td>\n",
       "      <td>69.000000</td>\n",
       "      <td>636.250000</td>\n",
       "      <td>587.250000</td>\n",
       "      <td>3.682500</td>\n",
       "      <td>1.000000</td>\n",
       "      <td>9.000000</td>\n",
       "      <td>37.250000</td>\n",
       "      <td>86.000000</td>\n",
       "    </tr>\n",
       "    <tr>\n",
       "      <th>50%</th>\n",
       "      <td>81.000000</td>\n",
       "      <td>689.000000</td>\n",
       "      <td>5510.000000</td>\n",
       "      <td>1382.500000</td>\n",
       "      <td>275.500000</td>\n",
       "      <td>31.000000</td>\n",
       "      <td>158.500000</td>\n",
       "      <td>473.000000</td>\n",
       "      <td>1261.50000</td>\n",
       "      <td>83.500000</td>\n",
       "      <td>695.500000</td>\n",
       "      <td>644.500000</td>\n",
       "      <td>4.025000</td>\n",
       "      <td>3.000000</td>\n",
       "      <td>12.000000</td>\n",
       "      <td>42.000000</td>\n",
       "      <td>91.000000</td>\n",
       "    </tr>\n",
       "    <tr>\n",
       "      <th>75%</th>\n",
       "      <td>87.750000</td>\n",
       "      <td>718.250000</td>\n",
       "      <td>5570.000000</td>\n",
       "      <td>1451.500000</td>\n",
       "      <td>288.750000</td>\n",
       "      <td>39.000000</td>\n",
       "      <td>177.000000</td>\n",
       "      <td>501.250000</td>\n",
       "      <td>1311.50000</td>\n",
       "      <td>96.500000</td>\n",
       "      <td>732.500000</td>\n",
       "      <td>679.250000</td>\n",
       "      <td>4.220000</td>\n",
       "      <td>5.750000</td>\n",
       "      <td>13.000000</td>\n",
       "      <td>46.750000</td>\n",
       "      <td>96.750000</td>\n",
       "    </tr>\n",
       "    <tr>\n",
       "      <th>max</th>\n",
       "      <td>100.000000</td>\n",
       "      <td>891.000000</td>\n",
       "      <td>5649.000000</td>\n",
       "      <td>1515.000000</td>\n",
       "      <td>308.000000</td>\n",
       "      <td>49.000000</td>\n",
       "      <td>232.000000</td>\n",
       "      <td>570.000000</td>\n",
       "      <td>1518.00000</td>\n",
       "      <td>134.000000</td>\n",
       "      <td>844.000000</td>\n",
       "      <td>799.000000</td>\n",
       "      <td>5.040000</td>\n",
       "      <td>11.000000</td>\n",
       "      <td>21.000000</td>\n",
       "      <td>62.000000</td>\n",
       "      <td>126.000000</td>\n",
       "    </tr>\n",
       "  </tbody>\n",
       "</table>\n",
       "</div>"
      ],
      "text/plain": [
       "                W           R           AB            H          2B  \\\n",
       "count   30.000000   30.000000    30.000000    30.000000   30.000000   \n",
       "mean    80.966667  688.233333  5516.266667  1403.533333  274.733333   \n",
       "std     10.453455   58.761754    70.467372    57.140923   18.095405   \n",
       "min     63.000000  573.000000  5385.000000  1324.000000  236.000000   \n",
       "25%     74.000000  651.250000  5464.000000  1363.000000  262.250000   \n",
       "50%     81.000000  689.000000  5510.000000  1382.500000  275.500000   \n",
       "75%     87.750000  718.250000  5570.000000  1451.500000  288.750000   \n",
       "max    100.000000  891.000000  5649.000000  1515.000000  308.000000   \n",
       "\n",
       "              3B          HR          BB          SO          SB          RA  \\\n",
       "count  30.000000   30.000000   30.000000    30.00000   30.000000   30.000000   \n",
       "mean   31.300000  163.633333  469.100000  1248.20000   83.500000  688.233333   \n",
       "std    10.452355   31.823309   57.053725   103.75947   22.815225   72.108005   \n",
       "min    13.000000  100.000000  375.000000   973.00000   44.000000  525.000000   \n",
       "25%    23.000000  140.250000  428.250000  1157.50000   69.000000  636.250000   \n",
       "50%    31.000000  158.500000  473.000000  1261.50000   83.500000  695.500000   \n",
       "75%    39.000000  177.000000  501.250000  1311.50000   96.500000  732.500000   \n",
       "max    49.000000  232.000000  570.000000  1518.00000  134.000000  844.000000   \n",
       "\n",
       "               ER        ERA         CG        SHO         SV           E  \n",
       "count   30.000000  30.000000  30.000000  30.000000  30.000000   30.000000  \n",
       "mean   635.833333   3.956333   3.466667  11.300000  43.066667   94.333333  \n",
       "std     70.140786   0.454089   2.763473   4.120177   7.869335   13.958889  \n",
       "min    478.000000   2.940000   0.000000   4.000000  28.000000   75.000000  \n",
       "25%    587.250000   3.682500   1.000000   9.000000  37.250000   86.000000  \n",
       "50%    644.500000   4.025000   3.000000  12.000000  42.000000   91.000000  \n",
       "75%    679.250000   4.220000   5.750000  13.000000  46.750000   96.750000  \n",
       "max    799.000000   5.040000  11.000000  21.000000  62.000000  126.000000  "
      ]
     },
     "execution_count": 31,
     "metadata": {},
     "output_type": "execute_result"
    }
   ],
   "source": [
    "df.describe()"
   ]
  },
  {
   "cell_type": "code",
   "execution_count": 32,
   "id": "c3a0ccfd",
   "metadata": {},
   "outputs": [
    {
     "data": {
      "image/png": "[encoded data removed]",
      "text/plain": [
       "<Figure size 1080x864 with 2 Axes>"
      ]
     },
     "metadata": {
      "needs_background": "light"
     },
     "output_type": "display_data"
    }
   ],
   "source": [
    "plt.figure(figsize=(15,12))\n",
    "sns.heatmap(round(df.describe()[:].transpose(),2),linewidth=2,annot=True,fmt='f')\n",
    "plt.xticks(fontsize=18)\n",
    "plt.yticks(fontsize=12)\n",
    "plt.title(\"Variable Summary\")\n",
    "plt.show()"
   ]
  },
  {
   "cell_type": "code",
   "execution_count": 33,
   "id": "56441291",
   "metadata": {},
   "outputs": [
    {
     "data": {
      "text/html": [
       "<div>\n",
       "<style scoped>\n",
       "    .dataframe tbody tr th:only-of-type {\n",
       "        vertical-align: middle;\n",
       "    }\n",
       "\n",
       "    .dataframe tbody tr th {\n",
       "        vertical-align: top;\n",
       "    }\n",
       "\n",
       "    .dataframe thead th {\n",
       "        text-align: right;\n",
       "    }\n",
       "</style>\n",
       "<table border=\"1\" class=\"dataframe\">\n",
       "  <thead>\n",
       "    <tr style=\"text-align: right;\">\n",
       "      <th></th>\n",
       "      <th>W</th>\n",
       "      <th>R</th>\n",
       "      <th>AB</th>\n",
       "      <th>H</th>\n",
       "      <th>2B</th>\n",
       "      <th>3B</th>\n",
       "      <th>HR</th>\n",
       "      <th>BB</th>\n",
       "      <th>SO</th>\n",
       "      <th>SB</th>\n",
       "      <th>RA</th>\n",
       "      <th>ER</th>\n",
       "      <th>ERA</th>\n",
       "      <th>CG</th>\n",
       "      <th>SHO</th>\n",
       "      <th>SV</th>\n",
       "      <th>E</th>\n",
       "    </tr>\n",
       "  </thead>\n",
       "  <tbody>\n",
       "    <tr>\n",
       "      <th>count</th>\n",
       "      <td>30.000000</td>\n",
       "      <td>30.000000</td>\n",
       "      <td>30.000000</td>\n",
       "      <td>30.000000</td>\n",
       "      <td>30.000000</td>\n",
       "      <td>30.000000</td>\n",
       "      <td>30.000000</td>\n",
       "      <td>30.000000</td>\n",
       "      <td>30.00000</td>\n",
       "      <td>30.000000</td>\n",
       "      <td>30.000000</td>\n",
       "      <td>30.000000</td>\n",
       "      <td>30.000000</td>\n",
       "      <td>30.000000</td>\n",
       "      <td>30.000000</td>\n",
       "      <td>30.000000</td>\n",
       "      <td>30.000000</td>\n",
       "    </tr>\n",
       "    <tr>\n",
       "      <th>mean</th>\n",
       "      <td>80.966667</td>\n",
       "      <td>688.233333</td>\n",
       "      <td>5516.266667</td>\n",
       "      <td>1403.533333</td>\n",
       "      <td>274.733333</td>\n",
       "      <td>31.300000</td>\n",
       "      <td>163.633333</td>\n",
       "      <td>469.100000</td>\n",
       "      <td>1248.20000</td>\n",
       "      <td>83.500000</td>\n",
       "      <td>688.233333</td>\n",
       "      <td>635.833333</td>\n",
       "      <td>3.956333</td>\n",
       "      <td>3.466667</td>\n",
       "      <td>11.300000</td>\n",
       "      <td>43.066667</td>\n",
       "      <td>94.333333</td>\n",
       "    </tr>\n",
       "    <tr>\n",
       "      <th>std</th>\n",
       "      <td>10.453455</td>\n",
       "      <td>58.761754</td>\n",
       "      <td>70.467372</td>\n",
       "      <td>57.140923</td>\n",
       "      <td>18.095405</td>\n",
       "      <td>10.452355</td>\n",
       "      <td>31.823309</td>\n",
       "      <td>57.053725</td>\n",
       "      <td>103.75947</td>\n",
       "      <td>22.815225</td>\n",
       "      <td>72.108005</td>\n",
       "      <td>70.140786</td>\n",
       "      <td>0.454089</td>\n",
       "      <td>2.763473</td>\n",
       "      <td>4.120177</td>\n",
       "      <td>7.869335</td>\n",
       "      <td>13.958889</td>\n",
       "    </tr>\n",
       "    <tr>\n",
       "      <th>min</th>\n",
       "      <td>63.000000</td>\n",
       "      <td>573.000000</td>\n",
       "      <td>5385.000000</td>\n",
       "      <td>1324.000000</td>\n",
       "      <td>236.000000</td>\n",
       "      <td>13.000000</td>\n",
       "      <td>100.000000</td>\n",
       "      <td>375.000000</td>\n",
       "      <td>973.00000</td>\n",
       "      <td>44.000000</td>\n",
       "      <td>525.000000</td>\n",
       "      <td>478.000000</td>\n",
       "      <td>2.940000</td>\n",
       "      <td>0.000000</td>\n",
       "      <td>4.000000</td>\n",
       "      <td>28.000000</td>\n",
       "      <td>75.000000</td>\n",
       "    </tr>\n",
       "    <tr>\n",
       "      <th>25%</th>\n",
       "      <td>74.000000</td>\n",
       "      <td>651.250000</td>\n",
       "      <td>5464.000000</td>\n",
       "      <td>1363.000000</td>\n",
       "      <td>262.250000</td>\n",
       "      <td>23.000000</td>\n",
       "      <td>140.250000</td>\n",
       "      <td>428.250000</td>\n",
       "      <td>1157.50000</td>\n",
       "      <td>69.000000</td>\n",
       "      <td>636.250000</td>\n",
       "      <td>587.250000</td>\n",
       "      <td>3.682500</td>\n",
       "      <td>1.000000</td>\n",
       "      <td>9.000000</td>\n",
       "      <td>37.250000</td>\n",
       "      <td>86.000000</td>\n",
       "    </tr>\n",
       "    <tr>\n",
       "      <th>50%</th>\n",
       "      <td>81.000000</td>\n",
       "      <td>689.000000</td>\n",
       "      <td>5510.000000</td>\n",
       "      <td>1382.500000</td>\n",
       "      <td>275.500000</td>\n",
       "      <td>31.000000</td>\n",
       "      <td>158.500000</td>\n",
       "      <td>473.000000</td>\n",
       "      <td>1261.50000</td>\n",
       "      <td>83.500000</td>\n",
       "      <td>695.500000</td>\n",
       "      <td>644.500000</td>\n",
       "      <td>4.025000</td>\n",
       "      <td>3.000000</td>\n",
       "      <td>12.000000</td>\n",
       "      <td>42.000000</td>\n",
       "      <td>91.000000</td>\n",
       "    </tr>\n",
       "    <tr>\n",
       "      <th>75%</th>\n",
       "      <td>87.750000</td>\n",
       "      <td>718.250000</td>\n",
       "      <td>5570.000000</td>\n",
       "      <td>1451.500000</td>\n",
       "      <td>288.750000</td>\n",
       "      <td>39.000000</td>\n",
       "      <td>177.000000</td>\n",
       "      <td>501.250000</td>\n",
       "      <td>1311.50000</td>\n",
       "      <td>96.500000</td>\n",
       "      <td>732.500000</td>\n",
       "      <td>679.250000</td>\n",
       "      <td>4.220000</td>\n",
       "      <td>5.750000</td>\n",
       "      <td>13.000000</td>\n",
       "      <td>46.750000</td>\n",
       "      <td>96.750000</td>\n",
       "    </tr>\n",
       "    <tr>\n",
       "      <th>max</th>\n",
       "      <td>100.000000</td>\n",
       "      <td>891.000000</td>\n",
       "      <td>5649.000000</td>\n",
       "      <td>1515.000000</td>\n",
       "      <td>308.000000</td>\n",
       "      <td>49.000000</td>\n",
       "      <td>232.000000</td>\n",
       "      <td>570.000000</td>\n",
       "      <td>1518.00000</td>\n",
       "      <td>134.000000</td>\n",
       "      <td>844.000000</td>\n",
       "      <td>799.000000</td>\n",
       "      <td>5.040000</td>\n",
       "      <td>11.000000</td>\n",
       "      <td>21.000000</td>\n",
       "      <td>62.000000</td>\n",
       "      <td>126.000000</td>\n",
       "    </tr>\n",
       "  </tbody>\n",
       "</table>\n",
       "</div>"
      ],
      "text/plain": [
       "                W           R           AB            H          2B  \\\n",
       "count   30.000000   30.000000    30.000000    30.000000   30.000000   \n",
       "mean    80.966667  688.233333  5516.266667  1403.533333  274.733333   \n",
       "std     10.453455   58.761754    70.467372    57.140923   18.095405   \n",
       "min     63.000000  573.000000  5385.000000  1324.000000  236.000000   \n",
       "25%     74.000000  651.250000  5464.000000  1363.000000  262.250000   \n",
       "50%     81.000000  689.000000  5510.000000  1382.500000  275.500000   \n",
       "75%     87.750000  718.250000  5570.000000  1451.500000  288.750000   \n",
       "max    100.000000  891.000000  5649.000000  1515.000000  308.000000   \n",
       "\n",
       "              3B          HR          BB          SO          SB          RA  \\\n",
       "count  30.000000   30.000000   30.000000    30.00000   30.000000   30.000000   \n",
       "mean   31.300000  163.633333  469.100000  1248.20000   83.500000  688.233333   \n",
       "std    10.452355   31.823309   57.053725   103.75947   22.815225   72.108005   \n",
       "min    13.000000  100.000000  375.000000   973.00000   44.000000  525.000000   \n",
       "25%    23.000000  140.250000  428.250000  1157.50000   69.000000  636.250000   \n",
       "50%    31.000000  158.500000  473.000000  1261.50000   83.500000  695.500000   \n",
       "75%    39.000000  177.000000  501.250000  1311.50000   96.500000  732.500000   \n",
       "max    49.000000  232.000000  570.000000  1518.00000  134.000000  844.000000   \n",
       "\n",
       "               ER        ERA         CG        SHO         SV           E  \n",
       "count   30.000000  30.000000  30.000000  30.000000  30.000000   30.000000  \n",
       "mean   635.833333   3.956333   3.466667  11.300000  43.066667   94.333333  \n",
       "std     70.140786   0.454089   2.763473   4.120177   7.869335   13.958889  \n",
       "min    478.000000   2.940000   0.000000   4.000000  28.000000   75.000000  \n",
       "25%    587.250000   3.682500   1.000000   9.000000  37.250000   86.000000  \n",
       "50%    644.500000   4.025000   3.000000  12.000000  42.000000   91.000000  \n",
       "75%    679.250000   4.220000   5.750000  13.000000  46.750000   96.750000  \n",
       "max    799.000000   5.040000  11.000000  21.000000  62.000000  126.000000  "
      ]
     },
     "execution_count": 33,
     "metadata": {},
     "output_type": "execute_result"
    }
   ],
   "source": [
    "df.describe()"
   ]
  },
  {
   "cell_type": "markdown",
   "id": "e9410503",
   "metadata": {},
   "source": [
    "# Outliers Checking:"
   ]
  },
  {
   "cell_type": "code",
   "execution_count": 34,
   "id": "3aab86c0",
   "metadata": {},
   "outputs": [],
   "source": [
    "import warnings\n",
    "warnings.filterwarnings('ignore')"
   ]
  },
  {
   "cell_type": "code",
   "execution_count": 35,
   "id": "9bf3cacb",
   "metadata": {},
   "outputs": [
    {
     "data": {
      "image/png": "[encoded data removed]",
      "text/plain": [
       "<Figure size 2160x6480 with 17 Axes>"
      ]
     },
     "metadata": {
      "needs_background": "light"
     },
     "output_type": "display_data"
    }
   ],
   "source": [
    "collist=df.columns.values\n",
    "ncol=30\n",
    "nrows=14\n",
    "plt.figure(figsize=(ncol,3*ncol))\n",
    "for i in range(0, len(collist)):\n",
    "    plt.subplot(nrows,ncol,i+1)\n",
    "    sns.boxplot(df[collist[i]],color='green',orient='h')\n",
    "    plt.tight_layout()"
   ]
  },
  {
   "cell_type": "markdown",
   "id": "3198ebd9",
   "metadata": {},
   "source": [
    "From the above E we can see that columns['W','R','E','SHO','HR','ERA']has less outliers.columns['AB','H','3B','BB','CG']has more outliers while the outcome outlers has no outliers"
   ]
  },
  {
   "cell_type": "markdown",
   "id": "df6cbf94",
   "metadata": {},
   "source": [
    "# Skewness:"
   ]
  },
  {
   "cell_type": "code",
   "execution_count": 36,
   "id": "ff6763ee",
   "metadata": {},
   "outputs": [
    {
     "data": {
      "text/plain": [
       "W      0.047089\n",
       "R      1.200786\n",
       "AB     0.183437\n",
       "H      0.670254\n",
       "2B    -0.230650\n",
       "3B     0.129502\n",
       "HR     0.516441\n",
       "BB     0.158498\n",
       "SO    -0.156065\n",
       "SB     0.479893\n",
       "RA     0.045734\n",
       "ER     0.058710\n",
       "ERA    0.053331\n",
       "CG     0.736845\n",
       "SHO    0.565790\n",
       "SV     0.657524\n",
       "E      0.890132\n",
       "dtype: float64"
      ]
     },
     "execution_count": 36,
     "metadata": {},
     "output_type": "execute_result"
    }
   ],
   "source": [
    "df.skew()"
   ]
  },
  {
   "cell_type": "markdown",
   "id": "1160328f",
   "metadata": {},
   "source": [
    "Outcomes of the Skewness.Skewness threshold is takenis 0.89.columns which are having skewness.\n",
    "\n",
    "1.RA,W\n",
    "\n",
    "2.ERA,ER\n",
    "\n",
    "3.3B,AB\n",
    "\n",
    "4.BB\n",
    "\n",
    "5.SB,CG\n",
    "\n",
    "6.SHO,SV\n",
    "\n",
    "7.E"
   ]
  },
  {
   "cell_type": "markdown",
   "id": "cf1eb5bf",
   "metadata": {},
   "source": [
    "# Normal Distribution Curve:"
   ]
  },
  {
   "cell_type": "code",
   "execution_count": 37,
   "id": "b9759440",
   "metadata": {},
   "outputs": [
    {
     "data": {
      "text/plain": [
       "<AxesSubplot:xlabel='W', ylabel='Density'>"
      ]
     },
     "execution_count": 37,
     "metadata": {},
     "output_type": "execute_result"
    },
    {
     "data": {
      "image/png": "[encoded data removed]",
      "text/plain": [
       "<Figure size 432x288 with 1 Axes>"
      ]
     },
     "metadata": {
      "needs_background": "light"
     },
     "output_type": "display_data"
    }
   ],
   "source": [
    "sns.distplot(df[\"W\"])"
   ]
  },
  {
   "cell_type": "markdown",
   "id": "225be416",
   "metadata": {},
   "source": [
    "The data is not normalised.The biulding blocks is out of the normalised curve."
   ]
  },
  {
   "cell_type": "code",
   "execution_count": 38,
   "id": "c0fbd8db",
   "metadata": {},
   "outputs": [
    {
     "data": {
      "text/plain": [
       "<AxesSubplot:xlabel='R', ylabel='Density'>"
      ]
     },
     "execution_count": 38,
     "metadata": {},
     "output_type": "execute_result"
    },
    {
     "data": {
      "image/png": "[encoded data removed]",
      "text/plain": [
       "<Figure size 432x288 with 1 Axes>"
      ]
     },
     "metadata": {
      "needs_background": "light"
     },
     "output_type": "display_data"
    }
   ],
   "source": [
    "sns.distplot(df[\"R\"])"
   ]
  },
  {
   "cell_type": "markdown",
   "id": "b3466afc",
   "metadata": {},
   "source": [
    "The data is not normalised.The building blocks is out of the normalised curve."
   ]
  },
  {
   "cell_type": "code",
   "execution_count": 39,
   "id": "348fefed",
   "metadata": {},
   "outputs": [
    {
     "data": {
      "text/plain": [
       "<seaborn.axisgrid.FacetGrid at 0xc9faf40>"
      ]
     },
     "execution_count": 39,
     "metadata": {},
     "output_type": "execute_result"
    },
    {
     "data": {
      "image/png": "[encoded data removed]",
      "text/plain": [
       "<Figure size 360x360 with 1 Axes>"
      ]
     },
     "metadata": {
      "needs_background": "light"
     },
     "output_type": "display_data"
    }
   ],
   "source": [
    "sns.displot(df[\"AB\"])"
   ]
  },
  {
   "cell_type": "markdown",
   "id": "2dab5f8b",
   "metadata": {},
   "source": [
    "The data is not normalised.The building blocks is out of the normalised curve\n",
    "\n",
    "The plot is almost bimodal.Bimodal = Two modes(most occuring frequency)"
   ]
  },
  {
   "cell_type": "code",
   "execution_count": 40,
   "id": "35137e0f",
   "metadata": {},
   "outputs": [
    {
     "data": {
      "text/plain": [
       "<AxesSubplot:xlabel='H', ylabel='Density'>"
      ]
     },
     "execution_count": 40,
     "metadata": {},
     "output_type": "execute_result"
    },
    {
     "data": {
      "image/png": "[encoded data removed]",
      "text/plain": [
       "<Figure size 432x288 with 1 Axes>"
      ]
     },
     "metadata": {
      "needs_background": "light"
     },
     "output_type": "display_data"
    }
   ],
   "source": [
    "sns.distplot(df[\"H\"])"
   ]
  },
  {
   "cell_type": "markdown",
   "id": "e5cb3f1d",
   "metadata": {},
   "source": [
    "The data is not normalised.The building blocks is out of the normalised curve"
   ]
  },
  {
   "cell_type": "code",
   "execution_count": 41,
   "id": "50f7a0c0",
   "metadata": {},
   "outputs": [
    {
     "data": {
      "text/plain": [
       "<AxesSubplot:xlabel='2B', ylabel='Density'>"
      ]
     },
     "execution_count": 41,
     "metadata": {},
     "output_type": "execute_result"
    },
    {
     "data": {
      "image/png": "[encoded data removed]",
      "text/plain": [
       "<Figure size 432x288 with 1 Axes>"
      ]
     },
     "metadata": {
      "needs_background": "light"
     },
     "output_type": "display_data"
    }
   ],
   "source": [
    "sns.distplot(df[\"2B\"])"
   ]
  },
  {
   "cell_type": "markdown",
   "id": "09ec7707",
   "metadata": {},
   "source": [
    "The data is not normalised.The building blocks is out of the normalised curve"
   ]
  },
  {
   "cell_type": "code",
   "execution_count": 42,
   "id": "d3db5e45",
   "metadata": {},
   "outputs": [
    {
     "data": {
      "text/plain": [
       "<AxesSubplot:xlabel='3B', ylabel='Density'>"
      ]
     },
     "execution_count": 42,
     "metadata": {},
     "output_type": "execute_result"
    },
    {
     "data": {
      "image/png": "[encoded data removed]",
      "text/plain": [
       "<Figure size 432x288 with 1 Axes>"
      ]
     },
     "metadata": {
      "needs_background": "light"
     },
     "output_type": "display_data"
    }
   ],
   "source": [
    "sns.distplot(df[\"3B\"])"
   ]
  },
  {
   "cell_type": "markdown",
   "id": "39538a31",
   "metadata": {},
   "source": [
    "The data is not normalised.The building blocks is out of the normalised curve\n",
    "\n",
    "The plot is almost bimodal.Bimodal = Two modes(most occuring frequency)"
   ]
  },
  {
   "cell_type": "code",
   "execution_count": 43,
   "id": "f9c5198d",
   "metadata": {},
   "outputs": [
    {
     "data": {
      "text/plain": [
       "<AxesSubplot:xlabel='HR', ylabel='Density'>"
      ]
     },
     "execution_count": 43,
     "metadata": {},
     "output_type": "execute_result"
    },
    {
     "data": {
      "image/png": "[encoded data removed]",
      "text/plain": [
       "<Figure size 432x288 with 1 Axes>"
      ]
     },
     "metadata": {
      "needs_background": "light"
     },
     "output_type": "display_data"
    }
   ],
   "source": [
    "sns.distplot(df[\"HR\"])"
   ]
  },
  {
   "cell_type": "markdown",
   "id": "7a63ecb7",
   "metadata": {},
   "source": [
    "The data is not normalised.The building blocks is out of the normalised curve"
   ]
  },
  {
   "cell_type": "code",
   "execution_count": 44,
   "id": "1b8f7dce",
   "metadata": {},
   "outputs": [
    {
     "data": {
      "text/plain": [
       "<AxesSubplot:xlabel='BB', ylabel='Density'>"
      ]
     },
     "execution_count": 44,
     "metadata": {},
     "output_type": "execute_result"
    },
    {
     "data": {
      "image/png": "[encoded data removed]",
      "text/plain": [
       "<Figure size 432x288 with 1 Axes>"
      ]
     },
     "metadata": {
      "needs_background": "light"
     },
     "output_type": "display_data"
    }
   ],
   "source": [
    "sns.distplot(df[\"BB\"])"
   ]
  },
  {
   "cell_type": "markdown",
   "id": "276b6e69",
   "metadata": {},
   "source": [
    "The data is not normalised.The building blocks is out of the normalised curve"
   ]
  },
  {
   "cell_type": "code",
   "execution_count": 45,
   "id": "c343c86a",
   "metadata": {},
   "outputs": [
    {
     "data": {
      "text/plain": [
       "<AxesSubplot:xlabel='SO', ylabel='Density'>"
      ]
     },
     "execution_count": 45,
     "metadata": {},
     "output_type": "execute_result"
    },
    {
     "data": {
      "image/png": "[encoded data removed]",
      "text/plain": [
       "<Figure size 432x288 with 1 Axes>"
      ]
     },
     "metadata": {
      "needs_background": "light"
     },
     "output_type": "display_data"
    }
   ],
   "source": [
    "sns.distplot(df[\"SO\"])"
   ]
  },
  {
   "cell_type": "markdown",
   "id": "25d84f0f",
   "metadata": {},
   "source": [
    "The data is not normalised.The building blocks is out of the normalised curve"
   ]
  },
  {
   "cell_type": "code",
   "execution_count": 46,
   "id": "daf5755a",
   "metadata": {},
   "outputs": [
    {
     "data": {
      "text/plain": [
       "<AxesSubplot:xlabel='SB', ylabel='Density'>"
      ]
     },
     "execution_count": 46,
     "metadata": {},
     "output_type": "execute_result"
    },
    {
     "data": {
      "image/png": "[encoded data removed]",
      "text/plain": [
       "<Figure size 432x288 with 1 Axes>"
      ]
     },
     "metadata": {
      "needs_background": "light"
     },
     "output_type": "display_data"
    }
   ],
   "source": [
    "sns.distplot(df[\"SB\"])"
   ]
  },
  {
   "cell_type": "markdown",
   "id": "8140bb23",
   "metadata": {},
   "source": [
    "The data is not normalised.The building blocks is out of the normalised curve"
   ]
  },
  {
   "cell_type": "code",
   "execution_count": 47,
   "id": "a1cf1c9c",
   "metadata": {},
   "outputs": [
    {
     "data": {
      "text/plain": [
       "<AxesSubplot:xlabel='RA', ylabel='Density'>"
      ]
     },
     "execution_count": 47,
     "metadata": {},
     "output_type": "execute_result"
    },
    {
     "data": {
      "image/png": "[encoded data removed]",
      "text/plain": [
       "<Figure size 432x288 with 1 Axes>"
      ]
     },
     "metadata": {
      "needs_background": "light"
     },
     "output_type": "display_data"
    }
   ],
   "source": [
    "sns.distplot(df[\"RA\"])"
   ]
  },
  {
   "cell_type": "markdown",
   "id": "36ffd3ce",
   "metadata": {},
   "source": [
    "The data is not normalised.The building blocks is out of the normalised curve"
   ]
  },
  {
   "cell_type": "code",
   "execution_count": 48,
   "id": "62d4c669",
   "metadata": {},
   "outputs": [
    {
     "data": {
      "text/plain": [
       "<AxesSubplot:xlabel='ER', ylabel='Density'>"
      ]
     },
     "execution_count": 48,
     "metadata": {},
     "output_type": "execute_result"
    },
    {
     "data": {
      "image/png": "[encoded data removed]",
      "text/plain": [
       "<Figure size 432x288 with 1 Axes>"
      ]
     },
     "metadata": {
      "needs_background": "light"
     },
     "output_type": "display_data"
    }
   ],
   "source": [
    "sns.distplot(df[\"ER\"])"
   ]
  },
  {
   "cell_type": "markdown",
   "id": "db09ef70",
   "metadata": {},
   "source": [
    "The data is not normalised.The building blocks is out of the normalised curve"
   ]
  },
  {
   "cell_type": "code",
   "execution_count": 49,
   "id": "4e78903d",
   "metadata": {},
   "outputs": [
    {
     "data": {
      "text/plain": [
       "<AxesSubplot:xlabel='ERA', ylabel='Density'>"
      ]
     },
     "execution_count": 49,
     "metadata": {},
     "output_type": "execute_result"
    },
    {
     "data": {
      "image/png": "[encoded data removed]",
      "text/plain": [
       "<Figure size 432x288 with 1 Axes>"
      ]
     },
     "metadata": {
      "needs_background": "light"
     },
     "output_type": "display_data"
    }
   ],
   "source": [
    "sns.distplot(df[\"ERA\"])"
   ]
  },
  {
   "cell_type": "markdown",
   "id": "903a5c5f",
   "metadata": {},
   "source": [
    "The data is not normalised.The building blocks is out of the normalised curve\n",
    "\n",
    "The plot is almost bimodal.Bimodal modes = Two modes(most occuring frequency)"
   ]
  },
  {
   "cell_type": "code",
   "execution_count": 50,
   "id": "59081258",
   "metadata": {},
   "outputs": [
    {
     "data": {
      "text/plain": [
       "<AxesSubplot:xlabel='CG', ylabel='Density'>"
      ]
     },
     "execution_count": 50,
     "metadata": {},
     "output_type": "execute_result"
    },
    {
     "data": {
      "image/png": "[encoded data removed]",
      "text/plain": [
       "<Figure size 432x288 with 1 Axes>"
      ]
     },
     "metadata": {
      "needs_background": "light"
     },
     "output_type": "display_data"
    }
   ],
   "source": [
    "sns.distplot(df[\"CG\"])"
   ]
  },
  {
   "cell_type": "markdown",
   "id": "857fc2f6",
   "metadata": {},
   "source": [
    "The data is not normalised.The building blocks is out of the normalised curve"
   ]
  },
  {
   "cell_type": "code",
   "execution_count": 52,
   "id": "afce796d",
   "metadata": {},
   "outputs": [
    {
     "data": {
      "text/plain": [
       "<AxesSubplot:xlabel='SHO', ylabel='Density'>"
      ]
     },
     "execution_count": 52,
     "metadata": {},
     "output_type": "execute_result"
    },
    {
     "data": {
      "image/png": "[encoded data removed]",
      "text/plain": [
       "<Figure size 432x288 with 1 Axes>"
      ]
     },
     "metadata": {
      "needs_background": "light"
     },
     "output_type": "display_data"
    }
   ],
   "source": [
    "sns.distplot(df[\"SHO\"])"
   ]
  },
  {
   "cell_type": "markdown",
   "id": "d0a622ae",
   "metadata": {},
   "source": [
    "The data is not normalised.The building blocks is out of the normalised curve\n",
    "\n",
    "The plot is almost bimodal.Bomodal modes = Two modes(most occuring frequency)"
   ]
  },
  {
   "cell_type": "code",
   "execution_count": 53,
   "id": "f957331e",
   "metadata": {},
   "outputs": [
    {
     "data": {
      "text/plain": [
       "<AxesSubplot:xlabel='SV', ylabel='Density'>"
      ]
     },
     "execution_count": 53,
     "metadata": {},
     "output_type": "execute_result"
    },
    {
     "data": {
      "image/png": "[encoded data removed]",
      "text/plain": [
       "<Figure size 432x288 with 1 Axes>"
      ]
     },
     "metadata": {
      "needs_background": "light"
     },
     "output_type": "display_data"
    }
   ],
   "source": [
    "sns.distplot(df[\"SV\"])"
   ]
  },
  {
   "cell_type": "markdown",
   "id": "9f1ac0aa",
   "metadata": {},
   "source": [
    "The data is not normalised.The building blocks is out of the normalised curve"
   ]
  },
  {
   "cell_type": "code",
   "execution_count": 54,
   "id": "1ab518d1",
   "metadata": {},
   "outputs": [
    {
     "data": {
      "text/plain": [
       "<AxesSubplot:xlabel='E', ylabel='Density'>"
      ]
     },
     "execution_count": 54,
     "metadata": {},
     "output_type": "execute_result"
    },
    {
     "data": {
      "image/png": "[encoded data removed]",
      "text/plain": [
       "<Figure size 432x288 with 1 Axes>"
      ]
     },
     "metadata": {
      "needs_background": "light"
     },
     "output_type": "display_data"
    }
   ],
   "source": [
    "sns.distplot(df[\"E\"])"
   ]
  },
  {
   "cell_type": "markdown",
   "id": "5d31c3e4",
   "metadata": {},
   "source": [
    "The data is not normalised.The building blocks is out of the normalised curve"
   ]
  },
  {
   "cell_type": "markdown",
   "id": "4bf2ff15",
   "metadata": {},
   "source": [
    "The normal distribution curve of the E is irrelavent"
   ]
  },
  {
   "cell_type": "markdown",
   "id": "6a40ce94",
   "metadata": {},
   "source": [
    "The normal distribution shows that the data is skewed"
   ]
  },
  {
   "cell_type": "markdown",
   "id": "60018844",
   "metadata": {},
   "source": [
    "# Data Cleaning:"
   ]
  },
  {
   "cell_type": "code",
   "execution_count": 55,
   "id": "49e442a7",
   "metadata": {},
   "outputs": [
    {
     "data": {
      "text/plain": [
       "W     -0.089485\n",
       "R     -0.023262\n",
       "AB     0.316743\n",
       "H     -0.033173\n",
       "2B     0.105754\n",
       "3B     0.126678\n",
       "HR    -0.207597\n",
       "BB    -0.075685\n",
       "SO     0.155133\n",
       "SB     0.079149\n",
       "RA     0.198996\n",
       "ER     0.136921\n",
       "ERA    0.113137\n",
       "CG    -0.140047\n",
       "SHO   -0.115716\n",
       "SV    -0.025636\n",
       "E      1.000000\n",
       "Name: E, dtype: float64"
      ]
     },
     "execution_count": 55,
     "metadata": {},
     "output_type": "execute_result"
    }
   ],
   "source": [
    "df.corr()['E']"
   ]
  },
  {
   "cell_type": "code",
   "execution_count": 56,
   "id": "da06b5d2",
   "metadata": {},
   "outputs": [
    {
     "data": {
      "text/html": [
       "<div>\n",
       "<style scoped>\n",
       "    .dataframe tbody tr th:only-of-type {\n",
       "        vertical-align: middle;\n",
       "    }\n",
       "\n",
       "    .dataframe tbody tr th {\n",
       "        vertical-align: top;\n",
       "    }\n",
       "\n",
       "    .dataframe thead th {\n",
       "        text-align: right;\n",
       "    }\n",
       "</style>\n",
       "<table border=\"1\" class=\"dataframe\">\n",
       "  <thead>\n",
       "    <tr style=\"text-align: right;\">\n",
       "      <th></th>\n",
       "      <th>Correlation with Target</th>\n",
       "      <th>Column Name</th>\n",
       "      <th>Normalised</th>\n",
       "      <th>Outliers</th>\n",
       "    </tr>\n",
       "  </thead>\n",
       "  <tbody>\n",
       "    <tr>\n",
       "      <th>0</th>\n",
       "      <td>-0.207597</td>\n",
       "      <td>HR</td>\n",
       "      <td>NO</td>\n",
       "      <td>Alot</td>\n",
       "    </tr>\n",
       "    <tr>\n",
       "      <th>1</th>\n",
       "      <td>0.198996</td>\n",
       "      <td>RA</td>\n",
       "      <td>NO</td>\n",
       "      <td>Alot</td>\n",
       "    </tr>\n",
       "    <tr>\n",
       "      <th>2</th>\n",
       "      <td>-0025636</td>\n",
       "      <td>SV</td>\n",
       "      <td>NO</td>\n",
       "      <td>Alot</td>\n",
       "    </tr>\n",
       "  </tbody>\n",
       "</table>\n",
       "</div>"
      ],
      "text/plain": [
       "  Correlation with Target Column Name Normalised Outliers\n",
       "0               -0.207597          HR         NO     Alot\n",
       "1                0.198996          RA         NO     Alot\n",
       "2                -0025636          SV         NO     Alot"
      ]
     },
     "execution_count": 56,
     "metadata": {},
     "output_type": "execute_result"
    }
   ],
   "source": [
    "delete=pd.DataFrame([[\"-0.207597\",\"HR\",\"NO\",\"Alot\"],[\"0.198996\",\"RA\",\"NO\",\"Alot\"],[\"-0025636\",\"SV\",\"NO\",\"Alot\"]],columns=[\"Correlation with Target\",\"Column Name\",\"Normalised\",\"Outliers\"])\n",
    "delete"
   ]
  },
  {
   "cell_type": "markdown",
   "id": "c6a77dd4",
   "metadata": {},
   "source": [
    "Here we are setting threshold of correlation is standard.The datasets demands."
   ]
  },
  {
   "cell_type": "code",
   "execution_count": 57,
   "id": "14ff654c",
   "metadata": {},
   "outputs": [],
   "source": [
    "df=df.drop([\"HR\",\"RA\",\"SV\"],axis=1)"
   ]
  },
  {
   "cell_type": "code",
   "execution_count": 58,
   "id": "e16144c9",
   "metadata": {},
   "outputs": [
    {
     "data": {
      "text/html": [
       "<div>\n",
       "<style scoped>\n",
       "    .dataframe tbody tr th:only-of-type {\n",
       "        vertical-align: middle;\n",
       "    }\n",
       "\n",
       "    .dataframe tbody tr th {\n",
       "        vertical-align: top;\n",
       "    }\n",
       "\n",
       "    .dataframe thead th {\n",
       "        text-align: right;\n",
       "    }\n",
       "</style>\n",
       "<table border=\"1\" class=\"dataframe\">\n",
       "  <thead>\n",
       "    <tr style=\"text-align: right;\">\n",
       "      <th></th>\n",
       "      <th>W</th>\n",
       "      <th>R</th>\n",
       "      <th>AB</th>\n",
       "      <th>H</th>\n",
       "      <th>2B</th>\n",
       "      <th>3B</th>\n",
       "      <th>BB</th>\n",
       "      <th>SO</th>\n",
       "      <th>SB</th>\n",
       "      <th>ER</th>\n",
       "      <th>ERA</th>\n",
       "      <th>CG</th>\n",
       "      <th>SHO</th>\n",
       "      <th>E</th>\n",
       "    </tr>\n",
       "  </thead>\n",
       "  <tbody>\n",
       "    <tr>\n",
       "      <th>0</th>\n",
       "      <td>95</td>\n",
       "      <td>724</td>\n",
       "      <td>5575</td>\n",
       "      <td>1497</td>\n",
       "      <td>300</td>\n",
       "      <td>42</td>\n",
       "      <td>383</td>\n",
       "      <td>973</td>\n",
       "      <td>104</td>\n",
       "      <td>601</td>\n",
       "      <td>3.73</td>\n",
       "      <td>2</td>\n",
       "      <td>8</td>\n",
       "      <td>88</td>\n",
       "    </tr>\n",
       "    <tr>\n",
       "      <th>1</th>\n",
       "      <td>83</td>\n",
       "      <td>696</td>\n",
       "      <td>5467</td>\n",
       "      <td>1349</td>\n",
       "      <td>277</td>\n",
       "      <td>44</td>\n",
       "      <td>439</td>\n",
       "      <td>1264</td>\n",
       "      <td>70</td>\n",
       "      <td>653</td>\n",
       "      <td>4.07</td>\n",
       "      <td>2</td>\n",
       "      <td>12</td>\n",
       "      <td>86</td>\n",
       "    </tr>\n",
       "    <tr>\n",
       "      <th>2</th>\n",
       "      <td>81</td>\n",
       "      <td>669</td>\n",
       "      <td>5439</td>\n",
       "      <td>1395</td>\n",
       "      <td>303</td>\n",
       "      <td>29</td>\n",
       "      <td>533</td>\n",
       "      <td>1157</td>\n",
       "      <td>86</td>\n",
       "      <td>584</td>\n",
       "      <td>3.67</td>\n",
       "      <td>11</td>\n",
       "      <td>10</td>\n",
       "      <td>79</td>\n",
       "    </tr>\n",
       "    <tr>\n",
       "      <th>3</th>\n",
       "      <td>76</td>\n",
       "      <td>622</td>\n",
       "      <td>5533</td>\n",
       "      <td>1381</td>\n",
       "      <td>260</td>\n",
       "      <td>27</td>\n",
       "      <td>404</td>\n",
       "      <td>1231</td>\n",
       "      <td>68</td>\n",
       "      <td>643</td>\n",
       "      <td>3.98</td>\n",
       "      <td>7</td>\n",
       "      <td>9</td>\n",
       "      <td>101</td>\n",
       "    </tr>\n",
       "    <tr>\n",
       "      <th>4</th>\n",
       "      <td>74</td>\n",
       "      <td>689</td>\n",
       "      <td>5605</td>\n",
       "      <td>1515</td>\n",
       "      <td>289</td>\n",
       "      <td>49</td>\n",
       "      <td>455</td>\n",
       "      <td>1259</td>\n",
       "      <td>83</td>\n",
       "      <td>746</td>\n",
       "      <td>4.64</td>\n",
       "      <td>7</td>\n",
       "      <td>12</td>\n",
       "      <td>86</td>\n",
       "    </tr>\n",
       "    <tr>\n",
       "      <th>5</th>\n",
       "      <td>93</td>\n",
       "      <td>891</td>\n",
       "      <td>5509</td>\n",
       "      <td>1480</td>\n",
       "      <td>308</td>\n",
       "      <td>17</td>\n",
       "      <td>570</td>\n",
       "      <td>1151</td>\n",
       "      <td>88</td>\n",
       "      <td>609</td>\n",
       "      <td>3.80</td>\n",
       "      <td>7</td>\n",
       "      <td>10</td>\n",
       "      <td>88</td>\n",
       "    </tr>\n",
       "    <tr>\n",
       "      <th>6</th>\n",
       "      <td>87</td>\n",
       "      <td>764</td>\n",
       "      <td>5567</td>\n",
       "      <td>1397</td>\n",
       "      <td>272</td>\n",
       "      <td>19</td>\n",
       "      <td>554</td>\n",
       "      <td>1227</td>\n",
       "      <td>63</td>\n",
       "      <td>652</td>\n",
       "      <td>4.03</td>\n",
       "      <td>3</td>\n",
       "      <td>4</td>\n",
       "      <td>93</td>\n",
       "    </tr>\n",
       "    <tr>\n",
       "      <th>7</th>\n",
       "      <td>81</td>\n",
       "      <td>713</td>\n",
       "      <td>5485</td>\n",
       "      <td>1370</td>\n",
       "      <td>246</td>\n",
       "      <td>20</td>\n",
       "      <td>418</td>\n",
       "      <td>1331</td>\n",
       "      <td>44</td>\n",
       "      <td>646</td>\n",
       "      <td>4.05</td>\n",
       "      <td>0</td>\n",
       "      <td>10</td>\n",
       "      <td>77</td>\n",
       "    </tr>\n",
       "    <tr>\n",
       "      <th>8</th>\n",
       "      <td>80</td>\n",
       "      <td>644</td>\n",
       "      <td>5485</td>\n",
       "      <td>1383</td>\n",
       "      <td>278</td>\n",
       "      <td>32</td>\n",
       "      <td>436</td>\n",
       "      <td>1310</td>\n",
       "      <td>87</td>\n",
       "      <td>604</td>\n",
       "      <td>3.74</td>\n",
       "      <td>1</td>\n",
       "      <td>12</td>\n",
       "      <td>95</td>\n",
       "    </tr>\n",
       "    <tr>\n",
       "      <th>9</th>\n",
       "      <td>78</td>\n",
       "      <td>748</td>\n",
       "      <td>5640</td>\n",
       "      <td>1495</td>\n",
       "      <td>294</td>\n",
       "      <td>33</td>\n",
       "      <td>478</td>\n",
       "      <td>1148</td>\n",
       "      <td>71</td>\n",
       "      <td>694</td>\n",
       "      <td>4.31</td>\n",
       "      <td>3</td>\n",
       "      <td>10</td>\n",
       "      <td>97</td>\n",
       "    </tr>\n",
       "    <tr>\n",
       "      <th>10</th>\n",
       "      <td>88</td>\n",
       "      <td>751</td>\n",
       "      <td>5511</td>\n",
       "      <td>1419</td>\n",
       "      <td>279</td>\n",
       "      <td>32</td>\n",
       "      <td>503</td>\n",
       "      <td>1233</td>\n",
       "      <td>101</td>\n",
       "      <td>680</td>\n",
       "      <td>4.24</td>\n",
       "      <td>5</td>\n",
       "      <td>9</td>\n",
       "      <td>119</td>\n",
       "    </tr>\n",
       "    <tr>\n",
       "      <th>11</th>\n",
       "      <td>86</td>\n",
       "      <td>729</td>\n",
       "      <td>5459</td>\n",
       "      <td>1363</td>\n",
       "      <td>278</td>\n",
       "      <td>26</td>\n",
       "      <td>486</td>\n",
       "      <td>1392</td>\n",
       "      <td>121</td>\n",
       "      <td>572</td>\n",
       "      <td>3.57</td>\n",
       "      <td>5</td>\n",
       "      <td>13</td>\n",
       "      <td>85</td>\n",
       "    </tr>\n",
       "    <tr>\n",
       "      <th>12</th>\n",
       "      <td>85</td>\n",
       "      <td>661</td>\n",
       "      <td>5417</td>\n",
       "      <td>1331</td>\n",
       "      <td>243</td>\n",
       "      <td>21</td>\n",
       "      <td>435</td>\n",
       "      <td>1150</td>\n",
       "      <td>52</td>\n",
       "      <td>630</td>\n",
       "      <td>3.94</td>\n",
       "      <td>2</td>\n",
       "      <td>12</td>\n",
       "      <td>93</td>\n",
       "    </tr>\n",
       "    <tr>\n",
       "      <th>13</th>\n",
       "      <td>76</td>\n",
       "      <td>656</td>\n",
       "      <td>5544</td>\n",
       "      <td>1379</td>\n",
       "      <td>262</td>\n",
       "      <td>22</td>\n",
       "      <td>478</td>\n",
       "      <td>1336</td>\n",
       "      <td>69</td>\n",
       "      <td>677</td>\n",
       "      <td>4.16</td>\n",
       "      <td>6</td>\n",
       "      <td>12</td>\n",
       "      <td>94</td>\n",
       "    </tr>\n",
       "    <tr>\n",
       "      <th>14</th>\n",
       "      <td>68</td>\n",
       "      <td>694</td>\n",
       "      <td>5600</td>\n",
       "      <td>1405</td>\n",
       "      <td>277</td>\n",
       "      <td>46</td>\n",
       "      <td>475</td>\n",
       "      <td>1119</td>\n",
       "      <td>78</td>\n",
       "      <td>664</td>\n",
       "      <td>4.14</td>\n",
       "      <td>5</td>\n",
       "      <td>15</td>\n",
       "      <td>126</td>\n",
       "    </tr>\n",
       "    <tr>\n",
       "      <th>15</th>\n",
       "      <td>100</td>\n",
       "      <td>647</td>\n",
       "      <td>5484</td>\n",
       "      <td>1386</td>\n",
       "      <td>288</td>\n",
       "      <td>39</td>\n",
       "      <td>506</td>\n",
       "      <td>1267</td>\n",
       "      <td>69</td>\n",
       "      <td>478</td>\n",
       "      <td>2.94</td>\n",
       "      <td>1</td>\n",
       "      <td>15</td>\n",
       "      <td>96</td>\n",
       "    </tr>\n",
       "    <tr>\n",
       "      <th>16</th>\n",
       "      <td>98</td>\n",
       "      <td>697</td>\n",
       "      <td>5631</td>\n",
       "      <td>1462</td>\n",
       "      <td>292</td>\n",
       "      <td>27</td>\n",
       "      <td>461</td>\n",
       "      <td>1322</td>\n",
       "      <td>98</td>\n",
       "      <td>532</td>\n",
       "      <td>3.21</td>\n",
       "      <td>0</td>\n",
       "      <td>13</td>\n",
       "      <td>122</td>\n",
       "    </tr>\n",
       "    <tr>\n",
       "      <th>17</th>\n",
       "      <td>97</td>\n",
       "      <td>689</td>\n",
       "      <td>5491</td>\n",
       "      <td>1341</td>\n",
       "      <td>272</td>\n",
       "      <td>30</td>\n",
       "      <td>567</td>\n",
       "      <td>1518</td>\n",
       "      <td>95</td>\n",
       "      <td>546</td>\n",
       "      <td>3.36</td>\n",
       "      <td>6</td>\n",
       "      <td>21</td>\n",
       "      <td>111</td>\n",
       "    </tr>\n",
       "    <tr>\n",
       "      <th>18</th>\n",
       "      <td>68</td>\n",
       "      <td>655</td>\n",
       "      <td>5480</td>\n",
       "      <td>1378</td>\n",
       "      <td>274</td>\n",
       "      <td>34</td>\n",
       "      <td>412</td>\n",
       "      <td>1299</td>\n",
       "      <td>84</td>\n",
       "      <td>682</td>\n",
       "      <td>4.28</td>\n",
       "      <td>1</td>\n",
       "      <td>7</td>\n",
       "      <td>116</td>\n",
       "    </tr>\n",
       "    <tr>\n",
       "      <th>19</th>\n",
       "      <td>64</td>\n",
       "      <td>640</td>\n",
       "      <td>5571</td>\n",
       "      <td>1382</td>\n",
       "      <td>257</td>\n",
       "      <td>27</td>\n",
       "      <td>496</td>\n",
       "      <td>1255</td>\n",
       "      <td>134</td>\n",
       "      <td>700</td>\n",
       "      <td>4.33</td>\n",
       "      <td>2</td>\n",
       "      <td>8</td>\n",
       "      <td>90</td>\n",
       "    </tr>\n",
       "    <tr>\n",
       "      <th>20</th>\n",
       "      <td>90</td>\n",
       "      <td>683</td>\n",
       "      <td>5527</td>\n",
       "      <td>1351</td>\n",
       "      <td>295</td>\n",
       "      <td>17</td>\n",
       "      <td>488</td>\n",
       "      <td>1290</td>\n",
       "      <td>51</td>\n",
       "      <td>557</td>\n",
       "      <td>3.43</td>\n",
       "      <td>1</td>\n",
       "      <td>14</td>\n",
       "      <td>88</td>\n",
       "    </tr>\n",
       "    <tr>\n",
       "      <th>21</th>\n",
       "      <td>83</td>\n",
       "      <td>703</td>\n",
       "      <td>5428</td>\n",
       "      <td>1363</td>\n",
       "      <td>265</td>\n",
       "      <td>13</td>\n",
       "      <td>539</td>\n",
       "      <td>1344</td>\n",
       "      <td>57</td>\n",
       "      <td>577</td>\n",
       "      <td>3.62</td>\n",
       "      <td>4</td>\n",
       "      <td>13</td>\n",
       "      <td>90</td>\n",
       "    </tr>\n",
       "    <tr>\n",
       "      <th>22</th>\n",
       "      <td>71</td>\n",
       "      <td>613</td>\n",
       "      <td>5463</td>\n",
       "      <td>1420</td>\n",
       "      <td>236</td>\n",
       "      <td>40</td>\n",
       "      <td>375</td>\n",
       "      <td>1150</td>\n",
       "      <td>112</td>\n",
       "      <td>638</td>\n",
       "      <td>4.02</td>\n",
       "      <td>0</td>\n",
       "      <td>12</td>\n",
       "      <td>77</td>\n",
       "    </tr>\n",
       "    <tr>\n",
       "      <th>23</th>\n",
       "      <td>67</td>\n",
       "      <td>573</td>\n",
       "      <td>5420</td>\n",
       "      <td>1361</td>\n",
       "      <td>251</td>\n",
       "      <td>18</td>\n",
       "      <td>471</td>\n",
       "      <td>1107</td>\n",
       "      <td>69</td>\n",
       "      <td>698</td>\n",
       "      <td>4.41</td>\n",
       "      <td>3</td>\n",
       "      <td>10</td>\n",
       "      <td>90</td>\n",
       "    </tr>\n",
       "    <tr>\n",
       "      <th>24</th>\n",
       "      <td>63</td>\n",
       "      <td>626</td>\n",
       "      <td>5529</td>\n",
       "      <td>1374</td>\n",
       "      <td>272</td>\n",
       "      <td>37</td>\n",
       "      <td>387</td>\n",
       "      <td>1274</td>\n",
       "      <td>88</td>\n",
       "      <td>749</td>\n",
       "      <td>4.69</td>\n",
       "      <td>1</td>\n",
       "      <td>7</td>\n",
       "      <td>117</td>\n",
       "    </tr>\n",
       "    <tr>\n",
       "      <th>25</th>\n",
       "      <td>92</td>\n",
       "      <td>667</td>\n",
       "      <td>5385</td>\n",
       "      <td>1346</td>\n",
       "      <td>263</td>\n",
       "      <td>26</td>\n",
       "      <td>563</td>\n",
       "      <td>1258</td>\n",
       "      <td>59</td>\n",
       "      <td>553</td>\n",
       "      <td>3.44</td>\n",
       "      <td>6</td>\n",
       "      <td>21</td>\n",
       "      <td>75</td>\n",
       "    </tr>\n",
       "    <tr>\n",
       "      <th>26</th>\n",
       "      <td>84</td>\n",
       "      <td>696</td>\n",
       "      <td>5565</td>\n",
       "      <td>1486</td>\n",
       "      <td>288</td>\n",
       "      <td>39</td>\n",
       "      <td>457</td>\n",
       "      <td>1159</td>\n",
       "      <td>93</td>\n",
       "      <td>597</td>\n",
       "      <td>3.72</td>\n",
       "      <td>7</td>\n",
       "      <td>18</td>\n",
       "      <td>78</td>\n",
       "    </tr>\n",
       "    <tr>\n",
       "      <th>27</th>\n",
       "      <td>79</td>\n",
       "      <td>720</td>\n",
       "      <td>5649</td>\n",
       "      <td>1494</td>\n",
       "      <td>289</td>\n",
       "      <td>48</td>\n",
       "      <td>490</td>\n",
       "      <td>1312</td>\n",
       "      <td>132</td>\n",
       "      <td>659</td>\n",
       "      <td>4.04</td>\n",
       "      <td>1</td>\n",
       "      <td>12</td>\n",
       "      <td>86</td>\n",
       "    </tr>\n",
       "    <tr>\n",
       "      <th>28</th>\n",
       "      <td>74</td>\n",
       "      <td>650</td>\n",
       "      <td>5457</td>\n",
       "      <td>1324</td>\n",
       "      <td>260</td>\n",
       "      <td>36</td>\n",
       "      <td>426</td>\n",
       "      <td>1327</td>\n",
       "      <td>82</td>\n",
       "      <td>655</td>\n",
       "      <td>4.09</td>\n",
       "      <td>1</td>\n",
       "      <td>6</td>\n",
       "      <td>92</td>\n",
       "    </tr>\n",
       "    <tr>\n",
       "      <th>29</th>\n",
       "      <td>68</td>\n",
       "      <td>737</td>\n",
       "      <td>5572</td>\n",
       "      <td>1479</td>\n",
       "      <td>274</td>\n",
       "      <td>49</td>\n",
       "      <td>388</td>\n",
       "      <td>1283</td>\n",
       "      <td>97</td>\n",
       "      <td>799</td>\n",
       "      <td>5.04</td>\n",
       "      <td>4</td>\n",
       "      <td>4</td>\n",
       "      <td>95</td>\n",
       "    </tr>\n",
       "  </tbody>\n",
       "</table>\n",
       "</div>"
      ],
      "text/plain": [
       "      W    R    AB     H   2B  3B   BB    SO   SB   ER   ERA  CG  SHO    E\n",
       "0    95  724  5575  1497  300  42  383   973  104  601  3.73   2    8   88\n",
       "1    83  696  5467  1349  277  44  439  1264   70  653  4.07   2   12   86\n",
       "2    81  669  5439  1395  303  29  533  1157   86  584  3.67  11   10   79\n",
       "3    76  622  5533  1381  260  27  404  1231   68  643  3.98   7    9  101\n",
       "4    74  689  5605  1515  289  49  455  1259   83  746  4.64   7   12   86\n",
       "5    93  891  5509  1480  308  17  570  1151   88  609  3.80   7   10   88\n",
       "6    87  764  5567  1397  272  19  554  1227   63  652  4.03   3    4   93\n",
       "7    81  713  5485  1370  246  20  418  1331   44  646  4.05   0   10   77\n",
       "8    80  644  5485  1383  278  32  436  1310   87  604  3.74   1   12   95\n",
       "9    78  748  5640  1495  294  33  478  1148   71  694  4.31   3   10   97\n",
       "10   88  751  5511  1419  279  32  503  1233  101  680  4.24   5    9  119\n",
       "11   86  729  5459  1363  278  26  486  1392  121  572  3.57   5   13   85\n",
       "12   85  661  5417  1331  243  21  435  1150   52  630  3.94   2   12   93\n",
       "13   76  656  5544  1379  262  22  478  1336   69  677  4.16   6   12   94\n",
       "14   68  694  5600  1405  277  46  475  1119   78  664  4.14   5   15  126\n",
       "15  100  647  5484  1386  288  39  506  1267   69  478  2.94   1   15   96\n",
       "16   98  697  5631  1462  292  27  461  1322   98  532  3.21   0   13  122\n",
       "17   97  689  5491  1341  272  30  567  1518   95  546  3.36   6   21  111\n",
       "18   68  655  5480  1378  274  34  412  1299   84  682  4.28   1    7  116\n",
       "19   64  640  5571  1382  257  27  496  1255  134  700  4.33   2    8   90\n",
       "20   90  683  5527  1351  295  17  488  1290   51  557  3.43   1   14   88\n",
       "21   83  703  5428  1363  265  13  539  1344   57  577  3.62   4   13   90\n",
       "22   71  613  5463  1420  236  40  375  1150  112  638  4.02   0   12   77\n",
       "23   67  573  5420  1361  251  18  471  1107   69  698  4.41   3   10   90\n",
       "24   63  626  5529  1374  272  37  387  1274   88  749  4.69   1    7  117\n",
       "25   92  667  5385  1346  263  26  563  1258   59  553  3.44   6   21   75\n",
       "26   84  696  5565  1486  288  39  457  1159   93  597  3.72   7   18   78\n",
       "27   79  720  5649  1494  289  48  490  1312  132  659  4.04   1   12   86\n",
       "28   74  650  5457  1324  260  36  426  1327   82  655  4.09   1    6   92\n",
       "29   68  737  5572  1479  274  49  388  1283   97  799  5.04   4    4   95"
      ]
     },
     "execution_count": 58,
     "metadata": {},
     "output_type": "execute_result"
    }
   ],
   "source": [
    "df"
   ]
  },
  {
   "cell_type": "markdown",
   "id": "21247dfa",
   "metadata": {},
   "source": [
    "# Remove Outliers:"
   ]
  },
  {
   "cell_type": "markdown",
   "id": "61d7f5b5",
   "metadata": {},
   "source": [
    "Z-Score Technique"
   ]
  },
  {
   "cell_type": "code",
   "execution_count": 59,
   "id": "8d59582c",
   "metadata": {},
   "outputs": [
    {
     "data": {
      "text/plain": [
       "(30, 14)"
      ]
     },
     "execution_count": 59,
     "metadata": {},
     "output_type": "execute_result"
    }
   ],
   "source": [
    "from scipy.stats import zscore\n",
    "import numpy as np\n",
    "z=np.abs(zscore(df))\n",
    "z.shape"
   ]
  },
  {
   "cell_type": "code",
   "execution_count": 60,
   "id": "004d6a39",
   "metadata": {},
   "outputs": [
    {
     "name": "stdout",
     "output_type": "stream",
     "text": [
      "(array([5], dtype=int32), array([1], dtype=int32))\n"
     ]
    }
   ],
   "source": [
    "threshold=3\n",
    "# index number\n",
    "print(np.where(z>3))"
   ]
  },
  {
   "cell_type": "code",
   "execution_count": 61,
   "id": "f23abb2b",
   "metadata": {},
   "outputs": [
    {
     "data": {
      "text/plain": [
       "1"
      ]
     },
     "execution_count": 61,
     "metadata": {},
     "output_type": "execute_result"
    }
   ],
   "source": [
    "len(np.where(z>3)[0])"
   ]
  },
  {
   "cell_type": "code",
   "execution_count": 70,
   "id": "dc6ce235",
   "metadata": {},
   "outputs": [
    {
     "ename": "NameError",
     "evalue": "name 'Z' is not defined",
     "output_type": "error",
     "traceback": [
      "\u001b[1;31m---------------------------------------------------------------------------\u001b[0m",
      "\u001b[1;31mNameError\u001b[0m                                 Traceback (most recent call last)",
      "\u001b[1;32mC:\\Users\\MDSHAF~1\\AppData\\Local\\Temp/ipykernel_28856/2676107090.py\u001b[0m in \u001b[0;36m<module>\u001b[1;34m\u001b[0m\n\u001b[1;32m----> 1\u001b[1;33m \u001b[0mZ\u001b[0m\u001b[1;33m.\u001b[0m\u001b[0miloc\u001b[0m\u001b[1;33m[\u001b[0m\u001b[1;36m1\u001b[0m\u001b[1;33m]\u001b[0m\u001b[1;33m\u001b[0m\u001b[1;33m\u001b[0m\u001b[0m\n\u001b[0m",
      "\u001b[1;31mNameError\u001b[0m: name 'Z' is not defined"
     ]
    }
   ],
   "source": [
    "Z.iloc[1]"
   ]
  },
  {
   "cell_type": "code",
   "execution_count": 72,
   "id": "b9849b15",
   "metadata": {},
   "outputs": [
    {
     "name": "stdout",
     "output_type": "stream",
     "text": [
      "Old Dataframe (30, 14)\n",
      "New Dataframe (29, 14)\n",
      "total_dropped_rows 1\n"
     ]
    }
   ],
   "source": [
    "df_new=df[(z<3).all(axis=1)]\n",
    "print(\"Old Dataframe\",df.shape)\n",
    "print(\"New Dataframe\",df_new.shape)\n",
    "print(\"total_dropped_rows\",df.shape[0] - df_new.shape[0])"
   ]
  },
  {
   "cell_type": "markdown",
   "id": "94dc0c4c",
   "metadata": {},
   "source": [
    "# Percentage data loss:"
   ]
  },
  {
   "cell_type": "code",
   "execution_count": 73,
   "id": "c6300ebc",
   "metadata": {},
   "outputs": [
    {
     "name": "stdout",
     "output_type": "stream",
     "text": [
      "3.3333333333333335 %\n"
     ]
    }
   ],
   "source": [
    "loss_percent=(30-29)/30*100\n",
    "print(loss_percent, '%')"
   ]
  },
  {
   "cell_type": "markdown",
   "id": "03b3e8ad",
   "metadata": {},
   "source": [
    "Checking whether how much outliers are still there.If the outlers there help in the testing model or not "
   ]
  },
  {
   "cell_type": "markdown",
   "id": "e9633eb4",
   "metadata": {},
   "source": [
    "# Model without outliers is df and model with desired outlers is df_new1: "
   ]
  },
  {
   "cell_type": "markdown",
   "id": "57cbe989",
   "metadata": {},
   "source": [
    "Dividing data in features and vectors:"
   ]
  },
  {
   "cell_type": "code",
   "execution_count": 74,
   "id": "a0d34191",
   "metadata": {},
   "outputs": [],
   "source": [
    "# independent column\n",
    "\n",
    "x=df_new.iloc[:,:-1]\n",
    "# target\n",
    " \n",
    "y=df_new.iloc[:,-1]    "
   ]
  },
  {
   "cell_type": "markdown",
   "id": "a85d6325",
   "metadata": {},
   "source": [
    "Transforming data to remove skewness:"
   ]
  },
  {
   "cell_type": "code",
   "execution_count": 82,
   "id": "32ecbd96",
   "metadata": {},
   "outputs": [],
   "source": [
    "from sklearn.preprocessing import power_transform\n",
    "x=power_transform(x,method='yeo-johnson')"
   ]
  },
  {
   "cell_type": "code",
   "execution_count": 83,
   "id": "edf8df09",
   "metadata": {},
   "outputs": [
    {
     "data": {
      "text/plain": [
       "array([[ 1.38993112e+00,  9.62569268e-01,  0.00000000e+00,\n",
       "         0.00000000e+00,  1.70501701e+00,  1.00821401e+00,\n",
       "        -1.59342078e+00, -2.52265498e+00,  9.35987706e-01,\n",
       "        -5.14012705e-01, -5.15054785e-01, -3.18537586e-01,\n",
       "        -7.88486538e-01],\n",
       "       [ 2.67418408e-01,  2.97395258e-01,  0.00000000e+00,\n",
       "         0.00000000e+00,  1.27251302e-01,  1.19389204e+00,\n",
       "        -4.68097231e-01,  8.78305820e-02, -5.19237207e-01,\n",
       "         2.27703331e-01,  2.33598678e-01, -3.18537586e-01,\n",
       "         2.31783673e-01],\n",
       "       [ 7.30865719e-02, -3.13561320e-01,  0.00000000e+00,\n",
       "         0.00000000e+00,  1.93455938e+00, -2.45242544e-01,\n",
       "         1.23669865e+00, -9.35493526e-01,  2.21102515e-01,\n",
       "        -7.55231078e-01, -6.46399265e-01,  2.04586091e+00,\n",
       "        -2.57732765e-01],\n",
       "       [-4.21938175e-01, -1.30707640e+00,  0.00000000e+00,\n",
       "         0.00000000e+00, -8.40333224e-01, -4.45959551e-01,\n",
       "        -1.15950223e+00, -2.36144338e-01, -6.20740749e-01,\n",
       "         8.44603042e-02,  3.45440794e-02,  1.27282908e+00,\n",
       "        -5.17143536e-01],\n",
       "       [-6.24071074e-01,  1.36120667e-01,  0.00000000e+00,\n",
       "         0.00000000e+00,  9.10709146e-01,  1.65042363e+00,\n",
       "        -1.63522775e-01,  3.82386357e-02,  9.08738765e-02,\n",
       "         1.56814407e+00,  1.50413370e+00,  1.27282908e+00,\n",
       "         2.31783673e-01],\n",
       "       [ 6.49832676e-01,  1.96841627e+00,  0.00000000e+00,\n",
       "         0.00000000e+00, -1.73909188e-01, -1.28469597e+00,\n",
       "         1.59102450e+00, -2.74889476e-01, -8.85089896e-01,\n",
       "         2.13366817e-01,  1.45052461e-01,  1.09258871e-01,\n",
       "        -2.04840744e+00],\n",
       "       [ 7.30865719e-02,  6.97426398e-01,  0.00000000e+00,\n",
       "         0.00000000e+00, -1.52837739e+00, -1.17590154e+00,\n",
       "        -8.78477695e-01,  7.69187219e-01, -2.07072183e+00,\n",
       "         1.27403662e-01,  1.89310946e-01, -1.71066535e+00,\n",
       "        -2.57732765e-01],\n",
       "       [-2.48460334e-02, -8.52915805e-01,  0.00000000e+00,\n",
       "         0.00000000e+00,  1.89266004e-01,  5.13471696e-02,\n",
       "        -5.25953882e-01,  5.52330316e-01,  2.63733499e-01,\n",
       "        -4.71399274e-01, -4.93146970e-01, -8.73179036e-01,\n",
       "         2.31783673e-01],\n",
       "       [-2.22265734e-01,  1.55822590e+00,  0.00000000e+00,\n",
       "         0.00000000e+00,  1.26261526e+00,  1.49225736e-01,\n",
       "         2.63609780e-01, -1.01809795e+00, -4.69329299e-01,\n",
       "         8.17268732e-01,  7.66918379e-01,  1.09258871e-01,\n",
       "        -2.57732765e-01],\n",
       "       [ 7.44131730e-01,  1.63433861e+00,  0.00000000e+00,\n",
       "         0.00000000e+00,  2.51875434e-01,  5.13471696e-02,\n",
       "         7.14262976e-01, -2.16730041e-01,  8.23936945e-01,\n",
       "         6.15621414e-01,  6.11055909e-01,  7.66520259e-01,\n",
       "        -5.17143536e-01],\n",
       "       [ 5.55013052e-01,  1.08472330e+00,  0.00000000e+00,\n",
       "         0.00000000e+00,  1.89266004e-01, -5.47413145e-01,\n",
       "         4.09361393e-01,  1.41552899e+00,  1.52682681e+00,\n",
       "        -9.25293145e-01, -8.64964134e-01,  7.66520259e-01,\n",
       "         4.64145641e-01],\n",
       "       [ 4.59671085e-01, -4.88876017e-01,  0.00000000e+00,\n",
       "         0.00000000e+00, -1.66431314e+00, -1.06841200e+00,\n",
       "        -5.45294409e-01, -9.99786454e-01, -1.53027257e+00,\n",
       "        -1.01294912e-01, -5.37074409e-02, -3.18537586e-01,\n",
       "         2.31783673e-01],\n",
       "       [-4.21938175e-01, -5.97142236e-01,  0.00000000e+00,\n",
       "         0.00000000e+00, -7.34437109e-01, -9.62131061e-01,\n",
       "         2.63609780e-01,  8.21252780e-01, -5.69702677e-01,\n",
       "         5.72450442e-01,  4.33221177e-01,  1.03359116e+00,\n",
       "         2.31783673e-01],\n",
       "       [-1.24714923e+00,  2.51111381e-01,  0.00000000e+00,\n",
       "         0.00000000e+00,  1.27251302e-01,  1.37778851e+00,\n",
       "         2.08577070e-01, -1.28074046e+00, -1.34431646e-01,\n",
       "         3.85563213e-01,  3.88817321e-01,  7.66520259e-01,\n",
       "         9.07800439e-01],\n",
       "       [ 1.83649000e+00, -7.89508359e-01,  0.00000000e+00,\n",
       "         0.00000000e+00,  8.42137444e-01,  7.26230052e-01,\n",
       "         7.67394788e-01,  1.17672037e-01, -5.69702677e-01,\n",
       "        -2.25557635e+00, -2.23636718e+00, -8.73179036e-01,\n",
       "         9.07800439e-01],\n",
       "       [ 1.65928877e+00,  3.20598758e-01,  0.00000000e+00,\n",
       "         0.00000000e+00,  1.12003745e+00, -4.45959551e-01,\n",
       "        -5.09377470e-02,  6.75887378e-01,  7.09245328e-01,\n",
       "        -1.49146240e+00, -1.64938371e+00, -1.71066535e+00,\n",
       "         4.64145641e-01],\n",
       "       [ 1.56998225e+00,  1.36120667e-01,  0.00000000e+00,\n",
       "         0.00000000e+00, -1.73909188e-01, -1.45847355e-01,\n",
       "         1.80588757e+00,  2.82491807e+00,  5.91773069e-01,\n",
       "        -1.29338168e+00, -1.32289546e+00,  1.03359116e+00,\n",
       "         2.10712688e+00],\n",
       "       [-1.24714923e+00, -6.18675528e-01,  0.00000000e+00,\n",
       "         0.00000000e+00, -5.52166815e-02,  2.46619677e-01,\n",
       "        -9.98150217e-01,  4.39924429e-01,  1.34680169e-01,\n",
       "         6.44410221e-01,  7.00093038e-01, -8.73179036e-01,\n",
       "        -1.07391188e+00],\n",
       "       [-1.67833563e+00, -9.36905565e-01,  0.00000000e+00,\n",
       "         0.00000000e+00, -9.95497702e-01, -4.45959551e-01,\n",
       "         5.89505254e-01, -1.30454113e-03,  1.93575662e+00,\n",
       "         9.03770973e-01,  8.11489977e-01, -3.18537586e-01,\n",
       "        -7.88486538e-01],\n",
       "       [ 9.31179067e-01, -5.09498513e-04,  0.00000000e+00,\n",
       "         0.00000000e+00,  1.33481659e+00, -1.50663345e+00,\n",
       "         4.45571643e-01,  3.48571011e-01, -1.59409000e+00,\n",
       "        -1.13769988e+00, -1.17038239e+00, -8.73179036e-01,\n",
       "         6.89272264e-01],\n",
       "       [ 2.67418408e-01,  4.60680781e-01,  0.00000000e+00,\n",
       "         0.00000000e+00, -5.71814847e-01, -1.97171953e+00,\n",
       "         1.33886668e+00,  9.04900774e-01, -1.22492215e+00,\n",
       "        -8.54451360e-01, -7.55730779e-01,  4.62970320e-01,\n",
       "         4.64145641e-01],\n",
       "       [-9.32306386e-01, -1.48741686e+00,  0.00000000e+00,\n",
       "         0.00000000e+00, -1.96663315e+00,  8.20696098e-01,\n",
       "        -1.76294319e+00, -9.99786454e-01,  1.22283570e+00,\n",
       "         1.29498394e-02,  1.22934638e-01, -1.71066535e+00,\n",
       "         2.31783673e-01],\n",
       "       [-1.35367575e+00, -2.25112223e+00,  0.00000000e+00,\n",
       "         0.00000000e+00, -1.29300953e+00, -1.39490096e+00,\n",
       "         1.34881741e-01, -1.38785654e+00, -5.69702677e-01,\n",
       "         8.74931914e-01,  9.89934443e-01,  1.09258871e-01,\n",
       "        -2.57732765e-01],\n",
       "       [-1.78833441e+00, -1.22591256e+00,  0.00000000e+00,\n",
       "         0.00000000e+00, -1.73909188e-01,  5.35853914e-01,\n",
       "        -1.50955904e+00,  1.87551638e-01,  3.05987348e-01,\n",
       "         1.61152830e+00,  1.61610480e+00, -8.73179036e-01,\n",
       "        -1.07391188e+00],\n",
       "       [ 1.11618254e+00, -3.57631931e-01,  0.00000000e+00,\n",
       "         0.00000000e+00, -6.80738661e-01, -5.47413145e-01,\n",
       "         1.74013246e+00,  2.83419354e-02, -1.10865457e+00,\n",
       "        -1.19431790e+00, -1.14858524e+00,  1.03359116e+00,\n",
       "         2.10712688e+00],\n",
       "       [ 3.63806022e-01,  2.97395258e-01,  0.00000000e+00,\n",
       "         0.00000000e+00,  8.42137444e-01,  7.26230052e-01,\n",
       "        -1.25900359e-01, -9.17066089e-01,  5.11839410e-01,\n",
       "        -5.70807443e-01, -5.36957531e-01,  1.27282908e+00,\n",
       "         1.52900534e+00],\n",
       "       [-1.23288124e-01,  8.65581524e-01,  0.00000000e+00,\n",
       "         0.00000000e+00,  9.10709146e-01,  1.55996325e+00,\n",
       "         4.81691007e-01,  5.72855883e-01,  1.87495428e+00,\n",
       "         3.13774196e-01,  1.67177959e-01, -8.73179036e-01,\n",
       "         2.31783673e-01],\n",
       "       [-6.24071074e-01, -7.25744191e-01,  0.00000000e+00,\n",
       "         0.00000000e+00, -8.40333224e-01,  4.39934426e-01,\n",
       "        -7.20630568e-01,  7.27654079e-01,  4.66605929e-02,\n",
       "         2.56383929e-01,  2.77914302e-01, -8.73179036e-01,\n",
       "        -1.37622503e+00],\n",
       "       [-1.24714923e+00,  1.28229448e+00,  0.00000000e+00,\n",
       "         0.00000000e+00, -5.52166815e-02,  1.65042363e+00,\n",
       "        -1.48868516e+00,  2.77905108e-01,  6.70404082e-01,\n",
       "         2.33519678e+00,  2.40127308e+00,  4.62970320e-01,\n",
       "        -2.04840744e+00]])"
      ]
     },
     "execution_count": 83,
     "metadata": {},
     "output_type": "execute_result"
    }
   ],
   "source": [
    "x"
   ]
  },
  {
   "cell_type": "code",
   "execution_count": 84,
   "id": "48d41420",
   "metadata": {},
   "outputs": [
    {
     "data": {
      "text/plain": [
       "0     0.012764\n",
       "1    -0.017828\n",
       "2     0.000000\n",
       "3     0.000000\n",
       "4    -0.011082\n",
       "5    -0.020462\n",
       "6     0.019270\n",
       "7     0.102713\n",
       "8     0.008213\n",
       "9     0.041479\n",
       "10    0.048097\n",
       "11   -0.006996\n",
       "12    0.032659\n",
       "dtype: float64"
      ]
     },
     "execution_count": 84,
     "metadata": {},
     "output_type": "execute_result"
    }
   ],
   "source": [
    "pd.DataFrame(x).skew()"
   ]
  },
  {
   "cell_type": "code",
   "execution_count": 86,
   "id": "28716e41",
   "metadata": {},
   "outputs": [
    {
     "data": {
      "text/plain": [
       "array([[ 1.38993112e+00,  9.62569268e-01,  0.00000000e+00,\n",
       "         0.00000000e+00,  1.70501701e+00,  1.00821401e+00,\n",
       "        -1.59342078e+00, -2.52265498e+00,  9.35987706e-01,\n",
       "        -5.14012705e-01, -5.15054785e-01, -3.18537586e-01,\n",
       "        -7.88486538e-01],\n",
       "       [ 2.67418408e-01,  2.97395258e-01,  0.00000000e+00,\n",
       "         0.00000000e+00,  1.27251302e-01,  1.19389204e+00,\n",
       "        -4.68097231e-01,  8.78305820e-02, -5.19237207e-01,\n",
       "         2.27703331e-01,  2.33598678e-01, -3.18537586e-01,\n",
       "         2.31783673e-01],\n",
       "       [ 7.30865719e-02, -3.13561320e-01,  0.00000000e+00,\n",
       "         0.00000000e+00,  1.93455938e+00, -2.45242544e-01,\n",
       "         1.23669865e+00, -9.35493526e-01,  2.21102515e-01,\n",
       "        -7.55231078e-01, -6.46399265e-01,  2.04586091e+00,\n",
       "        -2.57732765e-01],\n",
       "       [-4.21938175e-01, -1.30707640e+00,  0.00000000e+00,\n",
       "         0.00000000e+00, -8.40333224e-01, -4.45959551e-01,\n",
       "        -1.15950223e+00, -2.36144338e-01, -6.20740749e-01,\n",
       "         8.44603042e-02,  3.45440794e-02,  1.27282908e+00,\n",
       "        -5.17143536e-01],\n",
       "       [-6.24071074e-01,  1.36120667e-01,  0.00000000e+00,\n",
       "         0.00000000e+00,  9.10709146e-01,  1.65042363e+00,\n",
       "        -1.63522775e-01,  3.82386357e-02,  9.08738765e-02,\n",
       "         1.56814407e+00,  1.50413370e+00,  1.27282908e+00,\n",
       "         2.31783673e-01],\n",
       "       [ 6.49832676e-01,  1.96841627e+00,  0.00000000e+00,\n",
       "         0.00000000e+00, -1.73909188e-01, -1.28469597e+00,\n",
       "         1.59102450e+00, -2.74889476e-01, -8.85089896e-01,\n",
       "         2.13366817e-01,  1.45052461e-01,  1.09258871e-01,\n",
       "        -2.04840744e+00],\n",
       "       [ 7.30865719e-02,  6.97426398e-01,  0.00000000e+00,\n",
       "         0.00000000e+00, -1.52837739e+00, -1.17590154e+00,\n",
       "        -8.78477695e-01,  7.69187219e-01, -2.07072183e+00,\n",
       "         1.27403662e-01,  1.89310946e-01, -1.71066535e+00,\n",
       "        -2.57732765e-01],\n",
       "       [-2.48460334e-02, -8.52915805e-01,  0.00000000e+00,\n",
       "         0.00000000e+00,  1.89266004e-01,  5.13471696e-02,\n",
       "        -5.25953882e-01,  5.52330316e-01,  2.63733499e-01,\n",
       "        -4.71399274e-01, -4.93146970e-01, -8.73179036e-01,\n",
       "         2.31783673e-01],\n",
       "       [-2.22265734e-01,  1.55822590e+00,  0.00000000e+00,\n",
       "         0.00000000e+00,  1.26261526e+00,  1.49225736e-01,\n",
       "         2.63609780e-01, -1.01809795e+00, -4.69329299e-01,\n",
       "         8.17268732e-01,  7.66918379e-01,  1.09258871e-01,\n",
       "        -2.57732765e-01],\n",
       "       [ 7.44131730e-01,  1.63433861e+00,  0.00000000e+00,\n",
       "         0.00000000e+00,  2.51875434e-01,  5.13471696e-02,\n",
       "         7.14262976e-01, -2.16730041e-01,  8.23936945e-01,\n",
       "         6.15621414e-01,  6.11055909e-01,  7.66520259e-01,\n",
       "        -5.17143536e-01],\n",
       "       [ 5.55013052e-01,  1.08472330e+00,  0.00000000e+00,\n",
       "         0.00000000e+00,  1.89266004e-01, -5.47413145e-01,\n",
       "         4.09361393e-01,  1.41552899e+00,  1.52682681e+00,\n",
       "        -9.25293145e-01, -8.64964134e-01,  7.66520259e-01,\n",
       "         4.64145641e-01],\n",
       "       [ 4.59671085e-01, -4.88876017e-01,  0.00000000e+00,\n",
       "         0.00000000e+00, -1.66431314e+00, -1.06841200e+00,\n",
       "        -5.45294409e-01, -9.99786454e-01, -1.53027257e+00,\n",
       "        -1.01294912e-01, -5.37074409e-02, -3.18537586e-01,\n",
       "         2.31783673e-01],\n",
       "       [-4.21938175e-01, -5.97142236e-01,  0.00000000e+00,\n",
       "         0.00000000e+00, -7.34437109e-01, -9.62131061e-01,\n",
       "         2.63609780e-01,  8.21252780e-01, -5.69702677e-01,\n",
       "         5.72450442e-01,  4.33221177e-01,  1.03359116e+00,\n",
       "         2.31783673e-01],\n",
       "       [-1.24714923e+00,  2.51111381e-01,  0.00000000e+00,\n",
       "         0.00000000e+00,  1.27251302e-01,  1.37778851e+00,\n",
       "         2.08577070e-01, -1.28074046e+00, -1.34431646e-01,\n",
       "         3.85563213e-01,  3.88817321e-01,  7.66520259e-01,\n",
       "         9.07800439e-01],\n",
       "       [ 1.83649000e+00, -7.89508359e-01,  0.00000000e+00,\n",
       "         0.00000000e+00,  8.42137444e-01,  7.26230052e-01,\n",
       "         7.67394788e-01,  1.17672037e-01, -5.69702677e-01,\n",
       "        -2.25557635e+00, -2.23636718e+00, -8.73179036e-01,\n",
       "         9.07800439e-01],\n",
       "       [ 1.65928877e+00,  3.20598758e-01,  0.00000000e+00,\n",
       "         0.00000000e+00,  1.12003745e+00, -4.45959551e-01,\n",
       "        -5.09377470e-02,  6.75887378e-01,  7.09245328e-01,\n",
       "        -1.49146240e+00, -1.64938371e+00, -1.71066535e+00,\n",
       "         4.64145641e-01],\n",
       "       [ 1.56998225e+00,  1.36120667e-01,  0.00000000e+00,\n",
       "         0.00000000e+00, -1.73909188e-01, -1.45847355e-01,\n",
       "         1.80588757e+00,  2.82491807e+00,  5.91773069e-01,\n",
       "        -1.29338168e+00, -1.32289546e+00,  1.03359116e+00,\n",
       "         2.10712688e+00],\n",
       "       [-1.24714923e+00, -6.18675528e-01,  0.00000000e+00,\n",
       "         0.00000000e+00, -5.52166815e-02,  2.46619677e-01,\n",
       "        -9.98150217e-01,  4.39924429e-01,  1.34680169e-01,\n",
       "         6.44410221e-01,  7.00093038e-01, -8.73179036e-01,\n",
       "        -1.07391188e+00],\n",
       "       [-1.67833563e+00, -9.36905565e-01,  0.00000000e+00,\n",
       "         0.00000000e+00, -9.95497702e-01, -4.45959551e-01,\n",
       "         5.89505254e-01, -1.30454113e-03,  1.93575662e+00,\n",
       "         9.03770973e-01,  8.11489977e-01, -3.18537586e-01,\n",
       "        -7.88486538e-01],\n",
       "       [ 9.31179067e-01, -5.09498513e-04,  0.00000000e+00,\n",
       "         0.00000000e+00,  1.33481659e+00, -1.50663345e+00,\n",
       "         4.45571643e-01,  3.48571011e-01, -1.59409000e+00,\n",
       "        -1.13769988e+00, -1.17038239e+00, -8.73179036e-01,\n",
       "         6.89272264e-01],\n",
       "       [ 2.67418408e-01,  4.60680781e-01,  0.00000000e+00,\n",
       "         0.00000000e+00, -5.71814847e-01, -1.97171953e+00,\n",
       "         1.33886668e+00,  9.04900774e-01, -1.22492215e+00,\n",
       "        -8.54451360e-01, -7.55730779e-01,  4.62970320e-01,\n",
       "         4.64145641e-01],\n",
       "       [-9.32306386e-01, -1.48741686e+00,  0.00000000e+00,\n",
       "         0.00000000e+00, -1.96663315e+00,  8.20696098e-01,\n",
       "        -1.76294319e+00, -9.99786454e-01,  1.22283570e+00,\n",
       "         1.29498394e-02,  1.22934638e-01, -1.71066535e+00,\n",
       "         2.31783673e-01],\n",
       "       [-1.35367575e+00, -2.25112223e+00,  0.00000000e+00,\n",
       "         0.00000000e+00, -1.29300953e+00, -1.39490096e+00,\n",
       "         1.34881741e-01, -1.38785654e+00, -5.69702677e-01,\n",
       "         8.74931914e-01,  9.89934443e-01,  1.09258871e-01,\n",
       "        -2.57732765e-01],\n",
       "       [-1.78833441e+00, -1.22591256e+00,  0.00000000e+00,\n",
       "         0.00000000e+00, -1.73909188e-01,  5.35853914e-01,\n",
       "        -1.50955904e+00,  1.87551638e-01,  3.05987348e-01,\n",
       "         1.61152830e+00,  1.61610480e+00, -8.73179036e-01,\n",
       "        -1.07391188e+00],\n",
       "       [ 1.11618254e+00, -3.57631931e-01,  0.00000000e+00,\n",
       "         0.00000000e+00, -6.80738661e-01, -5.47413145e-01,\n",
       "         1.74013246e+00,  2.83419354e-02, -1.10865457e+00,\n",
       "        -1.19431790e+00, -1.14858524e+00,  1.03359116e+00,\n",
       "         2.10712688e+00],\n",
       "       [ 3.63806022e-01,  2.97395258e-01,  0.00000000e+00,\n",
       "         0.00000000e+00,  8.42137444e-01,  7.26230052e-01,\n",
       "        -1.25900359e-01, -9.17066089e-01,  5.11839410e-01,\n",
       "        -5.70807443e-01, -5.36957531e-01,  1.27282908e+00,\n",
       "         1.52900534e+00],\n",
       "       [-1.23288124e-01,  8.65581524e-01,  0.00000000e+00,\n",
       "         0.00000000e+00,  9.10709146e-01,  1.55996325e+00,\n",
       "         4.81691007e-01,  5.72855883e-01,  1.87495428e+00,\n",
       "         3.13774196e-01,  1.67177959e-01, -8.73179036e-01,\n",
       "         2.31783673e-01],\n",
       "       [-6.24071074e-01, -7.25744191e-01,  0.00000000e+00,\n",
       "         0.00000000e+00, -8.40333224e-01,  4.39934426e-01,\n",
       "        -7.20630568e-01,  7.27654079e-01,  4.66605929e-02,\n",
       "         2.56383929e-01,  2.77914302e-01, -8.73179036e-01,\n",
       "        -1.37622503e+00],\n",
       "       [-1.24714923e+00,  1.28229448e+00,  0.00000000e+00,\n",
       "         0.00000000e+00, -5.52166815e-02,  1.65042363e+00,\n",
       "        -1.48868516e+00,  2.77905108e-01,  6.70404082e-01,\n",
       "         2.33519678e+00,  2.40127308e+00,  4.62970320e-01,\n",
       "        -2.04840744e+00]])"
      ]
     },
     "execution_count": 86,
     "metadata": {},
     "output_type": "execute_result"
    }
   ],
   "source": [
    "from sklearn.preprocessing import StandardScaler\n",
    "sc=StandardScaler()\n",
    "x=sc.fit_transform(x)\n",
    "x"
   ]
  },
  {
   "cell_type": "markdown",
   "id": "96e7ff36",
   "metadata": {},
   "source": [
    "# Since  the outcome has only two variable we will use binary classification model."
   ]
  },
  {
   "cell_type": "code",
   "execution_count": 87,
   "id": "80b8e22d",
   "metadata": {},
   "outputs": [],
   "source": [
    "from sklearn.model_selection import train_test_split\n",
    "from sklearn.linear_model import LogisticRegression\n",
    "lr = LogisticRegression()\n",
    "from sklearn.metrics import accuracy_score"
   ]
  },
  {
   "cell_type": "markdown",
   "id": "ca60b5e2",
   "metadata": {},
   "source": [
    "# Splitting the DataFrame:"
   ]
  },
  {
   "cell_type": "code",
   "execution_count": 96,
   "id": "2703a1d4",
   "metadata": {},
   "outputs": [
    {
     "ename": "IndentationError",
     "evalue": "unexpected indent (Temp/ipykernel_28856/606684637.py, line 2)",
     "output_type": "error",
     "traceback": [
      "\u001b[1;36m  File \u001b[1;32m\"C:\\Users\\MDSHAF~1\\AppData\\Local\\Temp/ipykernel_28856/606684637.py\"\u001b[1;36m, line \u001b[1;32m2\u001b[0m\n\u001b[1;33m    x_train,x_test,y_train,y_test=train_test_split(x,y,random_state=i,test_size=0.20)\u001b[0m\n\u001b[1;37m    ^\u001b[0m\n\u001b[1;31mIndentationError\u001b[0m\u001b[1;31m:\u001b[0m unexpected indent\n"
     ]
    }
   ],
   "source": [
    "## for i in range(0,1000):\n",
    "    x_train,x_test,y_train,y_test=train_test_split(x,y,random_state=i,test_size=0.20)\n",
    "    lr.fit(x_train,y_train)\n",
    "    pred_train=lr.predict(x_train)\n",
    "    pred_test=lr.predict(x_test)\n",
    "    if round(accuracy_score(y_train,pred_train)*100,1)==round(accuracy_score(y_test,pred_test)*100,1):\n",
    "        print(\"At random state\",i,\"The model performs very well\")\n",
    "        print(\"At random_state:-\",i)\n",
    "        print(\"Training accuracy_score:-\", accuracy_score(y_train,pred_train)*100)\n",
    "        print(\"Testing accuracy_score:-\", accuracy_score(y_test,pred_test)*100, '\\n')"
   ]
  },
  {
   "cell_type": "code",
   "execution_count": 93,
   "id": "4b2ed92d",
   "metadata": {},
   "outputs": [],
   "source": [
    "x_train,x_test,y_train,y_test=train_test_split(x,y,test_size=.20,random_state=827)"
   ]
  },
  {
   "cell_type": "code",
   "execution_count": 94,
   "id": "72ca2509",
   "metadata": {},
   "outputs": [
    {
     "name": "stdout",
     "output_type": "stream",
     "text": [
      "              precision    recall  f1-score   support\n",
      "\n",
      "          77       0.00      0.00      0.00       1.0\n",
      "          78       0.00      0.00      0.00       1.0\n",
      "          79       0.00      0.00      0.00       1.0\n",
      "          86       0.00      0.00      0.00       0.0\n",
      "          90       0.00      0.00      0.00       0.0\n",
      "          94       0.00      0.00      0.00       1.0\n",
      "          95       0.00      0.00      0.00       0.0\n",
      "         111       0.00      0.00      0.00       1.0\n",
      "         116       0.00      0.00      0.00       0.0\n",
      "         117       0.00      0.00      0.00       1.0\n",
      "         122       0.00      0.00      0.00       0.0\n",
      "\n",
      "    accuracy                           0.00       6.0\n",
      "   macro avg       0.00      0.00      0.00       6.0\n",
      "weighted avg       0.00      0.00      0.00       6.0\n",
      "\n"
     ]
    }
   ],
   "source": [
    "from sklearn.metrics import classification_report\n",
    "print(classification_report(y_test,pred_test))"
   ]
  },
  {
   "cell_type": "markdown",
   "id": "abbcab83",
   "metadata": {},
   "source": [
    "# Cross Validation Score for logistic Regression:"
   ]
  },
  {
   "cell_type": "code",
   "execution_count": 101,
   "id": "35acab29",
   "metadata": {},
   "outputs": [
    {
     "name": "stdout",
     "output_type": "stream",
     "text": [
      "At CV:- 2\n",
      "Cross validation score is:- 10.476190476190474\n",
      "accuracy_score :- 66.66666666666666\n",
      "\n",
      "\n",
      "At CV:- 3\n",
      "Cross validation score is:- 17.40740740740741\n",
      "accuracy_score :- 66.66666666666666\n",
      "\n",
      "\n"
     ]
    },
    {
     "ename": "ValueError",
     "evalue": "n_splits=4 cannot be greater than the number of members in each class.",
     "output_type": "error",
     "traceback": [
      "\u001b[1;31m---------------------------------------------------------------------------\u001b[0m",
      "\u001b[1;31mEmpty\u001b[0m                                     Traceback (most recent call last)",
      "\u001b[1;32mC:\\ProgramData\\Anaconda3\\lib\\site-packages\\joblib\\parallel.py\u001b[0m in \u001b[0;36mdispatch_one_batch\u001b[1;34m(self, iterator)\u001b[0m\n\u001b[0;32m    821\u001b[0m             \u001b[1;32mtry\u001b[0m\u001b[1;33m:\u001b[0m\u001b[1;33m\u001b[0m\u001b[1;33m\u001b[0m\u001b[0m\n\u001b[1;32m--> 822\u001b[1;33m                 \u001b[0mtasks\u001b[0m \u001b[1;33m=\u001b[0m \u001b[0mself\u001b[0m\u001b[1;33m.\u001b[0m\u001b[0m_ready_batches\u001b[0m\u001b[1;33m.\u001b[0m\u001b[0mget\u001b[0m\u001b[1;33m(\u001b[0m\u001b[0mblock\u001b[0m\u001b[1;33m=\u001b[0m\u001b[1;32mFalse\u001b[0m\u001b[1;33m)\u001b[0m\u001b[1;33m\u001b[0m\u001b[1;33m\u001b[0m\u001b[0m\n\u001b[0m\u001b[0;32m    823\u001b[0m             \u001b[1;32mexcept\u001b[0m \u001b[0mqueue\u001b[0m\u001b[1;33m.\u001b[0m\u001b[0mEmpty\u001b[0m\u001b[1;33m:\u001b[0m\u001b[1;33m\u001b[0m\u001b[1;33m\u001b[0m\u001b[0m\n",
      "\u001b[1;32mC:\\ProgramData\\Anaconda3\\lib\\queue.py\u001b[0m in \u001b[0;36mget\u001b[1;34m(self, block, timeout)\u001b[0m\n\u001b[0;32m    167\u001b[0m                 \u001b[1;32mif\u001b[0m \u001b[1;32mnot\u001b[0m \u001b[0mself\u001b[0m\u001b[1;33m.\u001b[0m\u001b[0m_qsize\u001b[0m\u001b[1;33m(\u001b[0m\u001b[1;33m)\u001b[0m\u001b[1;33m:\u001b[0m\u001b[1;33m\u001b[0m\u001b[1;33m\u001b[0m\u001b[0m\n\u001b[1;32m--> 168\u001b[1;33m                     \u001b[1;32mraise\u001b[0m \u001b[0mEmpty\u001b[0m\u001b[1;33m\u001b[0m\u001b[1;33m\u001b[0m\u001b[0m\n\u001b[0m\u001b[0;32m    169\u001b[0m             \u001b[1;32melif\u001b[0m \u001b[0mtimeout\u001b[0m \u001b[1;32mis\u001b[0m \u001b[1;32mNone\u001b[0m\u001b[1;33m:\u001b[0m\u001b[1;33m\u001b[0m\u001b[1;33m\u001b[0m\u001b[0m\n",
      "\u001b[1;31mEmpty\u001b[0m: ",
      "\nDuring handling of the above exception, another exception occurred:\n",
      "\u001b[1;31mValueError\u001b[0m                                Traceback (most recent call last)",
      "\u001b[1;32mC:\\Users\\MDSHAF~1\\AppData\\Local\\Temp/ipykernel_28856/4212873707.py\u001b[0m in \u001b[0;36m<module>\u001b[1;34m\u001b[0m\n\u001b[0;32m      3\u001b[0m \u001b[0mlss\u001b[0m \u001b[1;33m=\u001b[0m \u001b[0maccuracy_score\u001b[0m\u001b[1;33m(\u001b[0m\u001b[0my_test\u001b[0m\u001b[1;33m,\u001b[0m\u001b[0mpred_lr\u001b[0m\u001b[1;33m)\u001b[0m\u001b[1;33m\u001b[0m\u001b[1;33m\u001b[0m\u001b[0m\n\u001b[0;32m      4\u001b[0m \u001b[1;32mfor\u001b[0m \u001b[0mj\u001b[0m \u001b[1;32min\u001b[0m \u001b[0mrange\u001b[0m\u001b[1;33m(\u001b[0m\u001b[1;36m2\u001b[0m\u001b[1;33m,\u001b[0m\u001b[1;36m10\u001b[0m\u001b[1;33m)\u001b[0m\u001b[1;33m:\u001b[0m\u001b[1;33m\u001b[0m\u001b[1;33m\u001b[0m\u001b[0m\n\u001b[1;32m----> 5\u001b[1;33m     \u001b[0mlsscore\u001b[0m \u001b[1;33m=\u001b[0m \u001b[0mcross_val_score\u001b[0m\u001b[1;33m(\u001b[0m\u001b[0mlr\u001b[0m\u001b[1;33m,\u001b[0m\u001b[0mx\u001b[0m\u001b[1;33m,\u001b[0m\u001b[0my\u001b[0m\u001b[1;33m,\u001b[0m\u001b[0mcv\u001b[0m\u001b[1;33m=\u001b[0m\u001b[0mj\u001b[0m\u001b[1;33m)\u001b[0m\u001b[1;33m\u001b[0m\u001b[1;33m\u001b[0m\u001b[0m\n\u001b[0m\u001b[0;32m      6\u001b[0m     \u001b[0mlsc\u001b[0m \u001b[1;33m=\u001b[0m \u001b[0mlsscore\u001b[0m\u001b[1;33m.\u001b[0m\u001b[0mmean\u001b[0m\u001b[1;33m(\u001b[0m\u001b[1;33m)\u001b[0m\u001b[1;33m\u001b[0m\u001b[1;33m\u001b[0m\u001b[0m\n\u001b[0;32m      7\u001b[0m     \u001b[0mprint\u001b[0m\u001b[1;33m(\u001b[0m\u001b[1;34m\"At CV:-\"\u001b[0m\u001b[1;33m,\u001b[0m \u001b[0mj\u001b[0m\u001b[1;33m)\u001b[0m\u001b[1;33m\u001b[0m\u001b[1;33m\u001b[0m\u001b[0m\n",
      "\u001b[1;32mC:\\ProgramData\\Anaconda3\\lib\\site-packages\\sklearn\\utils\\validation.py\u001b[0m in \u001b[0;36minner_f\u001b[1;34m(*args, **kwargs)\u001b[0m\n\u001b[0;32m     61\u001b[0m             \u001b[0mextra_args\u001b[0m \u001b[1;33m=\u001b[0m \u001b[0mlen\u001b[0m\u001b[1;33m(\u001b[0m\u001b[0margs\u001b[0m\u001b[1;33m)\u001b[0m \u001b[1;33m-\u001b[0m \u001b[0mlen\u001b[0m\u001b[1;33m(\u001b[0m\u001b[0mall_args\u001b[0m\u001b[1;33m)\u001b[0m\u001b[1;33m\u001b[0m\u001b[1;33m\u001b[0m\u001b[0m\n\u001b[0;32m     62\u001b[0m             \u001b[1;32mif\u001b[0m \u001b[0mextra_args\u001b[0m \u001b[1;33m<=\u001b[0m \u001b[1;36m0\u001b[0m\u001b[1;33m:\u001b[0m\u001b[1;33m\u001b[0m\u001b[1;33m\u001b[0m\u001b[0m\n\u001b[1;32m---> 63\u001b[1;33m                 \u001b[1;32mreturn\u001b[0m \u001b[0mf\u001b[0m\u001b[1;33m(\u001b[0m\u001b[1;33m*\u001b[0m\u001b[0margs\u001b[0m\u001b[1;33m,\u001b[0m \u001b[1;33m**\u001b[0m\u001b[0mkwargs\u001b[0m\u001b[1;33m)\u001b[0m\u001b[1;33m\u001b[0m\u001b[1;33m\u001b[0m\u001b[0m\n\u001b[0m\u001b[0;32m     64\u001b[0m \u001b[1;33m\u001b[0m\u001b[0m\n\u001b[0;32m     65\u001b[0m             \u001b[1;31m# extra_args > 0\u001b[0m\u001b[1;33m\u001b[0m\u001b[1;33m\u001b[0m\u001b[0m\n",
      "\u001b[1;32mC:\\ProgramData\\Anaconda3\\lib\\site-packages\\sklearn\\model_selection\\_validation.py\u001b[0m in \u001b[0;36mcross_val_score\u001b[1;34m(estimator, X, y, groups, scoring, cv, n_jobs, verbose, fit_params, pre_dispatch, error_score)\u001b[0m\n\u001b[0;32m    443\u001b[0m     \u001b[0mscorer\u001b[0m \u001b[1;33m=\u001b[0m \u001b[0mcheck_scoring\u001b[0m\u001b[1;33m(\u001b[0m\u001b[0mestimator\u001b[0m\u001b[1;33m,\u001b[0m \u001b[0mscoring\u001b[0m\u001b[1;33m=\u001b[0m\u001b[0mscoring\u001b[0m\u001b[1;33m)\u001b[0m\u001b[1;33m\u001b[0m\u001b[1;33m\u001b[0m\u001b[0m\n\u001b[0;32m    444\u001b[0m \u001b[1;33m\u001b[0m\u001b[0m\n\u001b[1;32m--> 445\u001b[1;33m     cv_results = cross_validate(estimator=estimator, X=X, y=y, groups=groups,\n\u001b[0m\u001b[0;32m    446\u001b[0m                                 \u001b[0mscoring\u001b[0m\u001b[1;33m=\u001b[0m\u001b[1;33m{\u001b[0m\u001b[1;34m'score'\u001b[0m\u001b[1;33m:\u001b[0m \u001b[0mscorer\u001b[0m\u001b[1;33m}\u001b[0m\u001b[1;33m,\u001b[0m \u001b[0mcv\u001b[0m\u001b[1;33m=\u001b[0m\u001b[0mcv\u001b[0m\u001b[1;33m,\u001b[0m\u001b[1;33m\u001b[0m\u001b[1;33m\u001b[0m\u001b[0m\n\u001b[0;32m    447\u001b[0m                                 \u001b[0mn_jobs\u001b[0m\u001b[1;33m=\u001b[0m\u001b[0mn_jobs\u001b[0m\u001b[1;33m,\u001b[0m \u001b[0mverbose\u001b[0m\u001b[1;33m=\u001b[0m\u001b[0mverbose\u001b[0m\u001b[1;33m,\u001b[0m\u001b[1;33m\u001b[0m\u001b[1;33m\u001b[0m\u001b[0m\n",
      "\u001b[1;32mC:\\ProgramData\\Anaconda3\\lib\\site-packages\\sklearn\\utils\\validation.py\u001b[0m in \u001b[0;36minner_f\u001b[1;34m(*args, **kwargs)\u001b[0m\n\u001b[0;32m     61\u001b[0m             \u001b[0mextra_args\u001b[0m \u001b[1;33m=\u001b[0m \u001b[0mlen\u001b[0m\u001b[1;33m(\u001b[0m\u001b[0margs\u001b[0m\u001b[1;33m)\u001b[0m \u001b[1;33m-\u001b[0m \u001b[0mlen\u001b[0m\u001b[1;33m(\u001b[0m\u001b[0mall_args\u001b[0m\u001b[1;33m)\u001b[0m\u001b[1;33m\u001b[0m\u001b[1;33m\u001b[0m\u001b[0m\n\u001b[0;32m     62\u001b[0m             \u001b[1;32mif\u001b[0m \u001b[0mextra_args\u001b[0m \u001b[1;33m<=\u001b[0m \u001b[1;36m0\u001b[0m\u001b[1;33m:\u001b[0m\u001b[1;33m\u001b[0m\u001b[1;33m\u001b[0m\u001b[0m\n\u001b[1;32m---> 63\u001b[1;33m                 \u001b[1;32mreturn\u001b[0m \u001b[0mf\u001b[0m\u001b[1;33m(\u001b[0m\u001b[1;33m*\u001b[0m\u001b[0margs\u001b[0m\u001b[1;33m,\u001b[0m \u001b[1;33m**\u001b[0m\u001b[0mkwargs\u001b[0m\u001b[1;33m)\u001b[0m\u001b[1;33m\u001b[0m\u001b[1;33m\u001b[0m\u001b[0m\n\u001b[0m\u001b[0;32m     64\u001b[0m \u001b[1;33m\u001b[0m\u001b[0m\n\u001b[0;32m     65\u001b[0m             \u001b[1;31m# extra_args > 0\u001b[0m\u001b[1;33m\u001b[0m\u001b[1;33m\u001b[0m\u001b[0m\n",
      "\u001b[1;32mC:\\ProgramData\\Anaconda3\\lib\\site-packages\\sklearn\\model_selection\\_validation.py\u001b[0m in \u001b[0;36mcross_validate\u001b[1;34m(estimator, X, y, groups, scoring, cv, n_jobs, verbose, fit_params, pre_dispatch, return_train_score, return_estimator, error_score)\u001b[0m\n\u001b[0;32m    248\u001b[0m     parallel = Parallel(n_jobs=n_jobs, verbose=verbose,\n\u001b[0;32m    249\u001b[0m                         pre_dispatch=pre_dispatch)\n\u001b[1;32m--> 250\u001b[1;33m     results = parallel(\n\u001b[0m\u001b[0;32m    251\u001b[0m         delayed(_fit_and_score)(\n\u001b[0;32m    252\u001b[0m             \u001b[0mclone\u001b[0m\u001b[1;33m(\u001b[0m\u001b[0mestimator\u001b[0m\u001b[1;33m)\u001b[0m\u001b[1;33m,\u001b[0m \u001b[0mX\u001b[0m\u001b[1;33m,\u001b[0m \u001b[0my\u001b[0m\u001b[1;33m,\u001b[0m \u001b[0mscorers\u001b[0m\u001b[1;33m,\u001b[0m \u001b[0mtrain\u001b[0m\u001b[1;33m,\u001b[0m \u001b[0mtest\u001b[0m\u001b[1;33m,\u001b[0m \u001b[0mverbose\u001b[0m\u001b[1;33m,\u001b[0m \u001b[1;32mNone\u001b[0m\u001b[1;33m,\u001b[0m\u001b[1;33m\u001b[0m\u001b[1;33m\u001b[0m\u001b[0m\n",
      "\u001b[1;32mC:\\ProgramData\\Anaconda3\\lib\\site-packages\\joblib\\parallel.py\u001b[0m in \u001b[0;36m__call__\u001b[1;34m(self, iterable)\u001b[0m\n\u001b[0;32m   1041\u001b[0m             \u001b[1;31m# remaining jobs.\u001b[0m\u001b[1;33m\u001b[0m\u001b[1;33m\u001b[0m\u001b[0m\n\u001b[0;32m   1042\u001b[0m             \u001b[0mself\u001b[0m\u001b[1;33m.\u001b[0m\u001b[0m_iterating\u001b[0m \u001b[1;33m=\u001b[0m \u001b[1;32mFalse\u001b[0m\u001b[1;33m\u001b[0m\u001b[1;33m\u001b[0m\u001b[0m\n\u001b[1;32m-> 1043\u001b[1;33m             \u001b[1;32mif\u001b[0m \u001b[0mself\u001b[0m\u001b[1;33m.\u001b[0m\u001b[0mdispatch_one_batch\u001b[0m\u001b[1;33m(\u001b[0m\u001b[0miterator\u001b[0m\u001b[1;33m)\u001b[0m\u001b[1;33m:\u001b[0m\u001b[1;33m\u001b[0m\u001b[1;33m\u001b[0m\u001b[0m\n\u001b[0m\u001b[0;32m   1044\u001b[0m                 \u001b[0mself\u001b[0m\u001b[1;33m.\u001b[0m\u001b[0m_iterating\u001b[0m \u001b[1;33m=\u001b[0m \u001b[0mself\u001b[0m\u001b[1;33m.\u001b[0m\u001b[0m_original_iterator\u001b[0m \u001b[1;32mis\u001b[0m \u001b[1;32mnot\u001b[0m \u001b[1;32mNone\u001b[0m\u001b[1;33m\u001b[0m\u001b[1;33m\u001b[0m\u001b[0m\n\u001b[0;32m   1045\u001b[0m \u001b[1;33m\u001b[0m\u001b[0m\n",
      "\u001b[1;32mC:\\ProgramData\\Anaconda3\\lib\\site-packages\\joblib\\parallel.py\u001b[0m in \u001b[0;36mdispatch_one_batch\u001b[1;34m(self, iterator)\u001b[0m\n\u001b[0;32m    831\u001b[0m                 \u001b[0mbig_batch_size\u001b[0m \u001b[1;33m=\u001b[0m \u001b[0mbatch_size\u001b[0m \u001b[1;33m*\u001b[0m \u001b[0mn_jobs\u001b[0m\u001b[1;33m\u001b[0m\u001b[1;33m\u001b[0m\u001b[0m\n\u001b[0;32m    832\u001b[0m \u001b[1;33m\u001b[0m\u001b[0m\n\u001b[1;32m--> 833\u001b[1;33m                 \u001b[0mislice\u001b[0m \u001b[1;33m=\u001b[0m \u001b[0mlist\u001b[0m\u001b[1;33m(\u001b[0m\u001b[0mitertools\u001b[0m\u001b[1;33m.\u001b[0m\u001b[0mislice\u001b[0m\u001b[1;33m(\u001b[0m\u001b[0miterator\u001b[0m\u001b[1;33m,\u001b[0m \u001b[0mbig_batch_size\u001b[0m\u001b[1;33m)\u001b[0m\u001b[1;33m)\u001b[0m\u001b[1;33m\u001b[0m\u001b[1;33m\u001b[0m\u001b[0m\n\u001b[0m\u001b[0;32m    834\u001b[0m                 \u001b[1;32mif\u001b[0m \u001b[0mlen\u001b[0m\u001b[1;33m(\u001b[0m\u001b[0mislice\u001b[0m\u001b[1;33m)\u001b[0m \u001b[1;33m==\u001b[0m \u001b[1;36m0\u001b[0m\u001b[1;33m:\u001b[0m\u001b[1;33m\u001b[0m\u001b[1;33m\u001b[0m\u001b[0m\n\u001b[0;32m    835\u001b[0m                     \u001b[1;32mreturn\u001b[0m \u001b[1;32mFalse\u001b[0m\u001b[1;33m\u001b[0m\u001b[1;33m\u001b[0m\u001b[0m\n",
      "\u001b[1;32mC:\\ProgramData\\Anaconda3\\lib\\site-packages\\sklearn\\model_selection\\_validation.py\u001b[0m in \u001b[0;36m<genexpr>\u001b[1;34m(.0)\u001b[0m\n\u001b[0;32m    248\u001b[0m     parallel = Parallel(n_jobs=n_jobs, verbose=verbose,\n\u001b[0;32m    249\u001b[0m                         pre_dispatch=pre_dispatch)\n\u001b[1;32m--> 250\u001b[1;33m     results = parallel(\n\u001b[0m\u001b[0;32m    251\u001b[0m         delayed(_fit_and_score)(\n\u001b[0;32m    252\u001b[0m             \u001b[0mclone\u001b[0m\u001b[1;33m(\u001b[0m\u001b[0mestimator\u001b[0m\u001b[1;33m)\u001b[0m\u001b[1;33m,\u001b[0m \u001b[0mX\u001b[0m\u001b[1;33m,\u001b[0m \u001b[0my\u001b[0m\u001b[1;33m,\u001b[0m \u001b[0mscorers\u001b[0m\u001b[1;33m,\u001b[0m \u001b[0mtrain\u001b[0m\u001b[1;33m,\u001b[0m \u001b[0mtest\u001b[0m\u001b[1;33m,\u001b[0m \u001b[0mverbose\u001b[0m\u001b[1;33m,\u001b[0m \u001b[1;32mNone\u001b[0m\u001b[1;33m,\u001b[0m\u001b[1;33m\u001b[0m\u001b[1;33m\u001b[0m\u001b[0m\n",
      "\u001b[1;32mC:\\ProgramData\\Anaconda3\\lib\\site-packages\\sklearn\\model_selection\\_split.py\u001b[0m in \u001b[0;36msplit\u001b[1;34m(self, X, y, groups)\u001b[0m\n\u001b[0;32m    330\u001b[0m                 .format(self.n_splits, n_samples))\n\u001b[0;32m    331\u001b[0m \u001b[1;33m\u001b[0m\u001b[0m\n\u001b[1;32m--> 332\u001b[1;33m         \u001b[1;32mfor\u001b[0m \u001b[0mtrain\u001b[0m\u001b[1;33m,\u001b[0m \u001b[0mtest\u001b[0m \u001b[1;32min\u001b[0m \u001b[0msuper\u001b[0m\u001b[1;33m(\u001b[0m\u001b[1;33m)\u001b[0m\u001b[1;33m.\u001b[0m\u001b[0msplit\u001b[0m\u001b[1;33m(\u001b[0m\u001b[0mX\u001b[0m\u001b[1;33m,\u001b[0m \u001b[0my\u001b[0m\u001b[1;33m,\u001b[0m \u001b[0mgroups\u001b[0m\u001b[1;33m)\u001b[0m\u001b[1;33m:\u001b[0m\u001b[1;33m\u001b[0m\u001b[1;33m\u001b[0m\u001b[0m\n\u001b[0m\u001b[0;32m    333\u001b[0m             \u001b[1;32myield\u001b[0m \u001b[0mtrain\u001b[0m\u001b[1;33m,\u001b[0m \u001b[0mtest\u001b[0m\u001b[1;33m\u001b[0m\u001b[1;33m\u001b[0m\u001b[0m\n\u001b[0;32m    334\u001b[0m \u001b[1;33m\u001b[0m\u001b[0m\n",
      "\u001b[1;32mC:\\ProgramData\\Anaconda3\\lib\\site-packages\\sklearn\\model_selection\\_split.py\u001b[0m in \u001b[0;36msplit\u001b[1;34m(self, X, y, groups)\u001b[0m\n\u001b[0;32m     78\u001b[0m         \u001b[0mX\u001b[0m\u001b[1;33m,\u001b[0m \u001b[0my\u001b[0m\u001b[1;33m,\u001b[0m \u001b[0mgroups\u001b[0m \u001b[1;33m=\u001b[0m \u001b[0mindexable\u001b[0m\u001b[1;33m(\u001b[0m\u001b[0mX\u001b[0m\u001b[1;33m,\u001b[0m \u001b[0my\u001b[0m\u001b[1;33m,\u001b[0m \u001b[0mgroups\u001b[0m\u001b[1;33m)\u001b[0m\u001b[1;33m\u001b[0m\u001b[1;33m\u001b[0m\u001b[0m\n\u001b[0;32m     79\u001b[0m         \u001b[0mindices\u001b[0m \u001b[1;33m=\u001b[0m \u001b[0mnp\u001b[0m\u001b[1;33m.\u001b[0m\u001b[0marange\u001b[0m\u001b[1;33m(\u001b[0m\u001b[0m_num_samples\u001b[0m\u001b[1;33m(\u001b[0m\u001b[0mX\u001b[0m\u001b[1;33m)\u001b[0m\u001b[1;33m)\u001b[0m\u001b[1;33m\u001b[0m\u001b[1;33m\u001b[0m\u001b[0m\n\u001b[1;32m---> 80\u001b[1;33m         \u001b[1;32mfor\u001b[0m \u001b[0mtest_index\u001b[0m \u001b[1;32min\u001b[0m \u001b[0mself\u001b[0m\u001b[1;33m.\u001b[0m\u001b[0m_iter_test_masks\u001b[0m\u001b[1;33m(\u001b[0m\u001b[0mX\u001b[0m\u001b[1;33m,\u001b[0m \u001b[0my\u001b[0m\u001b[1;33m,\u001b[0m \u001b[0mgroups\u001b[0m\u001b[1;33m)\u001b[0m\u001b[1;33m:\u001b[0m\u001b[1;33m\u001b[0m\u001b[1;33m\u001b[0m\u001b[0m\n\u001b[0m\u001b[0;32m     81\u001b[0m             \u001b[0mtrain_index\u001b[0m \u001b[1;33m=\u001b[0m \u001b[0mindices\u001b[0m\u001b[1;33m[\u001b[0m\u001b[0mnp\u001b[0m\u001b[1;33m.\u001b[0m\u001b[0mlogical_not\u001b[0m\u001b[1;33m(\u001b[0m\u001b[0mtest_index\u001b[0m\u001b[1;33m)\u001b[0m\u001b[1;33m]\u001b[0m\u001b[1;33m\u001b[0m\u001b[1;33m\u001b[0m\u001b[0m\n\u001b[0;32m     82\u001b[0m             \u001b[0mtest_index\u001b[0m \u001b[1;33m=\u001b[0m \u001b[0mindices\u001b[0m\u001b[1;33m[\u001b[0m\u001b[0mtest_index\u001b[0m\u001b[1;33m]\u001b[0m\u001b[1;33m\u001b[0m\u001b[1;33m\u001b[0m\u001b[0m\n",
      "\u001b[1;32mC:\\ProgramData\\Anaconda3\\lib\\site-packages\\sklearn\\model_selection\\_split.py\u001b[0m in \u001b[0;36m_iter_test_masks\u001b[1;34m(self, X, y, groups)\u001b[0m\n\u001b[0;32m    691\u001b[0m \u001b[1;33m\u001b[0m\u001b[0m\n\u001b[0;32m    692\u001b[0m     \u001b[1;32mdef\u001b[0m \u001b[0m_iter_test_masks\u001b[0m\u001b[1;33m(\u001b[0m\u001b[0mself\u001b[0m\u001b[1;33m,\u001b[0m \u001b[0mX\u001b[0m\u001b[1;33m,\u001b[0m \u001b[0my\u001b[0m\u001b[1;33m=\u001b[0m\u001b[1;32mNone\u001b[0m\u001b[1;33m,\u001b[0m \u001b[0mgroups\u001b[0m\u001b[1;33m=\u001b[0m\u001b[1;32mNone\u001b[0m\u001b[1;33m)\u001b[0m\u001b[1;33m:\u001b[0m\u001b[1;33m\u001b[0m\u001b[1;33m\u001b[0m\u001b[0m\n\u001b[1;32m--> 693\u001b[1;33m         \u001b[0mtest_folds\u001b[0m \u001b[1;33m=\u001b[0m \u001b[0mself\u001b[0m\u001b[1;33m.\u001b[0m\u001b[0m_make_test_folds\u001b[0m\u001b[1;33m(\u001b[0m\u001b[0mX\u001b[0m\u001b[1;33m,\u001b[0m \u001b[0my\u001b[0m\u001b[1;33m)\u001b[0m\u001b[1;33m\u001b[0m\u001b[1;33m\u001b[0m\u001b[0m\n\u001b[0m\u001b[0;32m    694\u001b[0m         \u001b[1;32mfor\u001b[0m \u001b[0mi\u001b[0m \u001b[1;32min\u001b[0m \u001b[0mrange\u001b[0m\u001b[1;33m(\u001b[0m\u001b[0mself\u001b[0m\u001b[1;33m.\u001b[0m\u001b[0mn_splits\u001b[0m\u001b[1;33m)\u001b[0m\u001b[1;33m:\u001b[0m\u001b[1;33m\u001b[0m\u001b[1;33m\u001b[0m\u001b[0m\n\u001b[0;32m    695\u001b[0m             \u001b[1;32myield\u001b[0m \u001b[0mtest_folds\u001b[0m \u001b[1;33m==\u001b[0m \u001b[0mi\u001b[0m\u001b[1;33m\u001b[0m\u001b[1;33m\u001b[0m\u001b[0m\n",
      "\u001b[1;32mC:\\ProgramData\\Anaconda3\\lib\\site-packages\\sklearn\\model_selection\\_split.py\u001b[0m in \u001b[0;36m_make_test_folds\u001b[1;34m(self, X, y)\u001b[0m\n\u001b[0;32m    660\u001b[0m         \u001b[0mmin_groups\u001b[0m \u001b[1;33m=\u001b[0m \u001b[0mnp\u001b[0m\u001b[1;33m.\u001b[0m\u001b[0mmin\u001b[0m\u001b[1;33m(\u001b[0m\u001b[0my_counts\u001b[0m\u001b[1;33m)\u001b[0m\u001b[1;33m\u001b[0m\u001b[1;33m\u001b[0m\u001b[0m\n\u001b[0;32m    661\u001b[0m         \u001b[1;32mif\u001b[0m \u001b[0mnp\u001b[0m\u001b[1;33m.\u001b[0m\u001b[0mall\u001b[0m\u001b[1;33m(\u001b[0m\u001b[0mself\u001b[0m\u001b[1;33m.\u001b[0m\u001b[0mn_splits\u001b[0m \u001b[1;33m>\u001b[0m \u001b[0my_counts\u001b[0m\u001b[1;33m)\u001b[0m\u001b[1;33m:\u001b[0m\u001b[1;33m\u001b[0m\u001b[1;33m\u001b[0m\u001b[0m\n\u001b[1;32m--> 662\u001b[1;33m             raise ValueError(\"n_splits=%d cannot be greater than the\"\n\u001b[0m\u001b[0;32m    663\u001b[0m                              \u001b[1;34m\" number of members in each class.\"\u001b[0m\u001b[1;33m\u001b[0m\u001b[1;33m\u001b[0m\u001b[0m\n\u001b[0;32m    664\u001b[0m                              % (self.n_splits))\n",
      "\u001b[1;31mValueError\u001b[0m: n_splits=4 cannot be greater than the number of members in each class."
     ]
    }
   ],
   "source": [
    "pred_lr = lr.predict(x_test)\n",
    "from sklearn.model_selection import cross_val_score\n",
    "lss = accuracy_score(y_test,pred_lr)\n",
    "for j in range(2,10):\n",
    "    lsscore = cross_val_score(lr,x,y,cv=j)\n",
    "    lsc = lsscore.mean()\n",
    "    print(\"At CV:-\", j)\n",
    "    print(\"Cross validation score is:-\",lsc*100)\n",
    "    print(\"accuracy_score :-\", lss*100)\n",
    "    print(\"\\n\")"
   ]
  },
  {
   "cell_type": "code",
   "execution_count": 102,
   "id": "6f6f40c4",
   "metadata": {},
   "outputs": [
    {
     "name": "stdout",
     "output_type": "stream",
     "text": [
      "The cv score is:  0.10476190476190475 \n",
      "The accuracy store is:  0.6666666666666666\n"
     ]
    }
   ],
   "source": [
    "lsscore_selected = cross_val_score(lr,x,y,cv=2,).mean()\n",
    "print(\"The cv score is: \", lsscore_selected,\"\\nThe accuracy store is: \",lss)"
   ]
  },
  {
   "cell_type": "markdown",
   "id": "5dce064d",
   "metadata": {},
   "source": [
    "# The model with the Outliers:"
   ]
  },
  {
   "cell_type": "markdown",
   "id": "8bbf623c",
   "metadata": {},
   "source": [
    "# AUC ROC Curve:"
   ]
  },
  {
   "cell_type": "code",
   "execution_count": 120,
   "id": "632e39c8",
   "metadata": {},
   "outputs": [
    {
     "ename": "SyntaxError",
     "evalue": "invalid syntax (Temp/ipykernel_28856/3826286364.py, line 7)",
     "output_type": "error",
     "traceback": [
      "\u001b[1;36m  File \u001b[1;32m\"C:\\Users\\MDSHAF~1\\AppData\\Local\\Temp/ipykernel_28856/3826286364.py\"\u001b[1;36m, line \u001b[1;32m7\u001b[0m\n\u001b[1;33m    plt.plot(([0,1], [0,1], color ='navy', lw=10, linestyle= '--'))\u001b[0m\n\u001b[1;37m                                  ^\u001b[0m\n\u001b[1;31mSyntaxError\u001b[0m\u001b[1;31m:\u001b[0m invalid syntax\n"
     ]
    }
   ],
   "source": [
    "from sklearn.metrics import roc_curve,auc\n",
    "fpr, tpr, thresholds = roc_curve(pred_test,y_test)\n",
    "roc_auc = auc(fpr, tpr)\n",
    "\n",
    "plt.figure()\n",
    "plt.plot(fpr, tpr, color='darkorange', lw=10, label='ROC curve (area = %0.2f)' % roc_auc)\n",
    "plt.plot(([0,1], [0,1], color ='navy', lw=10, linestyle= '--'))\n",
    "plt.xlim([0.0, 1.0])\n",
    "plt.ylim([0.0, 1.05])\n",
    "plt.xlabel(\"False Positive Rate\")\n",
    "plt.ylabel(\"True Positive Rate\")\n",
    "plt.title(\"Receiver operating Characteristic\")\n",
    "plt.legend(loc=\"lower right\")\n",
    "plt.show()"
   ]
  },
  {
   "cell_type": "markdown",
   "id": "8d0c46c9",
   "metadata": {},
   "source": [
    "Since the model without outliers performing well.We will select the dataframe. "
   ]
  },
  {
   "cell_type": "markdown",
   "id": "c6064ffe",
   "metadata": {},
   "source": [
    "# Model Saving:"
   ]
  },
  {
   "cell_type": "code",
   "execution_count": 121,
   "id": "9708ad36",
   "metadata": {},
   "outputs": [],
   "source": [
    "import pickle\n",
    "filename = \"baseball.pkl\"\n",
    "pickle.dump(lr,open(filename, 'wb'))"
   ]
  },
  {
   "cell_type": "markdown",
   "id": "3830049a",
   "metadata": {},
   "source": [
    "# Conclusion:"
   ]
  },
  {
   "cell_type": "code",
   "execution_count": 123,
   "id": "a7ff1421",
   "metadata": {},
   "outputs": [
    {
     "data": {
      "text/html": [
       "<div>\n",
       "<style scoped>\n",
       "    .dataframe tbody tr th:only-of-type {\n",
       "        vertical-align: middle;\n",
       "    }\n",
       "\n",
       "    .dataframe tbody tr th {\n",
       "        vertical-align: top;\n",
       "    }\n",
       "\n",
       "    .dataframe thead th {\n",
       "        text-align: right;\n",
       "    }\n",
       "</style>\n",
       "<table border=\"1\" class=\"dataframe\">\n",
       "  <thead>\n",
       "    <tr style=\"text-align: right;\">\n",
       "      <th></th>\n",
       "      <th>original</th>\n",
       "      <th>predicted</th>\n",
       "    </tr>\n",
       "  </thead>\n",
       "  <tbody>\n",
       "    <tr>\n",
       "      <th>0</th>\n",
       "      <td>77</td>\n",
       "      <td>95</td>\n",
       "    </tr>\n",
       "    <tr>\n",
       "      <th>1</th>\n",
       "      <td>111</td>\n",
       "      <td>111</td>\n",
       "    </tr>\n",
       "    <tr>\n",
       "      <th>2</th>\n",
       "      <td>94</td>\n",
       "      <td>94</td>\n",
       "    </tr>\n",
       "    <tr>\n",
       "      <th>3</th>\n",
       "      <td>117</td>\n",
       "      <td>116</td>\n",
       "    </tr>\n",
       "    <tr>\n",
       "      <th>4</th>\n",
       "      <td>79</td>\n",
       "      <td>79</td>\n",
       "    </tr>\n",
       "    <tr>\n",
       "      <th>5</th>\n",
       "      <td>78</td>\n",
       "      <td>78</td>\n",
       "    </tr>\n",
       "  </tbody>\n",
       "</table>\n",
       "</div>"
      ],
      "text/plain": [
       "   original  predicted\n",
       "0        77         95\n",
       "1       111        111\n",
       "2        94         94\n",
       "3       117        116\n",
       "4        79         79\n",
       "5        78         78"
      ]
     },
     "execution_count": 123,
     "metadata": {},
     "output_type": "execute_result"
    }
   ],
   "source": [
    "import numpy as np\n",
    "a = np.array(y_test)\n",
    "predicted=np.array(lr.predict(x_test))\n",
    "df_com = pd.DataFrame({\"original\":a,\"predicted\":predicted}, index= range(len(a)))\n",
    "df_com"
   ]
  },
  {
   "cell_type": "markdown",
   "id": "bef535fe",
   "metadata": {},
   "source": [
    "We can visualize there is no error in E using abobe model."
   ]
  },
  {
   "cell_type": "code",
   "execution_count": null,
   "id": "a1a495cd",
   "metadata": {},
   "outputs": [],
   "source": []
  }
 ],
 "metadata": {
  "kernelspec": {
   "display_name": "Python 3 (ipykernel)",
   "language": "python",
   "name": "python3"
  },
  "language_info": {
   "codemirror_mode": {
    "name": "ipython",
    "version": 3
   },
   "file_extension": ".py",
   "mimetype": "text/x-python",
   "name": "python",
   "nbconvert_exporter": "python",
   "pygments_lexer": "ipython3",
   "version": "3.9.7"
  }
 },
 "nbformat": 4,
 "nbformat_minor": 5
}
